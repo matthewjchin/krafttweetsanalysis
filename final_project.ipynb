{
 "cells": [
  {
   "cell_type": "markdown",
   "id": "ded6a00c7bfbeeae",
   "metadata": {
    "collapsed": false,
    "jupyter": {
     "outputs_hidden": false
    }
   },
   "source": [
    "<h1>Text Analysis Clustering</h1>\n",
    "\n",
    "This is an analysis of text data from a series of tweets involving the word \"Kraft\". I will be doing exploratory data analysis as well as clustering to present the categorization and relevance of key words in each of the tweets to see what was most discussed in this dataset of tweets. \n",
    "\n",
    "In this data, the data in which \"Kraft\" was mentioned was tied mostly to the following. It is not representative of all the tweets in the dataset but were the most prominent.<br>\n",
    "- Robert Kraft, New England Patriots CEO and President\n",
    "- Kraft Foods, a food company that has made products such as Kraft Macaroni & Cheese, Miracle Whip, and Kraft Singles, among others; now a part of Kraft Heinz Company\n",
    "\n",
    "\n"
   ]
  },
  {
   "cell_type": "markdown",
   "id": "672d734d12b28f11",
   "metadata": {
    "collapsed": false,
    "jupyter": {
     "outputs_hidden": false
    }
   },
   "source": [
    "<h1>Introduction</h1>\n",
    "\n",
    "Data is from Kaggle: https://www.kaggle.com/datasets/ranand60/unstructured-text-language-data/data\n",
    "\n",
    "<br>\n",
    "\n",
    "Since the data came from a Microsoft Excel File (.xlsx), install the following libraries in this notebook: openpyxl, xlrd.\n",
    "\n",
    "The other libraries to be imported: Pandas, NumPy, Matplotlib"
   ]
  },
  {
   "cell_type": "code",
   "execution_count": 54,
   "id": "initial_id",
   "metadata": {
    "ExecuteTime": {
     "end_time": "2024-08-13T18:29:12.851194600Z",
     "start_time": "2024-08-13T18:29:12.638989100Z"
    }
   },
   "outputs": [],
   "source": [
    "import openpyxl\n",
    "import pandas as pd\n",
    "import matplotlib.pyplot as plt\n",
    "import numpy as np"
   ]
  },
  {
   "cell_type": "code",
   "execution_count": 55,
   "id": "4664499d71183052",
   "metadata": {
    "ExecuteTime": {
     "end_time": "2024-08-13T18:29:17.320744600Z",
     "start_time": "2024-08-13T18:29:12.675111100Z"
    },
    "collapsed": false,
    "jupyter": {
     "outputs_hidden": false
    }
   },
   "outputs": [
    {
     "name": "stdout",
     "output_type": "stream",
     "text": [
      "Requirement already satisfied: openpyxl in /Users/mattjchin/opt/anaconda3/envs/matt_py31010/lib/python3.10/site-packages (3.1.5)\n",
      "Requirement already satisfied: et-xmlfile in /Users/mattjchin/opt/anaconda3/envs/matt_py31010/lib/python3.10/site-packages (from openpyxl) (1.1.0)\n",
      "Note: you may need to restart the kernel to use updated packages.\n"
     ]
    }
   ],
   "source": [
    "pip install openpyxl"
   ]
  },
  {
   "cell_type": "code",
   "execution_count": 56,
   "id": "61129feb-1180-4393-b515-e549aee99901",
   "metadata": {
    "ExecuteTime": {
     "end_time": "2024-08-13T18:29:21.241919900Z",
     "start_time": "2024-08-13T18:29:17.322742100Z"
    }
   },
   "outputs": [
    {
     "name": "stdout",
     "output_type": "stream",
     "text": [
      "Requirement already satisfied: xlrd in /Users/mattjchin/opt/anaconda3/envs/matt_py31010/lib/python3.10/site-packages (2.0.1)\n",
      "Note: you may need to restart the kernel to use updated packages.\n"
     ]
    }
   ],
   "source": [
    "pip install xlrd"
   ]
  },
  {
   "cell_type": "code",
   "execution_count": 57,
   "id": "7552524858871037",
   "metadata": {
    "ExecuteTime": {
     "end_time": "2024-08-13T18:29:21.952090Z",
     "start_time": "2024-08-13T18:29:21.244918800Z"
    },
    "collapsed": false,
    "jupyter": {
     "outputs_hidden": false
    }
   },
   "outputs": [],
   "source": [
    "text_frame = pd.read_excel('Unstructured Data English.xlsx')"
   ]
  },
  {
   "cell_type": "code",
   "execution_count": 58,
   "id": "b8a64474a22b0b40",
   "metadata": {
    "ExecuteTime": {
     "end_time": "2024-08-13T18:29:22.014054500Z",
     "start_time": "2024-08-13T18:29:21.955088900Z"
    },
    "collapsed": false,
    "jupyter": {
     "outputs_hidden": false
    }
   },
   "outputs": [
    {
     "data": {
      "text/html": [
       "<div>\n",
       "<style scoped>\n",
       "    .dataframe tbody tr th:only-of-type {\n",
       "        vertical-align: middle;\n",
       "    }\n",
       "\n",
       "    .dataframe tbody tr th {\n",
       "        vertical-align: top;\n",
       "    }\n",
       "\n",
       "    .dataframe thead th {\n",
       "        text-align: right;\n",
       "    }\n",
       "</style>\n",
       "<table border=\"1\" class=\"dataframe\">\n",
       "  <thead>\n",
       "    <tr style=\"text-align: right;\">\n",
       "      <th></th>\n",
       "      <th>ID</th>\n",
       "      <th>Katakana text Translated</th>\n",
       "      <th>Unnamed: 2</th>\n",
       "    </tr>\n",
       "  </thead>\n",
       "  <tbody>\n",
       "    <tr>\n",
       "      <th>0</th>\n",
       "      <td>1</td>\n",
       "      <td>Huge @Patriots pep rally at Toso's in PHX...wa...</td>\n",
       "      <td>NaN</td>\n",
       "    </tr>\n",
       "    <tr>\n",
       "      <th>1</th>\n",
       "      <td>2</td>\n",
       "      <td>For Robert Kraft and Roger Goodell air still i...</td>\n",
       "      <td>NaN</td>\n",
       "    </tr>\n",
       "    <tr>\n",
       "      <th>2</th>\n",
       "      <td>3</td>\n",
       "      <td>For Robert Kraft and Roger Goodell air still i...</td>\n",
       "      <td>NaN</td>\n",
       "    </tr>\n",
       "    <tr>\n",
       "      <th>3</th>\n",
       "      <td>4</td>\n",
       "      <td>Need #recipes? Visit the Kraft #CookingUpGood ...</td>\n",
       "      <td>NaN</td>\n",
       "    </tr>\n",
       "    <tr>\n",
       "      <th>4</th>\n",
       "      <td>5</td>\n",
       "      <td>@EdgeofSports You take the good-You take the b...</td>\n",
       "      <td>NaN</td>\n",
       "    </tr>\n",
       "  </tbody>\n",
       "</table>\n",
       "</div>"
      ],
      "text/plain": [
       "   ID                           Katakana text Translated Unnamed: 2\n",
       "0   1  Huge @Patriots pep rally at Toso's in PHX...wa...        NaN\n",
       "1   2  For Robert Kraft and Roger Goodell air still i...        NaN\n",
       "2   3  For Robert Kraft and Roger Goodell air still i...        NaN\n",
       "3   4  Need #recipes? Visit the Kraft #CookingUpGood ...        NaN\n",
       "4   5  @EdgeofSports You take the good-You take the b...        NaN"
      ]
     },
     "execution_count": 58,
     "metadata": {},
     "output_type": "execute_result"
    }
   ],
   "source": [
    "text_frame.head()"
   ]
  },
  {
   "cell_type": "code",
   "execution_count": 60,
   "id": "f528da0d",
   "metadata": {},
   "outputs": [
    {
     "data": {
      "text/plain": [
       "Index(['ID', 'Katakana text Translated', 'Unnamed: 2'], dtype='object')"
      ]
     },
     "execution_count": 60,
     "metadata": {},
     "output_type": "execute_result"
    }
   ],
   "source": [
    "# Get the name of the columns\n",
    "text_frame.columns"
   ]
  },
  {
   "cell_type": "code",
   "execution_count": 61,
   "id": "fa5eef4c65f62e6e",
   "metadata": {
    "ExecuteTime": {
     "end_time": "2024-08-13T18:29:22.163213300Z",
     "start_time": "2024-08-13T18:29:21.993068600Z"
    },
    "collapsed": false,
    "jupyter": {
     "outputs_hidden": false
    }
   },
   "outputs": [
    {
     "name": "stdout",
     "output_type": "stream",
     "text": [
      "<class 'pandas.core.frame.DataFrame'>\n",
      "RangeIndex: 6936 entries, 0 to 6935\n",
      "Data columns (total 3 columns):\n",
      " #   Column                    Non-Null Count  Dtype \n",
      "---  ------                    --------------  ----- \n",
      " 0   ID                        6936 non-null   int64 \n",
      " 1   Katakana text Translated  6936 non-null   object\n",
      " 2   Unnamed: 2                1 non-null      object\n",
      "dtypes: int64(1), object(2)\n",
      "memory usage: 162.7+ KB\n"
     ]
    }
   ],
   "source": [
    "text_frame.info()"
   ]
  },
  {
   "cell_type": "code",
   "execution_count": 64,
   "id": "ce15afe1",
   "metadata": {},
   "outputs": [
    {
     "data": {
      "text/html": [
       "<div>\n",
       "<style scoped>\n",
       "    .dataframe tbody tr th:only-of-type {\n",
       "        vertical-align: middle;\n",
       "    }\n",
       "\n",
       "    .dataframe tbody tr th {\n",
       "        vertical-align: top;\n",
       "    }\n",
       "\n",
       "    .dataframe thead th {\n",
       "        text-align: right;\n",
       "    }\n",
       "</style>\n",
       "<table border=\"1\" class=\"dataframe\">\n",
       "  <thead>\n",
       "    <tr style=\"text-align: right;\">\n",
       "      <th></th>\n",
       "      <th>ID</th>\n",
       "      <th>Tweet</th>\n",
       "      <th>Unnamed</th>\n",
       "    </tr>\n",
       "  </thead>\n",
       "  <tbody>\n",
       "    <tr>\n",
       "      <th>0</th>\n",
       "      <td>1</td>\n",
       "      <td>Huge @Patriots pep rally at Toso's in PHX...wa...</td>\n",
       "      <td>NaN</td>\n",
       "    </tr>\n",
       "    <tr>\n",
       "      <th>1</th>\n",
       "      <td>2</td>\n",
       "      <td>For Robert Kraft and Roger Goodell air still i...</td>\n",
       "      <td>NaN</td>\n",
       "    </tr>\n",
       "    <tr>\n",
       "      <th>2</th>\n",
       "      <td>3</td>\n",
       "      <td>For Robert Kraft and Roger Goodell air still i...</td>\n",
       "      <td>NaN</td>\n",
       "    </tr>\n",
       "    <tr>\n",
       "      <th>3</th>\n",
       "      <td>4</td>\n",
       "      <td>Need #recipes? Visit the Kraft #CookingUpGood ...</td>\n",
       "      <td>NaN</td>\n",
       "    </tr>\n",
       "    <tr>\n",
       "      <th>4</th>\n",
       "      <td>5</td>\n",
       "      <td>@EdgeofSports You take the good-You take the b...</td>\n",
       "      <td>NaN</td>\n",
       "    </tr>\n",
       "    <tr>\n",
       "      <th>...</th>\n",
       "      <td>...</td>\n",
       "      <td>...</td>\n",
       "      <td>...</td>\n",
       "    </tr>\n",
       "    <tr>\n",
       "      <th>6931</th>\n",
       "      <td>6932</td>\n",
       "      <td>CHEESE IN MY POCKETS VELVEETA\"</td>\n",
       "      <td>NaN</td>\n",
       "    </tr>\n",
       "    <tr>\n",
       "      <th>6932</th>\n",
       "      <td>6933</td>\n",
       "      <td>But why somebody just posted a pic on my fb fe...</td>\n",
       "      <td>NaN</td>\n",
       "    </tr>\n",
       "    <tr>\n",
       "      <th>6933</th>\n",
       "      <td>6934</td>\n",
       "      <td>Cheese in my pockets .. Velveeta</td>\n",
       "      <td>NaN</td>\n",
       "    </tr>\n",
       "    <tr>\n",
       "      <th>6934</th>\n",
       "      <td>6935</td>\n",
       "      <td>Cheese in my pocket Velveeta !</td>\n",
       "      <td>NaN</td>\n",
       "    </tr>\n",
       "    <tr>\n",
       "      <th>6935</th>\n",
       "      <td>6936</td>\n",
       "      <td>Get a #Save $1 off #Kraft Natural #Cheese Prod...</td>\n",
       "      <td>NaN</td>\n",
       "    </tr>\n",
       "  </tbody>\n",
       "</table>\n",
       "<p>6936 rows × 3 columns</p>\n",
       "</div>"
      ],
      "text/plain": [
       "        ID                                              Tweet Unnamed\n",
       "0        1  Huge @Patriots pep rally at Toso's in PHX...wa...     NaN\n",
       "1        2  For Robert Kraft and Roger Goodell air still i...     NaN\n",
       "2        3  For Robert Kraft and Roger Goodell air still i...     NaN\n",
       "3        4  Need #recipes? Visit the Kraft #CookingUpGood ...     NaN\n",
       "4        5  @EdgeofSports You take the good-You take the b...     NaN\n",
       "...    ...                                                ...     ...\n",
       "6931  6932                     CHEESE IN MY POCKETS VELVEETA\"     NaN\n",
       "6932  6933  But why somebody just posted a pic on my fb fe...     NaN\n",
       "6933  6934                   Cheese in my pockets .. Velveeta     NaN\n",
       "6934  6935                     Cheese in my pocket Velveeta !     NaN\n",
       "6935  6936  Get a #Save $1 off #Kraft Natural #Cheese Prod...     NaN\n",
       "\n",
       "[6936 rows x 3 columns]"
      ]
     },
     "execution_count": 64,
     "metadata": {},
     "output_type": "execute_result"
    }
   ],
   "source": [
    "# Rename column in arr_text titled 'Katakana text Translated' to 'Tweet' and 'Unnamed: 2' to 'Unnamed'\n",
    "text_frame = text_frame.rename(columns={\"ID\":\"ID\", \"Katakana text Translated\": \"Tweet\", 'Unnamed: 2':\"Unnamed\"})\n",
    "text_frame"
   ]
  },
  {
   "cell_type": "code",
   "execution_count": 65,
   "id": "96f377d2d1701471",
   "metadata": {
    "ExecuteTime": {
     "end_time": "2024-08-13T18:29:22.212463900Z",
     "start_time": "2024-08-13T18:29:22.036043600Z"
    },
    "collapsed": false,
    "jupyter": {
     "outputs_hidden": false
    }
   },
   "outputs": [
    {
     "data": {
      "text/html": [
       "<div>\n",
       "<style scoped>\n",
       "    .dataframe tbody tr th:only-of-type {\n",
       "        vertical-align: middle;\n",
       "    }\n",
       "\n",
       "    .dataframe tbody tr th {\n",
       "        vertical-align: top;\n",
       "    }\n",
       "\n",
       "    .dataframe thead th {\n",
       "        text-align: right;\n",
       "    }\n",
       "</style>\n",
       "<table border=\"1\" class=\"dataframe\">\n",
       "  <thead>\n",
       "    <tr style=\"text-align: right;\">\n",
       "      <th></th>\n",
       "      <th>ID</th>\n",
       "    </tr>\n",
       "  </thead>\n",
       "  <tbody>\n",
       "    <tr>\n",
       "      <th>count</th>\n",
       "      <td>6936.000000</td>\n",
       "    </tr>\n",
       "    <tr>\n",
       "      <th>mean</th>\n",
       "      <td>3468.500000</td>\n",
       "    </tr>\n",
       "    <tr>\n",
       "      <th>std</th>\n",
       "      <td>2002.395066</td>\n",
       "    </tr>\n",
       "    <tr>\n",
       "      <th>min</th>\n",
       "      <td>1.000000</td>\n",
       "    </tr>\n",
       "    <tr>\n",
       "      <th>25%</th>\n",
       "      <td>1734.750000</td>\n",
       "    </tr>\n",
       "    <tr>\n",
       "      <th>50%</th>\n",
       "      <td>3468.500000</td>\n",
       "    </tr>\n",
       "    <tr>\n",
       "      <th>75%</th>\n",
       "      <td>5202.250000</td>\n",
       "    </tr>\n",
       "    <tr>\n",
       "      <th>max</th>\n",
       "      <td>6936.000000</td>\n",
       "    </tr>\n",
       "  </tbody>\n",
       "</table>\n",
       "</div>"
      ],
      "text/plain": [
       "                ID\n",
       "count  6936.000000\n",
       "mean   3468.500000\n",
       "std    2002.395066\n",
       "min       1.000000\n",
       "25%    1734.750000\n",
       "50%    3468.500000\n",
       "75%    5202.250000\n",
       "max    6936.000000"
      ]
     },
     "execution_count": 65,
     "metadata": {},
     "output_type": "execute_result"
    }
   ],
   "source": [
    "text_frame.describe()"
   ]
  },
  {
   "cell_type": "code",
   "execution_count": 66,
   "id": "3a3b4dce6e8b8efa",
   "metadata": {
    "ExecuteTime": {
     "end_time": "2024-08-13T18:29:22.277971100Z",
     "start_time": "2024-08-13T18:29:22.078070700Z"
    },
    "collapsed": false,
    "jupyter": {
     "outputs_hidden": false
    }
   },
   "outputs": [
    {
     "data": {
      "text/plain": [
       "ID         6936\n",
       "Tweet      6770\n",
       "Unnamed       1\n",
       "dtype: int64"
      ]
     },
     "execution_count": 66,
     "metadata": {},
     "output_type": "execute_result"
    }
   ],
   "source": [
    "text_frame.nunique()"
   ]
  },
  {
   "cell_type": "code",
   "execution_count": 68,
   "id": "9c2f38af8dd761cc",
   "metadata": {
    "ExecuteTime": {
     "end_time": "2024-08-13T18:29:22.282968400Z",
     "start_time": "2024-08-13T18:29:22.117132400Z"
    },
    "collapsed": false,
    "jupyter": {
     "outputs_hidden": false
    }
   },
   "outputs": [
    {
     "data": {
      "text/plain": [
       "array([\"Huge @Patriots pep rally at Toso's in PHX...waiting for Mr Kraft's arrival #GoPats @PatriotsExtra http://t.co/y9NElMN6jo\",\n",
       "       \"For Robert Kraft and Roger Goodell air still isn't clear - Boston Globe http://t.co/Rw4oh3hswK #google #sport\",\n",
       "       \"For Robert Kraft and Roger Goodell air still isn't clear - Boston Globe http://t.co/yN68nBRFne #google #sport\",\n",
       "       ...,\n",
       "       '@grantlandis will you make me some Velveeta Mac and cheese with chicken?',\n",
       "       'But why somebody just posted a pic on my fb feed of velveeta shells & cheese uncle Ben\\'s brown rice or ricearoni & some frozen broccoli\"',\n",
       "       'Get a #Save $1 off #Kraft Natural #Cheese Products! #coupon http://pinterest.com/pin/446911962998255057/\\xa0…'],\n",
       "      dtype=object)"
      ]
     },
     "execution_count": 68,
     "metadata": {},
     "output_type": "execute_result"
    }
   ],
   "source": [
    "text_frame['Tweet'].unique()"
   ]
  },
  {
   "cell_type": "code",
   "execution_count": 74,
   "id": "1d28f65c2b34dce4",
   "metadata": {
    "ExecuteTime": {
     "end_time": "2024-08-13T18:29:22.529025300Z",
     "start_time": "2024-08-13T18:29:22.291964400Z"
    },
    "collapsed": false,
    "jupyter": {
     "outputs_hidden": false
    }
   },
   "outputs": [
    {
     "data": {
      "text/html": [
       "<div>\n",
       "<style scoped>\n",
       "    .dataframe tbody tr th:only-of-type {\n",
       "        vertical-align: middle;\n",
       "    }\n",
       "\n",
       "    .dataframe tbody tr th {\n",
       "        vertical-align: top;\n",
       "    }\n",
       "\n",
       "    .dataframe thead th {\n",
       "        text-align: right;\n",
       "    }\n",
       "</style>\n",
       "<table border=\"1\" class=\"dataframe\">\n",
       "  <thead>\n",
       "    <tr style=\"text-align: right;\">\n",
       "      <th></th>\n",
       "      <th>ID</th>\n",
       "      <th>Unnamed</th>\n",
       "    </tr>\n",
       "    <tr>\n",
       "      <th>Tweet</th>\n",
       "      <th></th>\n",
       "      <th></th>\n",
       "    </tr>\n",
       "  </thead>\n",
       "  <tbody>\n",
       "    <tr>\n",
       "      <th>\" GOD Mom you cannot just throw Velveeta on top of the MacN'cheese you have to strategically mix that in!\" an actual sentence I just said</th>\n",
       "      <td>1</td>\n",
       "      <td>0</td>\n",
       "    </tr>\n",
       "    <tr>\n",
       "      <th>\" if you look like you drink velveeta cheese I'm attracted to you.\"\"\"</th>\n",
       "      <td>1</td>\n",
       "      <td>0</td>\n",
       "    </tr>\n",
       "    <tr>\n",
       "      <th>\"@ Giovanni if we do not date there is a giant possible chance of us kissing before we are married.\" @nat_kraft &lt;ed&gt;&lt;U+00A0&gt;&lt;U+00BD&gt;&lt;ed&gt;&lt;U+00B8&gt;&lt;U+0082&gt;&lt;ed&gt;&lt;U+00A0&gt;&lt;U+00BD&gt;&lt;ed&gt;&lt;U+00B8&gt;&lt;U+0082&gt;&lt;ed&gt;&lt;U+00A0&gt;&lt;U+00BD&gt;&lt;ed&gt;&lt;U+00B8&gt;&lt;U+0082&gt;&lt;ed&gt;&lt;U+00A0&gt;&lt;U+00BD&gt;&lt;ed&gt;&lt;U+00B8&gt;&lt;U+0082&gt;</th>\n",
       "      <td>1</td>\n",
       "      <td>0</td>\n",
       "    </tr>\n",
       "    <tr>\n",
       "      <th>\"@1ne_hunit: Niggas try to rob we 30'd up @keem60k let these niggas kno bro\" cheese in our pocket Velveeta #60k bitch</th>\n",
       "      <td>1</td>\n",
       "      <td>0</td>\n",
       "    </tr>\n",
       "    <tr>\n",
       "      <th>\"@BSO: Photos: Bob Kraft's Ex-Model Girlfriend Ricki Lander http://t.co/43ewrNA15J http://t.co/AT4cw2NSFu\" shit is comical play on</th>\n",
       "      <td>1</td>\n",
       "      <td>0</td>\n",
       "    </tr>\n",
       "    <tr>\n",
       "      <th>...</th>\n",
       "      <td>...</td>\n",
       "      <td>...</td>\n",
       "    </tr>\n",
       "    <tr>\n",
       "      <th>“@trevellhudson: try to rob bitch we .30'd up!”cheese in my pocket velveeta</th>\n",
       "      <td>1</td>\n",
       "      <td>0</td>\n",
       "    </tr>\n",
       "    <tr>\n",
       "      <th>“@wright_2015: I wonder what macaroni would taste like with Velveeta cheese” @darbyallyson_ the girl at Walgreens</th>\n",
       "      <td>1</td>\n",
       "      <td>0</td>\n",
       "    </tr>\n",
       "    <tr>\n",
       "      <th>“@xo_beeonca: “@lynaalovee: @AbbyyFlores_ and @xo_beeonca always have the good cheese .” best cheese in town.” That velveeta</th>\n",
       "      <td>1</td>\n",
       "      <td>0</td>\n",
       "    </tr>\n",
       "    <tr>\n",
       "      <th>“GODS HATE FIGS” just about had kraft dinner all over my monitor @slurms. Tx. http://t.co/BHBXFrijlT</th>\n",
       "      <td>1</td>\n",
       "      <td>0</td>\n",
       "    </tr>\n",
       "    <tr>\n",
       "      <th>“I do not remember either Mr. Kraft or the ring Putin said years later. \"They handed out some sorts of souvenirs.\" http://t.co/H9MaKW97Rg</th>\n",
       "      <td>1</td>\n",
       "      <td>0</td>\n",
       "    </tr>\n",
       "  </tbody>\n",
       "</table>\n",
       "<p>6770 rows × 2 columns</p>\n",
       "</div>"
      ],
      "text/plain": [
       "                                                    ID  Unnamed\n",
       "Tweet                                                          \n",
       "\" GOD Mom you cannot just throw Velveeta on top...   1        0\n",
       "\" if you look like you drink velveeta cheese I'...   1        0\n",
       "\"@ Giovanni if we do not date there is a giant ...   1        0\n",
       "\"@1ne_hunit: Niggas try to rob we 30'd up @keem...   1        0\n",
       "\"@BSO: Photos: Bob Kraft's Ex-Model Girlfriend ...   1        0\n",
       "...                                                 ..      ...\n",
       "“@trevellhudson: try to rob bitch we .30'd up!”...   1        0\n",
       "“@wright_2015: I wonder what macaroni would tas...   1        0\n",
       "“@xo_beeonca: “@lynaalovee: @AbbyyFlores_ and @...   1        0\n",
       "“GODS HATE FIGS” just about had kraft dinner al...   1        0\n",
       "“I do not remember either Mr. Kraft or the ring...   1        0\n",
       "\n",
       "[6770 rows x 2 columns]"
      ]
     },
     "execution_count": 74,
     "metadata": {},
     "output_type": "execute_result"
    }
   ],
   "source": [
    "text_frame.groupby('Tweet').nunique()"
   ]
  },
  {
   "cell_type": "code",
   "execution_count": 75,
   "id": "b62314f1143d3e4e",
   "metadata": {
    "ExecuteTime": {
     "end_time": "2024-08-13T18:29:22.558134Z",
     "start_time": "2024-08-13T18:29:22.366033300Z"
    },
    "collapsed": false,
    "jupyter": {
     "outputs_hidden": false
    }
   },
   "outputs": [
    {
     "data": {
      "text/html": [
       "<div>\n",
       "<style scoped>\n",
       "    .dataframe tbody tr th:only-of-type {\n",
       "        vertical-align: middle;\n",
       "    }\n",
       "\n",
       "    .dataframe tbody tr th {\n",
       "        vertical-align: top;\n",
       "    }\n",
       "\n",
       "    .dataframe thead th {\n",
       "        text-align: right;\n",
       "    }\n",
       "</style>\n",
       "<table border=\"1\" class=\"dataframe\">\n",
       "  <thead>\n",
       "    <tr style=\"text-align: right;\">\n",
       "      <th></th>\n",
       "      <th>ID</th>\n",
       "      <th>Tweet</th>\n",
       "      <th>Unnamed</th>\n",
       "    </tr>\n",
       "  </thead>\n",
       "  <tbody>\n",
       "    <tr>\n",
       "      <th>13</th>\n",
       "      <td>14</td>\n",
       "      <td>check this out For Robert Kraft and Roger Good...</td>\n",
       "      <td>NaN</td>\n",
       "    </tr>\n",
       "    <tr>\n",
       "      <th>470</th>\n",
       "      <td>471</td>\n",
       "      <td>#sports Kraft on speech: I didn't like being u...</td>\n",
       "      <td>NaN</td>\n",
       "    </tr>\n",
       "    <tr>\n",
       "      <th>1673</th>\n",
       "      <td>1674</td>\n",
       "      <td>Roger Goodell on deflategate investigation Kra...</td>\n",
       "      <td>NaN</td>\n",
       "    </tr>\n",
       "    <tr>\n",
       "      <th>1866</th>\n",
       "      <td>1867</td>\n",
       "      <td>check this out Myers: Goodell won't Kraft apol...</td>\n",
       "      <td>NaN</td>\n",
       "    </tr>\n",
       "    <tr>\n",
       "      <th>1943</th>\n",
       "      <td>1944</td>\n",
       "      <td>Myers: Goodell won't Kraft apology for Deflate...</td>\n",
       "      <td>NaN</td>\n",
       "    </tr>\n",
       "    <tr>\n",
       "      <th>1953</th>\n",
       "      <td>1954</td>\n",
       "      <td>Belichick Carroll both say they owe a bundle t...</td>\n",
       "      <td>NaN</td>\n",
       "    </tr>\n",
       "    <tr>\n",
       "      <th>2362</th>\n",
       "      <td>2363</td>\n",
       "      <td>she had on athletic booster club shirt on too ...</td>\n",
       "      <td>NaN</td>\n",
       "    </tr>\n",
       "    <tr>\n",
       "      <th>2384</th>\n",
       "      <td>2385</td>\n",
       "      <td>More on Robert Kraft's absence from Roger Good...</td>\n",
       "      <td>NaN</td>\n",
       "    </tr>\n",
       "    <tr>\n",
       "      <th>2552</th>\n",
       "      <td>2553</td>\n",
       "      <td>RT @PCreighton1: Its #PCandADB 6-11p @sportsra...</td>\n",
       "      <td>NaN</td>\n",
       "    </tr>\n",
       "    <tr>\n",
       "      <th>2554</th>\n",
       "      <td>2555</td>\n",
       "      <td>Its #PCandADB 6-11p @sportsradio610 @ADBsports...</td>\n",
       "      <td>NaN</td>\n",
       "    </tr>\n",
       "    <tr>\n",
       "      <th>2921</th>\n",
       "      <td>2922</td>\n",
       "      <td>It’s Game On between Roger Goodell and Robert ...</td>\n",
       "      <td>NaN</td>\n",
       "    </tr>\n",
       "    <tr>\n",
       "      <th>3143</th>\n",
       "      <td>3144</td>\n",
       "      <td>@jaymohr37 Goodell works for the owners... esp...</td>\n",
       "      <td>NaN</td>\n",
       "    </tr>\n",
       "    <tr>\n",
       "      <th>3146</th>\n",
       "      <td>3147</td>\n",
       "      <td>RT @jasonrmcintyre: Pow MT @sportsrapport: Ric...</td>\n",
       "      <td>NaN</td>\n",
       "    </tr>\n",
       "    <tr>\n",
       "      <th>3202</th>\n",
       "      <td>3203</td>\n",
       "      <td>@jaymohr37 Goodell loves going to Kraft's home...</td>\n",
       "      <td>NaN</td>\n",
       "    </tr>\n",
       "    <tr>\n",
       "      <th>3215</th>\n",
       "      <td>3216</td>\n",
       "      <td>@jaymohr37 Im not a committee. Robert Kraft Le...</td>\n",
       "      <td>NaN</td>\n",
       "    </tr>\n",
       "    <tr>\n",
       "      <th>3295</th>\n",
       "      <td>3296</td>\n",
       "      <td>@jaymohr37 #RogerGoodell has a new favorite ch...</td>\n",
       "      <td>NaN</td>\n",
       "    </tr>\n",
       "    <tr>\n",
       "      <th>3327</th>\n",
       "      <td>3328</td>\n",
       "      <td>@GraveDigger_12 @ClydeEDawkins Kraft is one of...</td>\n",
       "      <td>NaN</td>\n",
       "    </tr>\n",
       "    <tr>\n",
       "      <th>3704</th>\n",
       "      <td>3705</td>\n",
       "      <td>@SedanoESPN @SedanoAndStink @markschlereth @sp...</td>\n",
       "      <td>NaN</td>\n",
       "    </tr>\n",
       "    <tr>\n",
       "      <th>3964</th>\n",
       "      <td>3965</td>\n",
       "      <td># sports news Patriots owner Kraft stands fron...</td>\n",
       "      <td>NaN</td>\n",
       "    </tr>\n",
       "    <tr>\n",
       "      <th>3965</th>\n",
       "      <td>3966</td>\n",
       "      <td># sports news Patriots owner Kraft stands fron...</td>\n",
       "      <td>NaN</td>\n",
       "    </tr>\n",
       "    <tr>\n",
       "      <th>3966</th>\n",
       "      <td>3967</td>\n",
       "      <td># sports news Patriots owner Kraft stands fron...</td>\n",
       "      <td>NaN</td>\n",
       "    </tr>\n",
       "    <tr>\n",
       "      <th>4023</th>\n",
       "      <td>4024</td>\n",
       "      <td>@janesports Rumor has it Kraft owes Goodell a ...</td>\n",
       "      <td>NaN</td>\n",
       "    </tr>\n",
       "    <tr>\n",
       "      <th>4034</th>\n",
       "      <td>4035</td>\n",
       "      <td>RT @janesports: Customarily the Super Bowl tea...</td>\n",
       "      <td>NaN</td>\n",
       "    </tr>\n",
       "    <tr>\n",
       "      <th>4198</th>\n",
       "      <td>4199</td>\n",
       "      <td>#sports Patriots owner Kraft stands front-and-...</td>\n",
       "      <td>NaN</td>\n",
       "    </tr>\n",
       "    <tr>\n",
       "      <th>5035</th>\n",
       "      <td>5036</td>\n",
       "      <td>@davehydesports Bob Kraft demanding apologies ...</td>\n",
       "      <td>NaN</td>\n",
       "    </tr>\n",
       "    <tr>\n",
       "      <th>5114</th>\n",
       "      <td>5115</td>\n",
       "      <td>RT @NYCsportsPUNK: @LillyAnnFraizer @BrianStra...</td>\n",
       "      <td>NaN</td>\n",
       "    </tr>\n",
       "    <tr>\n",
       "      <th>5117</th>\n",
       "      <td>5118</td>\n",
       "      <td>World of New England Patriots owner Robert Kra...</td>\n",
       "      <td>NaN</td>\n",
       "    </tr>\n",
       "    <tr>\n",
       "      <th>5897</th>\n",
       "      <td>5898</td>\n",
       "      <td>But @JerryThorton Barstool sports / @WEEI abso...</td>\n",
       "      <td>NaN</td>\n",
       "    </tr>\n",
       "    <tr>\n",
       "      <th>5903</th>\n",
       "      <td>5904</td>\n",
       "      <td>RT @nypostsports: Did you have any doubts that...</td>\n",
       "      <td>NaN</td>\n",
       "    </tr>\n",
       "    <tr>\n",
       "      <th>6420</th>\n",
       "      <td>6421</td>\n",
       "      <td>@jaymohr37 #RogerGoodell loves \"Kraft Cheese\"....</td>\n",
       "      <td>NaN</td>\n",
       "    </tr>\n",
       "    <tr>\n",
       "      <th>6781</th>\n",
       "      <td>6782</td>\n",
       "      <td>Goodell favoring that Kraft cheese. I'm sayin....</td>\n",
       "      <td>NaN</td>\n",
       "    </tr>\n",
       "  </tbody>\n",
       "</table>\n",
       "</div>"
      ],
      "text/plain": [
       "        ID                                              Tweet Unnamed\n",
       "13      14  check this out For Robert Kraft and Roger Good...     NaN\n",
       "470    471  #sports Kraft on speech: I didn't like being u...     NaN\n",
       "1673  1674  Roger Goodell on deflategate investigation Kra...     NaN\n",
       "1866  1867  check this out Myers: Goodell won't Kraft apol...     NaN\n",
       "1943  1944  Myers: Goodell won't Kraft apology for Deflate...     NaN\n",
       "1953  1954  Belichick Carroll both say they owe a bundle t...     NaN\n",
       "2362  2363  she had on athletic booster club shirt on too ...     NaN\n",
       "2384  2385  More on Robert Kraft's absence from Roger Good...     NaN\n",
       "2552  2553  RT @PCreighton1: Its #PCandADB 6-11p @sportsra...     NaN\n",
       "2554  2555  Its #PCandADB 6-11p @sportsradio610 @ADBsports...     NaN\n",
       "2921  2922  It’s Game On between Roger Goodell and Robert ...     NaN\n",
       "3143  3144  @jaymohr37 Goodell works for the owners... esp...     NaN\n",
       "3146  3147  RT @jasonrmcintyre: Pow MT @sportsrapport: Ric...     NaN\n",
       "3202  3203  @jaymohr37 Goodell loves going to Kraft's home...     NaN\n",
       "3215  3216  @jaymohr37 Im not a committee. Robert Kraft Le...     NaN\n",
       "3295  3296  @jaymohr37 #RogerGoodell has a new favorite ch...     NaN\n",
       "3327  3328  @GraveDigger_12 @ClydeEDawkins Kraft is one of...     NaN\n",
       "3704  3705  @SedanoESPN @SedanoAndStink @markschlereth @sp...     NaN\n",
       "3964  3965  # sports news Patriots owner Kraft stands fron...     NaN\n",
       "3965  3966  # sports news Patriots owner Kraft stands fron...     NaN\n",
       "3966  3967  # sports news Patriots owner Kraft stands fron...     NaN\n",
       "4023  4024  @janesports Rumor has it Kraft owes Goodell a ...     NaN\n",
       "4034  4035  RT @janesports: Customarily the Super Bowl tea...     NaN\n",
       "4198  4199  #sports Patriots owner Kraft stands front-and-...     NaN\n",
       "5035  5036  @davehydesports Bob Kraft demanding apologies ...     NaN\n",
       "5114  5115  RT @NYCsportsPUNK: @LillyAnnFraizer @BrianStra...     NaN\n",
       "5117  5118  World of New England Patriots owner Robert Kra...     NaN\n",
       "5897  5898  But @JerryThorton Barstool sports / @WEEI abso...     NaN\n",
       "5903  5904  RT @nypostsports: Did you have any doubts that...     NaN\n",
       "6420  6421  @jaymohr37 #RogerGoodell loves \"Kraft Cheese\"....     NaN\n",
       "6781  6782  Goodell favoring that Kraft cheese. I'm sayin....     NaN"
      ]
     },
     "execution_count": 75,
     "metadata": {},
     "output_type": "execute_result"
    }
   ],
   "source": [
    "text_frame[text_frame['Tweet'].str.contains('sports')]"
   ]
  },
  {
   "cell_type": "code",
   "execution_count": 76,
   "id": "210b50ecc874c325",
   "metadata": {
    "ExecuteTime": {
     "end_time": "2024-08-13T18:29:22.609104400Z",
     "start_time": "2024-08-13T18:29:22.413006Z"
    },
    "collapsed": false,
    "jupyter": {
     "outputs_hidden": false
    }
   },
   "outputs": [
    {
     "data": {
      "text/html": [
       "<div>\n",
       "<style scoped>\n",
       "    .dataframe tbody tr th:only-of-type {\n",
       "        vertical-align: middle;\n",
       "    }\n",
       "\n",
       "    .dataframe tbody tr th {\n",
       "        vertical-align: top;\n",
       "    }\n",
       "\n",
       "    .dataframe thead th {\n",
       "        text-align: right;\n",
       "    }\n",
       "</style>\n",
       "<table border=\"1\" class=\"dataframe\">\n",
       "  <thead>\n",
       "    <tr style=\"text-align: right;\">\n",
       "      <th></th>\n",
       "      <th>ID</th>\n",
       "      <th>Tweet</th>\n",
       "      <th>Unnamed</th>\n",
       "    </tr>\n",
       "  </thead>\n",
       "  <tbody>\n",
       "    <tr>\n",
       "      <th>0</th>\n",
       "      <td>1</td>\n",
       "      <td>Huge @Patriots pep rally at Toso's in PHX...wa...</td>\n",
       "      <td>NaN</td>\n",
       "    </tr>\n",
       "    <tr>\n",
       "      <th>39</th>\n",
       "      <td>40</td>\n",
       "      <td>Remember that time Putin may have stolen Patri...</td>\n",
       "      <td>NaN</td>\n",
       "    </tr>\n",
       "    <tr>\n",
       "      <th>54</th>\n",
       "      <td>55</td>\n",
       "      <td>The 73-Year-Old Patriots Owner Bob Kraft Has a...</td>\n",
       "      <td>NaN</td>\n",
       "    </tr>\n",
       "    <tr>\n",
       "      <th>62</th>\n",
       "      <td>63</td>\n",
       "      <td>RT @Life_and_Style: The #Patriots owner #BobKr...</td>\n",
       "      <td>NaN</td>\n",
       "    </tr>\n",
       "    <tr>\n",
       "      <th>74</th>\n",
       "      <td>75</td>\n",
       "      <td>Kraft on speech: I didn't like being unfairly ...</td>\n",
       "      <td>NaN</td>\n",
       "    </tr>\n",
       "    <tr>\n",
       "      <th>...</th>\n",
       "      <td>...</td>\n",
       "      <td>...</td>\n",
       "      <td>...</td>\n",
       "    </tr>\n",
       "    <tr>\n",
       "      <th>6635</th>\n",
       "      <td>6636</td>\n",
       "      <td>Does Robert Kraft own Kraft cheese?? That maca...</td>\n",
       "      <td>NaN</td>\n",
       "    </tr>\n",
       "    <tr>\n",
       "      <th>6662</th>\n",
       "      <td>6663</td>\n",
       "      <td>@alexmarvez @Patriots @NFLonFOX Want a second ...</td>\n",
       "      <td>NaN</td>\n",
       "    </tr>\n",
       "    <tr>\n",
       "      <th>6723</th>\n",
       "      <td>6724</td>\n",
       "      <td>Robert Kraft demands an apology whenever someo...</td>\n",
       "      <td>NaN</td>\n",
       "    </tr>\n",
       "    <tr>\n",
       "      <th>6740</th>\n",
       "      <td>6741</td>\n",
       "      <td>@robertsnell7 @GMA @ChrisEvans @CaptainAmerica...</td>\n",
       "      <td>NaN</td>\n",
       "    </tr>\n",
       "    <tr>\n",
       "      <th>6758</th>\n",
       "      <td>6759</td>\n",
       "      <td>Damn all this time I thought Robert Kraft made...</td>\n",
       "      <td>NaN</td>\n",
       "    </tr>\n",
       "  </tbody>\n",
       "</table>\n",
       "<p>532 rows × 3 columns</p>\n",
       "</div>"
      ],
      "text/plain": [
       "        ID                                              Tweet Unnamed\n",
       "0        1  Huge @Patriots pep rally at Toso's in PHX...wa...     NaN\n",
       "39      40  Remember that time Putin may have stolen Patri...     NaN\n",
       "54      55  The 73-Year-Old Patriots Owner Bob Kraft Has a...     NaN\n",
       "62      63  RT @Life_and_Style: The #Patriots owner #BobKr...     NaN\n",
       "74      75  Kraft on speech: I didn't like being unfairly ...     NaN\n",
       "...    ...                                                ...     ...\n",
       "6635  6636  Does Robert Kraft own Kraft cheese?? That maca...     NaN\n",
       "6662  6663  @alexmarvez @Patriots @NFLonFOX Want a second ...     NaN\n",
       "6723  6724  Robert Kraft demands an apology whenever someo...     NaN\n",
       "6740  6741  @robertsnell7 @GMA @ChrisEvans @CaptainAmerica...     NaN\n",
       "6758  6759  Damn all this time I thought Robert Kraft made...     NaN\n",
       "\n",
       "[532 rows x 3 columns]"
      ]
     },
     "execution_count": 76,
     "metadata": {},
     "output_type": "execute_result"
    }
   ],
   "source": [
    "text_frame[text_frame['Tweet'].str.contains('Patriots')]"
   ]
  },
  {
   "cell_type": "code",
   "execution_count": 77,
   "id": "4ba651dff398f17f",
   "metadata": {
    "ExecuteTime": {
     "end_time": "2024-08-13T18:29:22.673116800Z",
     "start_time": "2024-08-13T18:29:22.481966400Z"
    },
    "collapsed": false,
    "jupyter": {
     "outputs_hidden": false
    }
   },
   "outputs": [
    {
     "data": {
      "text/html": [
       "<div>\n",
       "<style scoped>\n",
       "    .dataframe tbody tr th:only-of-type {\n",
       "        vertical-align: middle;\n",
       "    }\n",
       "\n",
       "    .dataframe tbody tr th {\n",
       "        vertical-align: top;\n",
       "    }\n",
       "\n",
       "    .dataframe thead th {\n",
       "        text-align: right;\n",
       "    }\n",
       "</style>\n",
       "<table border=\"1\" class=\"dataframe\">\n",
       "  <thead>\n",
       "    <tr style=\"text-align: right;\">\n",
       "      <th></th>\n",
       "      <th>ID</th>\n",
       "      <th>Tweet</th>\n",
       "      <th>Unnamed</th>\n",
       "    </tr>\n",
       "  </thead>\n",
       "  <tbody>\n",
       "    <tr>\n",
       "      <th>407</th>\n",
       "      <td>408</td>\n",
       "      <td>$5.00 Off Kraft Macaroni and Cheese or Velveet...</td>\n",
       "      <td>NaN</td>\n",
       "    </tr>\n",
       "    <tr>\n",
       "      <th>2507</th>\n",
       "      <td>2508</td>\n",
       "      <td>@Scannon146 Kraft is good too. I've had better...</td>\n",
       "      <td>NaN</td>\n",
       "    </tr>\n",
       "    <tr>\n",
       "      <th>3263</th>\n",
       "      <td>3264</td>\n",
       "      <td>Velveeta over Kraft any day.</td>\n",
       "      <td>NaN</td>\n",
       "    </tr>\n",
       "    <tr>\n",
       "      <th>3287</th>\n",
       "      <td>3288</td>\n",
       "      <td>#SuperBowl #snack shopping? Hope there's no re...</td>\n",
       "      <td>NaN</td>\n",
       "    </tr>\n",
       "    <tr>\n",
       "      <th>5146</th>\n",
       "      <td>5147</td>\n",
       "      <td>Walgreens: FREE Kraft Homestyle Mac &amp;amp; Chee...</td>\n",
       "      <td>NaN</td>\n",
       "    </tr>\n",
       "    <tr>\n",
       "      <th>...</th>\n",
       "      <td>...</td>\n",
       "      <td>...</td>\n",
       "      <td>...</td>\n",
       "    </tr>\n",
       "    <tr>\n",
       "      <th>6926</th>\n",
       "      <td>6927</td>\n",
       "      <td>@bennyc50 Was it the powdered cheese mac or th...</td>\n",
       "      <td>NaN</td>\n",
       "    </tr>\n",
       "    <tr>\n",
       "      <th>6928</th>\n",
       "      <td>6929</td>\n",
       "      <td>Velveeta cheese is a fucking experience</td>\n",
       "      <td>NaN</td>\n",
       "    </tr>\n",
       "    <tr>\n",
       "      <th>6930</th>\n",
       "      <td>6931</td>\n",
       "      <td>@grantlandis will you make me some Velveeta Ma...</td>\n",
       "      <td>NaN</td>\n",
       "    </tr>\n",
       "    <tr>\n",
       "      <th>6933</th>\n",
       "      <td>6934</td>\n",
       "      <td>Cheese in my pockets .. Velveeta</td>\n",
       "      <td>NaN</td>\n",
       "    </tr>\n",
       "    <tr>\n",
       "      <th>6934</th>\n",
       "      <td>6935</td>\n",
       "      <td>Cheese in my pocket Velveeta !</td>\n",
       "      <td>NaN</td>\n",
       "    </tr>\n",
       "  </tbody>\n",
       "</table>\n",
       "<p>401 rows × 3 columns</p>\n",
       "</div>"
      ],
      "text/plain": [
       "        ID                                              Tweet Unnamed\n",
       "407    408  $5.00 Off Kraft Macaroni and Cheese or Velveet...     NaN\n",
       "2507  2508  @Scannon146 Kraft is good too. I've had better...     NaN\n",
       "3263  3264                       Velveeta over Kraft any day.     NaN\n",
       "3287  3288  #SuperBowl #snack shopping? Hope there's no re...     NaN\n",
       "5146  5147  Walgreens: FREE Kraft Homestyle Mac &amp; Chee...     NaN\n",
       "...    ...                                                ...     ...\n",
       "6926  6927  @bennyc50 Was it the powdered cheese mac or th...     NaN\n",
       "6928  6929            Velveeta cheese is a fucking experience     NaN\n",
       "6930  6931  @grantlandis will you make me some Velveeta Ma...     NaN\n",
       "6933  6934                   Cheese in my pockets .. Velveeta     NaN\n",
       "6934  6935                     Cheese in my pocket Velveeta !     NaN\n",
       "\n",
       "[401 rows x 3 columns]"
      ]
     },
     "execution_count": 77,
     "metadata": {},
     "output_type": "execute_result"
    }
   ],
   "source": [
    "text_frame[text_frame['Tweet'].str.contains('Velveeta')]"
   ]
  },
  {
   "cell_type": "code",
   "execution_count": 78,
   "id": "9a6d46bc9920b2b7",
   "metadata": {
    "ExecuteTime": {
     "end_time": "2024-08-13T18:29:22.854177500Z",
     "start_time": "2024-08-13T18:29:22.570125700Z"
    },
    "collapsed": false,
    "jupyter": {
     "outputs_hidden": false
    }
   },
   "outputs": [
    {
     "data": {
      "text/html": [
       "<div>\n",
       "<style scoped>\n",
       "    .dataframe tbody tr th:only-of-type {\n",
       "        vertical-align: middle;\n",
       "    }\n",
       "\n",
       "    .dataframe tbody tr th {\n",
       "        vertical-align: top;\n",
       "    }\n",
       "\n",
       "    .dataframe thead th {\n",
       "        text-align: right;\n",
       "    }\n",
       "</style>\n",
       "<table border=\"1\" class=\"dataframe\">\n",
       "  <thead>\n",
       "    <tr style=\"text-align: right;\">\n",
       "      <th></th>\n",
       "      <th>ID</th>\n",
       "      <th>Tweet</th>\n",
       "      <th>Unnamed</th>\n",
       "    </tr>\n",
       "  </thead>\n",
       "  <tbody>\n",
       "    <tr>\n",
       "      <th>138</th>\n",
       "      <td>139</td>\n",
       "      <td>Really craving mac and cheese!!! #Kraft</td>\n",
       "      <td>NaN</td>\n",
       "    </tr>\n",
       "    <tr>\n",
       "      <th>692</th>\n",
       "      <td>693</td>\n",
       "      <td>Never leave out the butter when making Kraft m...</td>\n",
       "      <td>NaN</td>\n",
       "    </tr>\n",
       "    <tr>\n",
       "      <th>1512</th>\n",
       "      <td>1513</td>\n",
       "      <td>I need kraft mac and cheese right fucking now</td>\n",
       "      <td>NaN</td>\n",
       "    </tr>\n",
       "    <tr>\n",
       "      <th>1816</th>\n",
       "      <td>1817</td>\n",
       "      <td>RT @samm_chino: Kraft mac and cheese gossip gi...</td>\n",
       "      <td>NaN</td>\n",
       "    </tr>\n",
       "    <tr>\n",
       "      <th>1932</th>\n",
       "      <td>1933</td>\n",
       "      <td>Our kids seem to prefer Kraft mac and cheese o...</td>\n",
       "      <td>NaN</td>\n",
       "    </tr>\n",
       "    <tr>\n",
       "      <th>2016</th>\n",
       "      <td>2017</td>\n",
       "      <td>@AndieSawyerRP @melissacoatesrp then eat up. I...</td>\n",
       "      <td>NaN</td>\n",
       "    </tr>\n",
       "    <tr>\n",
       "      <th>2223</th>\n",
       "      <td>2224</td>\n",
       "      <td>@AndieSawyerRP @JohnFlynnRP @melissacoatesrp *...</td>\n",
       "      <td>NaN</td>\n",
       "    </tr>\n",
       "    <tr>\n",
       "      <th>2264</th>\n",
       "      <td>2265</td>\n",
       "      <td>crying bc i want kraft mac and cheese but i do...</td>\n",
       "      <td>NaN</td>\n",
       "    </tr>\n",
       "    <tr>\n",
       "      <th>2433</th>\n",
       "      <td>2434</td>\n",
       "      <td>Kraft mac and cheese gossip girl and my best f...</td>\n",
       "      <td>NaN</td>\n",
       "    </tr>\n",
       "    <tr>\n",
       "      <th>2563</th>\n",
       "      <td>2564</td>\n",
       "      <td>I don't care how unhealthy it is- I will eat K...</td>\n",
       "      <td>NaN</td>\n",
       "    </tr>\n",
       "    <tr>\n",
       "      <th>3406</th>\n",
       "      <td>3407</td>\n",
       "      <td>Is there anything better than kraft mac and ch...</td>\n",
       "      <td>NaN</td>\n",
       "    </tr>\n",
       "    <tr>\n",
       "      <th>3667</th>\n",
       "      <td>3668</td>\n",
       "      <td>i've fallen for kraft mac and cheese fuck</td>\n",
       "      <td>NaN</td>\n",
       "    </tr>\n",
       "    <tr>\n",
       "      <th>4243</th>\n",
       "      <td>4244</td>\n",
       "      <td>Kraft mac and cheese has a ridiculous amount o...</td>\n",
       "      <td>NaN</td>\n",
       "    </tr>\n",
       "    <tr>\n",
       "      <th>5039</th>\n",
       "      <td>5040</td>\n",
       "      <td>RT @_rashawn213: \"@abs21510: I'm gunna spoil m...</td>\n",
       "      <td>NaN</td>\n",
       "    </tr>\n",
       "    <tr>\n",
       "      <th>5108</th>\n",
       "      <td>5109</td>\n",
       "      <td>\"@abs21510: I'm gunna spoil my girl with velve...</td>\n",
       "      <td>NaN</td>\n",
       "    </tr>\n",
       "    <tr>\n",
       "      <th>5135</th>\n",
       "      <td>5136</td>\n",
       "      <td>I'm gunna spoil my girl with velveta shells no...</td>\n",
       "      <td>NaN</td>\n",
       "    </tr>\n",
       "    <tr>\n",
       "      <th>5270</th>\n",
       "      <td>5271</td>\n",
       "      <td>Only excited for Valentine's Day because of th...</td>\n",
       "      <td>NaN</td>\n",
       "    </tr>\n",
       "    <tr>\n",
       "      <th>5860</th>\n",
       "      <td>5861</td>\n",
       "      <td>If you like Kraft mac and cheese don't freakin...</td>\n",
       "      <td>NaN</td>\n",
       "    </tr>\n",
       "    <tr>\n",
       "      <th>6055</th>\n",
       "      <td>6056</td>\n",
       "      <td>Velveeta mac and cheese is so good</td>\n",
       "      <td>NaN</td>\n",
       "    </tr>\n",
       "    <tr>\n",
       "      <th>6145</th>\n",
       "      <td>6146</td>\n",
       "      <td>Velveeta shells and cheese will forever be bet...</td>\n",
       "      <td>NaN</td>\n",
       "    </tr>\n",
       "    <tr>\n",
       "      <th>6166</th>\n",
       "      <td>6167</td>\n",
       "      <td>just ate a whole box of velveeta mac and chees...</td>\n",
       "      <td>NaN</td>\n",
       "    </tr>\n",
       "    <tr>\n",
       "      <th>6171</th>\n",
       "      <td>6172</td>\n",
       "      <td>Velveeta mac and cheese is everything</td>\n",
       "      <td>NaN</td>\n",
       "    </tr>\n",
       "    <tr>\n",
       "      <th>6174</th>\n",
       "      <td>6175</td>\n",
       "      <td>go invest in velveeta mac and cheese</td>\n",
       "      <td>NaN</td>\n",
       "    </tr>\n",
       "    <tr>\n",
       "      <th>6193</th>\n",
       "      <td>6194</td>\n",
       "      <td>I really love velveeta mac and cheese</td>\n",
       "      <td>NaN</td>\n",
       "    </tr>\n",
       "    <tr>\n",
       "      <th>6200</th>\n",
       "      <td>6201</td>\n",
       "      <td>@cynfffia Haha I still need to try velveeta ma...</td>\n",
       "      <td>NaN</td>\n",
       "    </tr>\n",
       "    <tr>\n",
       "      <th>6212</th>\n",
       "      <td>6213</td>\n",
       "      <td>The only thing im debating is my own mac and c...</td>\n",
       "      <td>NaN</td>\n",
       "    </tr>\n",
       "    <tr>\n",
       "      <th>6260</th>\n",
       "      <td>6261</td>\n",
       "      <td>I want to act like I'm 8 again and eat Velveet...</td>\n",
       "      <td>NaN</td>\n",
       "    </tr>\n",
       "    <tr>\n",
       "      <th>6261</th>\n",
       "      <td>6262</td>\n",
       "      <td>Mac &amp; Cheese for dinner. Full on white elbow p...</td>\n",
       "      <td>NaN</td>\n",
       "    </tr>\n",
       "    <tr>\n",
       "      <th>6273</th>\n",
       "      <td>6274</td>\n",
       "      <td>Loving how my mom makes me Velveeta mac and ch...</td>\n",
       "      <td>NaN</td>\n",
       "    </tr>\n",
       "    <tr>\n",
       "      <th>6321</th>\n",
       "      <td>6322</td>\n",
       "      <td>like holy shit velveeta mac and cheese sounds ...</td>\n",
       "      <td>NaN</td>\n",
       "    </tr>\n",
       "    <tr>\n",
       "      <th>6388</th>\n",
       "      <td>6389</td>\n",
       "      <td>@SemiCartamatic man it's mac and cheese with b...</td>\n",
       "      <td>NaN</td>\n",
       "    </tr>\n",
       "    <tr>\n",
       "      <th>6433</th>\n",
       "      <td>6434</td>\n",
       "      <td>“@ashtinooooo: Velveeta mac and cheese is the ...</td>\n",
       "      <td>NaN</td>\n",
       "    </tr>\n",
       "    <tr>\n",
       "      <th>6441</th>\n",
       "      <td>6442</td>\n",
       "      <td>Velveeta mac and cheese is the shit</td>\n",
       "      <td>NaN</td>\n",
       "    </tr>\n",
       "    <tr>\n",
       "      <th>6459</th>\n",
       "      <td>6460</td>\n",
       "      <td>The world is full of surprises! Was that an ex...</td>\n",
       "      <td>NaN</td>\n",
       "    </tr>\n",
       "    <tr>\n",
       "      <th>6550</th>\n",
       "      <td>6551</td>\n",
       "      <td>@ashleyy29_ who says i was gunna eat it maybe ...</td>\n",
       "      <td>NaN</td>\n",
       "    </tr>\n",
       "    <tr>\n",
       "      <th>6584</th>\n",
       "      <td>6585</td>\n",
       "      <td>wow I could really go for some velveeta mac an...</td>\n",
       "      <td>NaN</td>\n",
       "    </tr>\n",
       "    <tr>\n",
       "      <th>6601</th>\n",
       "      <td>6602</td>\n",
       "      <td>my dormmate gave me the rest of her velveeta m...</td>\n",
       "      <td>NaN</td>\n",
       "    </tr>\n",
       "    <tr>\n",
       "      <th>6608</th>\n",
       "      <td>6609</td>\n",
       "      <td>Just found cosmic brownies AND velveeta mac an...</td>\n",
       "      <td>NaN</td>\n",
       "    </tr>\n",
       "    <tr>\n",
       "      <th>6627</th>\n",
       "      <td>6628</td>\n",
       "      <td>All I eat in college is mac and cheese. Craft ...</td>\n",
       "      <td>NaN</td>\n",
       "    </tr>\n",
       "    <tr>\n",
       "      <th>6746</th>\n",
       "      <td>6747</td>\n",
       "      <td>making velveeta mac and cheese ... and some sa...</td>\n",
       "      <td>NaN</td>\n",
       "    </tr>\n",
       "    <tr>\n",
       "      <th>6790</th>\n",
       "      <td>6791</td>\n",
       "      <td>I could eat velveeta mac and cheese every sing...</td>\n",
       "      <td>NaN</td>\n",
       "    </tr>\n",
       "    <tr>\n",
       "      <th>6796</th>\n",
       "      <td>6797</td>\n",
       "      <td>packing velveeta mac and cheese for lunch and ...</td>\n",
       "      <td>NaN</td>\n",
       "    </tr>\n",
       "    <tr>\n",
       "      <th>6832</th>\n",
       "      <td>6833</td>\n",
       "      <td>If you add brie to a mac and cheese sauce it a...</td>\n",
       "      <td>NaN</td>\n",
       "    </tr>\n",
       "    <tr>\n",
       "      <th>6848</th>\n",
       "      <td>6849</td>\n",
       "      <td>can women stop making velveeta mac and cheese ...</td>\n",
       "      <td>NaN</td>\n",
       "    </tr>\n",
       "    <tr>\n",
       "      <th>6914</th>\n",
       "      <td>6915</td>\n",
       "      <td>the only pull game i have is pulling the wrapp...</td>\n",
       "      <td>NaN</td>\n",
       "    </tr>\n",
       "  </tbody>\n",
       "</table>\n",
       "</div>"
      ],
      "text/plain": [
       "        ID                                              Tweet Unnamed\n",
       "138    139            Really craving mac and cheese!!! #Kraft     NaN\n",
       "692    693  Never leave out the butter when making Kraft m...     NaN\n",
       "1512  1513      I need kraft mac and cheese right fucking now     NaN\n",
       "1816  1817  RT @samm_chino: Kraft mac and cheese gossip gi...     NaN\n",
       "1932  1933  Our kids seem to prefer Kraft mac and cheese o...     NaN\n",
       "2016  2017  @AndieSawyerRP @melissacoatesrp then eat up. I...     NaN\n",
       "2223  2224  @AndieSawyerRP @JohnFlynnRP @melissacoatesrp *...     NaN\n",
       "2264  2265  crying bc i want kraft mac and cheese but i do...     NaN\n",
       "2433  2434  Kraft mac and cheese gossip girl and my best f...     NaN\n",
       "2563  2564  I don't care how unhealthy it is- I will eat K...     NaN\n",
       "3406  3407  Is there anything better than kraft mac and ch...     NaN\n",
       "3667  3668          i've fallen for kraft mac and cheese fuck     NaN\n",
       "4243  4244  Kraft mac and cheese has a ridiculous amount o...     NaN\n",
       "5039  5040  RT @_rashawn213: \"@abs21510: I'm gunna spoil m...     NaN\n",
       "5108  5109  \"@abs21510: I'm gunna spoil my girl with velve...     NaN\n",
       "5135  5136  I'm gunna spoil my girl with velveta shells no...     NaN\n",
       "5270  5271  Only excited for Valentine's Day because of th...     NaN\n",
       "5860  5861  If you like Kraft mac and cheese don't freakin...     NaN\n",
       "6055  6056                 Velveeta mac and cheese is so good     NaN\n",
       "6145  6146  Velveeta shells and cheese will forever be bet...     NaN\n",
       "6166  6167  just ate a whole box of velveeta mac and chees...     NaN\n",
       "6171  6172              Velveeta mac and cheese is everything     NaN\n",
       "6174  6175               go invest in velveeta mac and cheese     NaN\n",
       "6193  6194              I really love velveeta mac and cheese     NaN\n",
       "6200  6201  @cynfffia Haha I still need to try velveeta ma...     NaN\n",
       "6212  6213  The only thing im debating is my own mac and c...     NaN\n",
       "6260  6261  I want to act like I'm 8 again and eat Velveet...     NaN\n",
       "6261  6262  Mac & Cheese for dinner. Full on white elbow p...     NaN\n",
       "6273  6274  Loving how my mom makes me Velveeta mac and ch...     NaN\n",
       "6321  6322  like holy shit velveeta mac and cheese sounds ...     NaN\n",
       "6388  6389  @SemiCartamatic man it's mac and cheese with b...     NaN\n",
       "6433  6434  “@ashtinooooo: Velveeta mac and cheese is the ...     NaN\n",
       "6441  6442                Velveeta mac and cheese is the shit     NaN\n",
       "6459  6460  The world is full of surprises! Was that an ex...     NaN\n",
       "6550  6551  @ashleyy29_ who says i was gunna eat it maybe ...     NaN\n",
       "6584  6585  wow I could really go for some velveeta mac an...     NaN\n",
       "6601  6602  my dormmate gave me the rest of her velveeta m...     NaN\n",
       "6608  6609  Just found cosmic brownies AND velveeta mac an...     NaN\n",
       "6627  6628  All I eat in college is mac and cheese. Craft ...     NaN\n",
       "6746  6747  making velveeta mac and cheese ... and some sa...     NaN\n",
       "6790  6791  I could eat velveeta mac and cheese every sing...     NaN\n",
       "6796  6797  packing velveeta mac and cheese for lunch and ...     NaN\n",
       "6832  6833  If you add brie to a mac and cheese sauce it a...     NaN\n",
       "6848  6849  can women stop making velveeta mac and cheese ...     NaN\n",
       "6914  6915  the only pull game i have is pulling the wrapp...     NaN"
      ]
     },
     "execution_count": 78,
     "metadata": {},
     "output_type": "execute_result"
    }
   ],
   "source": [
    "text_frame[text_frame['Tweet'].str.contains('mac and cheese')]"
   ]
  },
  {
   "cell_type": "code",
   "execution_count": 79,
   "id": "a1d9ae49d95b13ae",
   "metadata": {
    "ExecuteTime": {
     "end_time": "2024-08-13T18:29:22.943128200Z",
     "start_time": "2024-08-13T18:29:22.659125800Z"
    },
    "collapsed": false,
    "jupyter": {
     "outputs_hidden": false
    }
   },
   "outputs": [
    {
     "data": {
      "text/html": [
       "<div>\n",
       "<style scoped>\n",
       "    .dataframe tbody tr th:only-of-type {\n",
       "        vertical-align: middle;\n",
       "    }\n",
       "\n",
       "    .dataframe tbody tr th {\n",
       "        vertical-align: top;\n",
       "    }\n",
       "\n",
       "    .dataframe thead th {\n",
       "        text-align: right;\n",
       "    }\n",
       "</style>\n",
       "<table border=\"1\" class=\"dataframe\">\n",
       "  <thead>\n",
       "    <tr style=\"text-align: right;\">\n",
       "      <th></th>\n",
       "      <th>ID</th>\n",
       "      <th>Tweet</th>\n",
       "      <th>Unnamed</th>\n",
       "    </tr>\n",
       "  </thead>\n",
       "  <tbody>\n",
       "    <tr>\n",
       "      <th>5</th>\n",
       "      <td>6</td>\n",
       "      <td>RT @HomespunSociety: Wrap it up http://t.co/82...</td>\n",
       "      <td>NaN</td>\n",
       "    </tr>\n",
       "    <tr>\n",
       "      <th>8</th>\n",
       "      <td>9</td>\n",
       "      <td>RT @OTLonESPN: Tomorrow 8am ET ESPN2: Fallout ...</td>\n",
       "      <td>NaN</td>\n",
       "    </tr>\n",
       "    <tr>\n",
       "      <th>10</th>\n",
       "      <td>11</td>\n",
       "      <td>RT @kittyFitz50: I love Kraft beer .@America_O...</td>\n",
       "      <td>NaN</td>\n",
       "    </tr>\n",
       "    <tr>\n",
       "      <th>18</th>\n",
       "      <td>19</td>\n",
       "      <td>Super COOL Mommy PAPER! http://t.co/6LFNV4JTOP...</td>\n",
       "      <td>NaN</td>\n",
       "    </tr>\n",
       "    <tr>\n",
       "      <th>19</th>\n",
       "      <td>20</td>\n",
       "      <td>RT @ProjetoIdols: RT to be a in a group DM wit...</td>\n",
       "      <td>NaN</td>\n",
       "    </tr>\n",
       "    <tr>\n",
       "      <th>...</th>\n",
       "      <td>...</td>\n",
       "      <td>...</td>\n",
       "      <td>...</td>\n",
       "    </tr>\n",
       "    <tr>\n",
       "      <th>6262</th>\n",
       "      <td>6263</td>\n",
       "      <td>VELVEETA SHELLS &amp; CHEESE ARE THE WAY TO MY HEART</td>\n",
       "      <td>NaN</td>\n",
       "    </tr>\n",
       "    <tr>\n",
       "      <th>6354</th>\n",
       "      <td>6355</td>\n",
       "      <td>RT @DanielleAlberti: \"How do you say 'American...</td>\n",
       "      <td>NaN</td>\n",
       "    </tr>\n",
       "    <tr>\n",
       "      <th>6447</th>\n",
       "      <td>6448</td>\n",
       "      <td>U mean they like kraft cheese RT @Rich729_: “@...</td>\n",
       "      <td>NaN</td>\n",
       "    </tr>\n",
       "    <tr>\n",
       "      <th>6729</th>\n",
       "      <td>6730</td>\n",
       "      <td>No dude Velveeta! RT @EricStangel: Not sure if...</td>\n",
       "      <td>NaN</td>\n",
       "    </tr>\n",
       "    <tr>\n",
       "      <th>6767</th>\n",
       "      <td>6768</td>\n",
       "      <td>RT “@SullyFootball: Water is also wet “@BLB_Ch...</td>\n",
       "      <td>NaN</td>\n",
       "    </tr>\n",
       "  </tbody>\n",
       "</table>\n",
       "<p>1050 rows × 3 columns</p>\n",
       "</div>"
      ],
      "text/plain": [
       "        ID                                              Tweet Unnamed\n",
       "5        6  RT @HomespunSociety: Wrap it up http://t.co/82...     NaN\n",
       "8        9  RT @OTLonESPN: Tomorrow 8am ET ESPN2: Fallout ...     NaN\n",
       "10      11  RT @kittyFitz50: I love Kraft beer .@America_O...     NaN\n",
       "18      19  Super COOL Mommy PAPER! http://t.co/6LFNV4JTOP...     NaN\n",
       "19      20  RT @ProjetoIdols: RT to be a in a group DM wit...     NaN\n",
       "...    ...                                                ...     ...\n",
       "6262  6263   VELVEETA SHELLS & CHEESE ARE THE WAY TO MY HEART     NaN\n",
       "6354  6355  RT @DanielleAlberti: \"How do you say 'American...     NaN\n",
       "6447  6448  U mean they like kraft cheese RT @Rich729_: “@...     NaN\n",
       "6729  6730  No dude Velveeta! RT @EricStangel: Not sure if...     NaN\n",
       "6767  6768  RT “@SullyFootball: Water is also wet “@BLB_Ch...     NaN\n",
       "\n",
       "[1050 rows x 3 columns]"
      ]
     },
     "execution_count": 79,
     "metadata": {},
     "output_type": "execute_result"
    }
   ],
   "source": [
    "# Check for retweets\n",
    "text_frame[text_frame['Tweet'].str.contains('RT')]"
   ]
  },
  {
   "cell_type": "code",
   "execution_count": 80,
   "id": "4f57bc7c918d08ca",
   "metadata": {
    "ExecuteTime": {
     "end_time": "2024-08-13T18:29:23.207178200Z",
     "start_time": "2024-08-13T18:29:22.716093400Z"
    },
    "collapsed": false,
    "jupyter": {
     "outputs_hidden": false
    }
   },
   "outputs": [
    {
     "data": {
      "text/html": [
       "<div>\n",
       "<style scoped>\n",
       "    .dataframe tbody tr th:only-of-type {\n",
       "        vertical-align: middle;\n",
       "    }\n",
       "\n",
       "    .dataframe tbody tr th {\n",
       "        vertical-align: top;\n",
       "    }\n",
       "\n",
       "    .dataframe thead th {\n",
       "        text-align: right;\n",
       "    }\n",
       "</style>\n",
       "<table border=\"1\" class=\"dataframe\">\n",
       "  <thead>\n",
       "    <tr style=\"text-align: right;\">\n",
       "      <th></th>\n",
       "      <th>ID</th>\n",
       "      <th>Tweet</th>\n",
       "      <th>Unnamed</th>\n",
       "    </tr>\n",
       "  </thead>\n",
       "  <tbody>\n",
       "    <tr>\n",
       "      <th>605</th>\n",
       "      <td>606</td>\n",
       "      <td>If you can't watch KU basketball with me then ...</td>\n",
       "      <td>NaN</td>\n",
       "    </tr>\n",
       "    <tr>\n",
       "      <th>906</th>\n",
       "      <td>907</td>\n",
       "      <td>RT @HPbasketball: OK Geez. RT @DropStepHoops: ...</td>\n",
       "      <td>NaN</td>\n",
       "    </tr>\n",
       "    <tr>\n",
       "      <th>5306</th>\n",
       "      <td>5307</td>\n",
       "      <td>@Robert15Jgod Who's winning in basketball?</td>\n",
       "      <td>NaN</td>\n",
       "    </tr>\n",
       "    <tr>\n",
       "      <th>5314</th>\n",
       "      <td>5315</td>\n",
       "      <td>@AlexConstancio Are you playing basketball ?</td>\n",
       "      <td>NaN</td>\n",
       "    </tr>\n",
       "  </tbody>\n",
       "</table>\n",
       "</div>"
      ],
      "text/plain": [
       "        ID                                              Tweet Unnamed\n",
       "605    606  If you can't watch KU basketball with me then ...     NaN\n",
       "906    907  RT @HPbasketball: OK Geez. RT @DropStepHoops: ...     NaN\n",
       "5306  5307         @Robert15Jgod Who's winning in basketball?     NaN\n",
       "5314  5315       @AlexConstancio Are you playing basketball ?     NaN"
      ]
     },
     "execution_count": 80,
     "metadata": {},
     "output_type": "execute_result"
    }
   ],
   "source": [
    "text_frame[text_frame['Tweet'].str.contains('basketball')]"
   ]
  },
  {
   "cell_type": "code",
   "execution_count": 81,
   "id": "9cd9d4a32027db23",
   "metadata": {
    "ExecuteTime": {
     "end_time": "2024-08-13T18:29:23.266271600Z",
     "start_time": "2024-08-13T18:29:22.800156500Z"
    },
    "collapsed": false,
    "jupyter": {
     "outputs_hidden": false
    }
   },
   "outputs": [
    {
     "data": {
      "text/html": [
       "<div>\n",
       "<style scoped>\n",
       "    .dataframe tbody tr th:only-of-type {\n",
       "        vertical-align: middle;\n",
       "    }\n",
       "\n",
       "    .dataframe tbody tr th {\n",
       "        vertical-align: top;\n",
       "    }\n",
       "\n",
       "    .dataframe thead th {\n",
       "        text-align: right;\n",
       "    }\n",
       "</style>\n",
       "<table border=\"1\" class=\"dataframe\">\n",
       "  <thead>\n",
       "    <tr style=\"text-align: right;\">\n",
       "      <th></th>\n",
       "      <th>ID</th>\n",
       "      <th>Tweet</th>\n",
       "      <th>Unnamed</th>\n",
       "    </tr>\n",
       "  </thead>\n",
       "  <tbody>\n",
       "    <tr>\n",
       "      <th>28</th>\n",
       "      <td>29</td>\n",
       "      <td>Watch Kraft Dinner DESTROY American mac 'n che...</td>\n",
       "      <td>NaN</td>\n",
       "    </tr>\n",
       "    <tr>\n",
       "      <th>47</th>\n",
       "      <td>48</td>\n",
       "      <td>“@OrganicMami: “@Sanyalala: Not that fake crus...</td>\n",
       "      <td>NaN</td>\n",
       "    </tr>\n",
       "    <tr>\n",
       "      <th>48</th>\n",
       "      <td>49</td>\n",
       "      <td>“@Sanyalala: Not that fake crusty KRAFT cheese...</td>\n",
       "      <td>NaN</td>\n",
       "    </tr>\n",
       "    <tr>\n",
       "      <th>49</th>\n",
       "      <td>50</td>\n",
       "      <td>Not that fake crusty KRAFT cheese</td>\n",
       "      <td>NaN</td>\n",
       "    </tr>\n",
       "    <tr>\n",
       "      <th>72</th>\n",
       "      <td>73</td>\n",
       "      <td>If a girl tried feeding me Kraft Mac and chees...</td>\n",
       "      <td>NaN</td>\n",
       "    </tr>\n",
       "    <tr>\n",
       "      <th>...</th>\n",
       "      <td>...</td>\n",
       "      <td>...</td>\n",
       "      <td>...</td>\n",
       "    </tr>\n",
       "    <tr>\n",
       "      <th>6926</th>\n",
       "      <td>6927</td>\n",
       "      <td>@bennyc50 Was it the powdered cheese mac or th...</td>\n",
       "      <td>NaN</td>\n",
       "    </tr>\n",
       "    <tr>\n",
       "      <th>6928</th>\n",
       "      <td>6929</td>\n",
       "      <td>Velveeta cheese is a fucking experience</td>\n",
       "      <td>NaN</td>\n",
       "    </tr>\n",
       "    <tr>\n",
       "      <th>6929</th>\n",
       "      <td>6930</td>\n",
       "      <td>Can we have a velveeta Mac and cheese date? @g...</td>\n",
       "      <td>NaN</td>\n",
       "    </tr>\n",
       "    <tr>\n",
       "      <th>6930</th>\n",
       "      <td>6931</td>\n",
       "      <td>@grantlandis will you make me some Velveeta Ma...</td>\n",
       "      <td>NaN</td>\n",
       "    </tr>\n",
       "    <tr>\n",
       "      <th>6932</th>\n",
       "      <td>6933</td>\n",
       "      <td>But why somebody just posted a pic on my fb fe...</td>\n",
       "      <td>NaN</td>\n",
       "    </tr>\n",
       "  </tbody>\n",
       "</table>\n",
       "<p>823 rows × 3 columns</p>\n",
       "</div>"
      ],
      "text/plain": [
       "        ID                                              Tweet Unnamed\n",
       "28      29  Watch Kraft Dinner DESTROY American mac 'n che...     NaN\n",
       "47      48  “@OrganicMami: “@Sanyalala: Not that fake crus...     NaN\n",
       "48      49  “@Sanyalala: Not that fake crusty KRAFT cheese...     NaN\n",
       "49      50                  Not that fake crusty KRAFT cheese     NaN\n",
       "72      73  If a girl tried feeding me Kraft Mac and chees...     NaN\n",
       "...    ...                                                ...     ...\n",
       "6926  6927  @bennyc50 Was it the powdered cheese mac or th...     NaN\n",
       "6928  6929            Velveeta cheese is a fucking experience     NaN\n",
       "6929  6930  Can we have a velveeta Mac and cheese date? @g...     NaN\n",
       "6930  6931  @grantlandis will you make me some Velveeta Ma...     NaN\n",
       "6932  6933  But why somebody just posted a pic on my fb fe...     NaN\n",
       "\n",
       "[823 rows x 3 columns]"
      ]
     },
     "execution_count": 81,
     "metadata": {},
     "output_type": "execute_result"
    }
   ],
   "source": [
    "text_frame[text_frame['Tweet'].str.contains('cheese')]"
   ]
  },
  {
   "cell_type": "code",
   "execution_count": 82,
   "id": "8c8c9eae5977df33",
   "metadata": {
    "ExecuteTime": {
     "end_time": "2024-08-13T18:29:23.293258500Z",
     "start_time": "2024-08-13T18:29:22.876166700Z"
    },
    "collapsed": false,
    "jupyter": {
     "outputs_hidden": false
    }
   },
   "outputs": [
    {
     "data": {
      "text/html": [
       "<div>\n",
       "<style scoped>\n",
       "    .dataframe tbody tr th:only-of-type {\n",
       "        vertical-align: middle;\n",
       "    }\n",
       "\n",
       "    .dataframe tbody tr th {\n",
       "        vertical-align: top;\n",
       "    }\n",
       "\n",
       "    .dataframe thead th {\n",
       "        text-align: right;\n",
       "    }\n",
       "</style>\n",
       "<table border=\"1\" class=\"dataframe\">\n",
       "  <thead>\n",
       "    <tr style=\"text-align: right;\">\n",
       "      <th></th>\n",
       "      <th>ID</th>\n",
       "      <th>Tweet</th>\n",
       "      <th>Unnamed</th>\n",
       "    </tr>\n",
       "  </thead>\n",
       "  <tbody>\n",
       "    <tr>\n",
       "      <th>0</th>\n",
       "      <td>1</td>\n",
       "      <td>Huge @Patriots pep rally at Toso's in PHX...wa...</td>\n",
       "      <td>NaN</td>\n",
       "    </tr>\n",
       "    <tr>\n",
       "      <th>1</th>\n",
       "      <td>2</td>\n",
       "      <td>For Robert Kraft and Roger Goodell air still i...</td>\n",
       "      <td>NaN</td>\n",
       "    </tr>\n",
       "    <tr>\n",
       "      <th>2</th>\n",
       "      <td>3</td>\n",
       "      <td>For Robert Kraft and Roger Goodell air still i...</td>\n",
       "      <td>NaN</td>\n",
       "    </tr>\n",
       "    <tr>\n",
       "      <th>3</th>\n",
       "      <td>4</td>\n",
       "      <td>Need #recipes? Visit the Kraft #CookingUpGood ...</td>\n",
       "      <td>NaN</td>\n",
       "    </tr>\n",
       "    <tr>\n",
       "      <th>4</th>\n",
       "      <td>5</td>\n",
       "      <td>@EdgeofSports You take the good-You take the b...</td>\n",
       "      <td>NaN</td>\n",
       "    </tr>\n",
       "    <tr>\n",
       "      <th>...</th>\n",
       "      <td>...</td>\n",
       "      <td>...</td>\n",
       "      <td>...</td>\n",
       "    </tr>\n",
       "    <tr>\n",
       "      <th>6890</th>\n",
       "      <td>6891</td>\n",
       "      <td>@_KarinaD @denzildsouzaa @michelle_r16 @UncleO...</td>\n",
       "      <td>NaN</td>\n",
       "    </tr>\n",
       "    <tr>\n",
       "      <th>6894</th>\n",
       "      <td>6895</td>\n",
       "      <td>Kraft mac n cheese is shit rather have Velveeta</td>\n",
       "      <td>NaN</td>\n",
       "    </tr>\n",
       "    <tr>\n",
       "      <th>6900</th>\n",
       "      <td>6901</td>\n",
       "      <td>FREE Kraft Cheese + Money Maker Savings Catche...</td>\n",
       "      <td>NaN</td>\n",
       "    </tr>\n",
       "    <tr>\n",
       "      <th>6907</th>\n",
       "      <td>6908</td>\n",
       "      <td>I need Kraft cheese !!!</td>\n",
       "      <td>NaN</td>\n",
       "    </tr>\n",
       "    <tr>\n",
       "      <th>6935</th>\n",
       "      <td>6936</td>\n",
       "      <td>Get a #Save $1 off #Kraft Natural #Cheese Prod...</td>\n",
       "      <td>NaN</td>\n",
       "    </tr>\n",
       "  </tbody>\n",
       "</table>\n",
       "<p>4686 rows × 3 columns</p>\n",
       "</div>"
      ],
      "text/plain": [
       "        ID                                              Tweet Unnamed\n",
       "0        1  Huge @Patriots pep rally at Toso's in PHX...wa...     NaN\n",
       "1        2  For Robert Kraft and Roger Goodell air still i...     NaN\n",
       "2        3  For Robert Kraft and Roger Goodell air still i...     NaN\n",
       "3        4  Need #recipes? Visit the Kraft #CookingUpGood ...     NaN\n",
       "4        5  @EdgeofSports You take the good-You take the b...     NaN\n",
       "...    ...                                                ...     ...\n",
       "6890  6891  @_KarinaD @denzildsouzaa @michelle_r16 @UncleO...     NaN\n",
       "6894  6895    Kraft mac n cheese is shit rather have Velveeta     NaN\n",
       "6900  6901  FREE Kraft Cheese + Money Maker Savings Catche...     NaN\n",
       "6907  6908                            I need Kraft cheese !!!     NaN\n",
       "6935  6936  Get a #Save $1 off #Kraft Natural #Cheese Prod...     NaN\n",
       "\n",
       "[4686 rows x 3 columns]"
      ]
     },
     "execution_count": 82,
     "metadata": {},
     "output_type": "execute_result"
    }
   ],
   "source": [
    "text_frame[text_frame['Tweet'].str.contains('Kraft')]"
   ]
  },
  {
   "cell_type": "code",
   "execution_count": 83,
   "id": "35e58956bc2b9031",
   "metadata": {
    "ExecuteTime": {
     "end_time": "2024-08-13T18:29:23.312246100Z",
     "start_time": "2024-08-13T18:29:22.940129200Z"
    },
    "collapsed": false,
    "jupyter": {
     "outputs_hidden": false
    }
   },
   "outputs": [
    {
     "data": {
      "text/plain": [
       "3102    Need #recipes? Visit the Kraft #CookingUpGood ...\n",
       "3831    What Goodell fails to see is that Kraft is dem...\n",
       "1137    Sugar Paper Kraft Swiss Dot Weekly/monthly Pla...\n",
       "1203    @HeyFatkid tried to tell me his velveeta chees...\n",
       "866     \"@sbellelauren: what mental illness is it when...\n",
       "5132    @GalaEvanggala RIGHT! I was gonna suggest Oreo...\n",
       "4006    @BradyScott26 @Jay__Kraft @calebfoard still th...\n",
       "2068    RT @jackoffclifford: Ashton avoiding Twitter d...\n",
       "6032    I was tagged by my sweets onebeautyaddict and ...\n",
       "1647    *spends 9 hours designing and serving a dish a...\n",
       "2118    @aurosan wait... americans don't call it kraft...\n",
       "5097    RT @RachelDelill: \"i wish we were done being d...\n",
       "4320    RT @gabrielsherman: If I were at Goodell press...\n",
       "3097    I posted 3 photos on Facebook in the album \"Kr...\n",
       "2126    2 KRAFT Hand Painted FDCs : 1977 Colonial Amer...\n",
       "1785                   Being a girl perk #1 - free drinks\n",
       "1816    RT @samm_chino: Kraft mac and cheese gossip gi...\n",
       "2261    More on Robert Kraft's absence from Roger Good...\n",
       "770     Reset! $2.25 in Kraft Grated Parmesan Coupons ...\n",
       "5347    I miss Stephano our European mob member in dis...\n",
       "Name: Tweet, dtype: object"
      ]
     },
     "execution_count": 83,
     "metadata": {},
     "output_type": "execute_result"
    }
   ],
   "source": [
    "text_frame['Tweet'].sample(20)"
   ]
  },
  {
   "cell_type": "code",
   "execution_count": 84,
   "id": "5d3e8303441cf748",
   "metadata": {
    "ExecuteTime": {
     "end_time": "2024-08-13T18:29:23.328238400Z",
     "start_time": "2024-08-13T18:29:23.003227400Z"
    },
    "collapsed": false,
    "jupyter": {
     "outputs_hidden": false
    }
   },
   "outputs": [
    {
     "data": {
      "text/plain": [
       "ID            0\n",
       "Tweet         0\n",
       "Unnamed    6935\n",
       "dtype: int64"
      ]
     },
     "execution_count": 84,
     "metadata": {},
     "output_type": "execute_result"
    }
   ],
   "source": [
    "text_frame.isnull().sum()"
   ]
  },
  {
   "cell_type": "code",
   "execution_count": 85,
   "id": "d85aeba581384142",
   "metadata": {
    "ExecuteTime": {
     "end_time": "2024-08-13T18:29:23.332234500Z",
     "start_time": "2024-08-13T18:29:23.035207900Z"
    },
    "collapsed": false,
    "jupyter": {
     "outputs_hidden": false
    }
   },
   "outputs": [
    {
     "data": {
      "text/plain": [
       "array([\"Huge @Patriots pep rally at Toso's in PHX...waiting for Mr Kraft's arrival #GoPats @PatriotsExtra http://t.co/y9NElMN6jo\",\n",
       "       \"For Robert Kraft and Roger Goodell air still isn't clear - Boston Globe http://t.co/Rw4oh3hswK #google #sport\",\n",
       "       \"For Robert Kraft and Roger Goodell air still isn't clear - Boston Globe http://t.co/yN68nBRFne #google #sport\",\n",
       "       ...,\n",
       "       '@grantlandis will you make me some Velveeta Mac and cheese with chicken?',\n",
       "       'But why somebody just posted a pic on my fb feed of velveeta shells & cheese uncle Ben\\'s brown rice or ricearoni & some frozen broccoli\"',\n",
       "       'Get a #Save $1 off #Kraft Natural #Cheese Products! #coupon http://pinterest.com/pin/446911962998255057/\\xa0…'],\n",
       "      dtype=object)"
      ]
     },
     "execution_count": 85,
     "metadata": {},
     "output_type": "execute_result"
    }
   ],
   "source": [
    "text_frame['Tweet'].unique()"
   ]
  },
  {
   "cell_type": "code",
   "execution_count": null,
   "id": "f501fed9-7a48-4574-9226-91fbf9d481eb",
   "metadata": {},
   "outputs": [],
   "source": []
  },
  {
   "cell_type": "code",
   "execution_count": null,
   "id": "c1679902-b0c6-47b5-8a12-2a12734ce442",
   "metadata": {},
   "outputs": [],
   "source": []
  },
  {
   "cell_type": "code",
   "execution_count": 86,
   "id": "c2994455-750b-49a7-aa2c-1e22c0135e29",
   "metadata": {},
   "outputs": [],
   "source": [
    "import sklearn\n",
    "from sklearn.cluster import KMeans\n",
    "from sklearn.decomposition import PCA\n",
    "from sklearn.feature_extraction.text import TfidfVectorizer"
   ]
  },
  {
   "cell_type": "markdown",
   "id": "87760f27",
   "metadata": {},
   "source": [
    "In the case of this analysis, we must use scikit-learn to vectorize words since there is text that we will be scanning through and tokenizing. \n",
    "\n",
    "First, transform the data and fit into principal component analysis (PCA) model.<br>\n",
    "The data to be fit is the column in <b>text_frame</b> named <b>Katakana text Translated</b>.<br>\n",
    "Create clusters using k-means algorithms and principal components analysis. <br>\n",
    "\n"
   ]
  },
  {
   "cell_type": "code",
   "execution_count": 87,
   "id": "c2523107",
   "metadata": {},
   "outputs": [
    {
     "data": {
      "text/plain": [
       "0       Huge @Patriots pep rally at Toso's in PHX...wa...\n",
       "1       For Robert Kraft and Roger Goodell air still i...\n",
       "2       For Robert Kraft and Roger Goodell air still i...\n",
       "3       Need #recipes? Visit the Kraft #CookingUpGood ...\n",
       "4       @EdgeofSports You take the good-You take the b...\n",
       "                              ...                        \n",
       "6931                       CHEESE IN MY POCKETS VELVEETA\"\n",
       "6932    But why somebody just posted a pic on my fb fe...\n",
       "6933                     Cheese in my pockets .. Velveeta\n",
       "6934                       Cheese in my pocket Velveeta !\n",
       "6935    Get a #Save $1 off #Kraft Natural #Cheese Prod...\n",
       "Name: Tweet, Length: 6936, dtype: object"
      ]
     },
     "execution_count": 87,
     "metadata": {},
     "output_type": "execute_result"
    }
   ],
   "source": [
    "# arr_text = np.array(text_frame['Katakana text Translated'])\n",
    "# arr_text = text_frame['Katakana text Translated']\n",
    "arr_text = text_frame.Tweet\n",
    "arr_text"
   ]
  },
  {
   "cell_type": "code",
   "execution_count": 89,
   "id": "644fc63c",
   "metadata": {},
   "outputs": [
    {
     "data": {
      "text/plain": [
       "str"
      ]
     },
     "execution_count": 89,
     "metadata": {},
     "output_type": "execute_result"
    }
   ],
   "source": [
    "type(arr_text[0])"
   ]
  },
  {
   "cell_type": "code",
   "execution_count": 108,
   "id": "c78ba185",
   "metadata": {},
   "outputs": [
    {
     "name": "stderr",
     "output_type": "stream",
     "text": [
      "/Users/mattjchin/opt/anaconda3/envs/matt_py31010/lib/python3.10/site-packages/sklearn/cluster/_kmeans.py:870: FutureWarning: The default value of `n_init` will change from 10 to 'auto' in 1.4. Set the value of `n_init` explicitly to suppress the warning\n",
      "  warnings.warn(\n"
     ]
    },
    {
     "data": {
      "text/html": [
       "<style>#sk-container-id-3 {color: black;background-color: white;}#sk-container-id-3 pre{padding: 0;}#sk-container-id-3 div.sk-toggleable {background-color: white;}#sk-container-id-3 label.sk-toggleable__label {cursor: pointer;display: block;width: 100%;margin-bottom: 0;padding: 0.3em;box-sizing: border-box;text-align: center;}#sk-container-id-3 label.sk-toggleable__label-arrow:before {content: \"▸\";float: left;margin-right: 0.25em;color: #696969;}#sk-container-id-3 label.sk-toggleable__label-arrow:hover:before {color: black;}#sk-container-id-3 div.sk-estimator:hover label.sk-toggleable__label-arrow:before {color: black;}#sk-container-id-3 div.sk-toggleable__content {max-height: 0;max-width: 0;overflow: hidden;text-align: left;background-color: #f0f8ff;}#sk-container-id-3 div.sk-toggleable__content pre {margin: 0.2em;color: black;border-radius: 0.25em;background-color: #f0f8ff;}#sk-container-id-3 input.sk-toggleable__control:checked~div.sk-toggleable__content {max-height: 200px;max-width: 100%;overflow: auto;}#sk-container-id-3 input.sk-toggleable__control:checked~label.sk-toggleable__label-arrow:before {content: \"▾\";}#sk-container-id-3 div.sk-estimator input.sk-toggleable__control:checked~label.sk-toggleable__label {background-color: #d4ebff;}#sk-container-id-3 div.sk-label input.sk-toggleable__control:checked~label.sk-toggleable__label {background-color: #d4ebff;}#sk-container-id-3 input.sk-hidden--visually {border: 0;clip: rect(1px 1px 1px 1px);clip: rect(1px, 1px, 1px, 1px);height: 1px;margin: -1px;overflow: hidden;padding: 0;position: absolute;width: 1px;}#sk-container-id-3 div.sk-estimator {font-family: monospace;background-color: #f0f8ff;border: 1px dotted black;border-radius: 0.25em;box-sizing: border-box;margin-bottom: 0.5em;}#sk-container-id-3 div.sk-estimator:hover {background-color: #d4ebff;}#sk-container-id-3 div.sk-parallel-item::after {content: \"\";width: 100%;border-bottom: 1px solid gray;flex-grow: 1;}#sk-container-id-3 div.sk-label:hover label.sk-toggleable__label {background-color: #d4ebff;}#sk-container-id-3 div.sk-serial::before {content: \"\";position: absolute;border-left: 1px solid gray;box-sizing: border-box;top: 0;bottom: 0;left: 50%;z-index: 0;}#sk-container-id-3 div.sk-serial {display: flex;flex-direction: column;align-items: center;background-color: white;padding-right: 0.2em;padding-left: 0.2em;position: relative;}#sk-container-id-3 div.sk-item {position: relative;z-index: 1;}#sk-container-id-3 div.sk-parallel {display: flex;align-items: stretch;justify-content: center;background-color: white;position: relative;}#sk-container-id-3 div.sk-item::before, #sk-container-id-3 div.sk-parallel-item::before {content: \"\";position: absolute;border-left: 1px solid gray;box-sizing: border-box;top: 0;bottom: 0;left: 50%;z-index: -1;}#sk-container-id-3 div.sk-parallel-item {display: flex;flex-direction: column;z-index: 1;position: relative;background-color: white;}#sk-container-id-3 div.sk-parallel-item:first-child::after {align-self: flex-end;width: 50%;}#sk-container-id-3 div.sk-parallel-item:last-child::after {align-self: flex-start;width: 50%;}#sk-container-id-3 div.sk-parallel-item:only-child::after {width: 0;}#sk-container-id-3 div.sk-dashed-wrapped {border: 1px dashed gray;margin: 0 0.4em 0.5em 0.4em;box-sizing: border-box;padding-bottom: 0.4em;background-color: white;}#sk-container-id-3 div.sk-label label {font-family: monospace;font-weight: bold;display: inline-block;line-height: 1.2em;}#sk-container-id-3 div.sk-label-container {text-align: center;}#sk-container-id-3 div.sk-container {/* jupyter's `normalize.less` sets `[hidden] { display: none; }` but bootstrap.min.css set `[hidden] { display: none !important; }` so we also need the `!important` here to be able to override the default hidden behavior on the sphinx rendered scikit-learn.org. See: https://github.com/scikit-learn/scikit-learn/issues/21755 */display: inline-block !important;position: relative;}#sk-container-id-3 div.sk-text-repr-fallback {display: none;}</style><div id=\"sk-container-id-3\" class=\"sk-top-container\"><div class=\"sk-text-repr-fallback\"><pre>KMeans(max_iter=100, n_clusters=2, random_state=42)</pre><b>In a Jupyter environment, please rerun this cell to show the HTML representation or trust the notebook. <br />On GitHub, the HTML representation is unable to render, please try loading this page with nbviewer.org.</b></div><div class=\"sk-container\" hidden><div class=\"sk-item\"><div class=\"sk-estimator sk-toggleable\"><input class=\"sk-toggleable__control sk-hidden--visually\" id=\"sk-estimator-id-3\" type=\"checkbox\" checked><label for=\"sk-estimator-id-3\" class=\"sk-toggleable__label sk-toggleable__label-arrow\">KMeans</label><div class=\"sk-toggleable__content\"><pre>KMeans(max_iter=100, n_clusters=2, random_state=42)</pre></div></div></div></div></div>"
      ],
      "text/plain": [
       "KMeans(max_iter=100, n_clusters=2, random_state=42)"
      ]
     },
     "execution_count": 108,
     "metadata": {},
     "output_type": "execute_result"
    }
   ],
   "source": [
    "count_clusters = 2\n",
    "\n",
    "vector = TfidfVectorizer(stop_words='english')\n",
    "\n",
    "tweets_vector = vector.fit_transform(arr_text)\n",
    "\n",
    "pca_model = PCA(n_components=count_clusters)\n",
    "model_res = pca_model.fit_transform(tweets_vector.toarray())\n",
    "\n",
    "kmeans = KMeans(n_clusters=count_clusters, max_iter=100, random_state=42)\n",
    "kmeans.fit(tweets_vector)\n",
    "\n"
   ]
  },
  {
   "cell_type": "code",
   "execution_count": 109,
   "id": "92da995e",
   "metadata": {},
   "outputs": [
    {
     "data": {
      "text/plain": [
       "array([0, 0, 0, ..., 0, 0, 0], dtype=int32)"
      ]
     },
     "execution_count": 109,
     "metadata": {},
     "output_type": "execute_result"
    }
   ],
   "source": [
    "kmeans.labels_"
   ]
  },
  {
   "cell_type": "code",
   "execution_count": 110,
   "id": "630c391f",
   "metadata": {},
   "outputs": [
    {
     "name": "stdout",
     "output_type": "stream",
     "text": [
      "1 0\n"
     ]
    }
   ],
   "source": [
    "# After the model, the values in kmeans.labels_ should be 0, 1,\n",
    "print(kmeans.labels_.max(), kmeans.labels_.min())"
   ]
  },
  {
   "cell_type": "code",
   "execution_count": 112,
   "id": "c32bcb1fc4e5e626",
   "metadata": {
    "ExecuteTime": {
     "end_time": "2024-08-13T18:29:23.353265900Z",
     "start_time": "2024-08-13T18:29:23.061194600Z"
    },
    "collapsed": false,
    "jupyter": {
     "outputs_hidden": false
    }
   },
   "outputs": [
    {
     "name": "stderr",
     "output_type": "stream",
     "text": [
      "No artists with labels found to put in legend.  Note that artists whose label start with an underscore are ignored when legend() is called with no argument.\n"
     ]
    },
    {
     "data": {
      "image/png": "[encoded data removed]",
      "text/plain": [
       "<Figure size 640x480 with 1 Axes>"
      ]
     },
     "metadata": {},
     "output_type": "display_data"
    }
   ],
   "source": [
    "# Prepare the number of clusters for Kraft-related tweets\n",
    "\n",
    "\n",
    "colors = ['blue', 'orange']\n",
    "categories = ['Robert Kraft', 'Kraft Foods']\n",
    "for i in range(count_clusters):\n",
    "    plt.scatter(kmeans.labels_ == i, kmeans.labels_ == i, s=100, color=colors[i])\n",
    "plt.legend()\n",
    "plt.show()\n"
   ]
  },
  {
   "cell_type": "code",
   "execution_count": null,
   "id": "abdf40e2b2827570",
   "metadata": {
    "ExecuteTime": {
     "end_time": "2024-08-13T18:29:23.401233800Z",
     "start_time": "2024-08-13T18:29:23.077185200Z"
    },
    "collapsed": false,
    "jupyter": {
     "outputs_hidden": false
    }
   },
   "outputs": [],
   "source": []
  },
  {
   "cell_type": "code",
   "execution_count": null,
   "id": "790ed668b5cdd0c7",
   "metadata": {
    "ExecuteTime": {
     "end_time": "2024-08-13T18:29:23.420278300Z",
     "start_time": "2024-08-13T18:29:23.094174800Z"
    },
    "collapsed": false,
    "jupyter": {
     "outputs_hidden": false
    }
   },
   "outputs": [],
   "source": []
  },
  {
   "cell_type": "code",
   "execution_count": null,
   "id": "22644bf40784f2e",
   "metadata": {
    "ExecuteTime": {
     "end_time": "2024-08-13T18:29:23.422276500Z",
     "start_time": "2024-08-13T18:29:23.113233600Z"
    },
    "collapsed": false,
    "jupyter": {
     "outputs_hidden": false
    }
   },
   "outputs": [],
   "source": []
  },
  {
   "cell_type": "code",
   "execution_count": null,
   "id": "8e160d4cbc467e53",
   "metadata": {
    "ExecuteTime": {
     "end_time": "2024-08-13T18:29:23.424277900Z",
     "start_time": "2024-08-13T18:29:23.125226500Z"
    },
    "collapsed": false,
    "jupyter": {
     "outputs_hidden": false
    }
   },
   "outputs": [],
   "source": []
  }
 ],
 "metadata": {
  "kernelspec": {
   "display_name": "Python 3 (ipykernel)",
   "language": "python",
   "name": "python3"
  },
  "language_info": {
   "codemirror_mode": {
    "name": "ipython",
    "version": 3
   },
   "file_extension": ".py",
   "mimetype": "text/x-python",
   "name": "python",
   "nbconvert_exporter": "python",
   "pygments_lexer": "ipython3",
   "version": "3.10.13"
  }
 },
 "nbformat": 4,
 "nbformat_minor": 5
}
