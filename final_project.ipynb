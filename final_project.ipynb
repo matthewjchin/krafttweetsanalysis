{
 "cells": [
  {
   "cell_type": "markdown",
   "id": "ded6a00c7bfbeeae",
   "metadata": {
    "collapsed": false
   },
   "source": [
    "<h1>Text Analysis Clustering</h1>\n",
    "\n",
    "This is an analysis of text data from a series of tweets involving the word \"Kraft\". I will be doing exploratory data analysis as well as clustering to present the categorization and relevance of key words in each of the tweets to see what was most discussed in this dataset of tweets. \n",
    "\n",
    "In this data, the data in which \"Kraft\" was mentioned was tied mostly to the following. It is not representative of all the tweets in the dataset but were the most prominent.<br>\n",
    "- Robert Kraft, New England Patriots CEO and President\n",
    "- Kraft Foods, a food company that has made products such as Kraft Macaroni & Cheese, Miracle Whip, and Kraft Singles, among others; now a part of Kraft Heinz Company\n",
    "\n",
    "\n"
   ]
  },
  {
   "cell_type": "markdown",
   "id": "672d734d12b28f11",
   "metadata": {
    "collapsed": false
   },
   "source": [
    "<h1>Introduction</h1>\n",
    "\n",
    "Data is from Kaggle: https://www.kaggle.com/datasets/ranand60/unstructured-text-language-data/data\n",
    "\n",
    "<br>\n",
    "\n",
    "Since the data came from a Microsoft Excel File (.xlsx), install the following libraries in this notebook: openpyxl, xlrd.\n",
    "\n",
    "The other libraries to be imported: Pandas, NumPy, Matplotlib"
   ]
  },
  {
   "cell_type": "code",
   "execution_count": 1,
   "id": "initial_id",
   "metadata": {
    "ExecuteTime": {
     "end_time": "2024-08-15T18:33:49.894384800Z",
     "start_time": "2024-08-15T18:33:44.858085800Z"
    }
   },
   "outputs": [],
   "source": [
    "import openpyxl\n",
    "import pandas as pd\n",
    "import matplotlib.pyplot as plt\n",
    "import numpy as np"
   ]
  },
  {
   "cell_type": "code",
   "execution_count": 2,
   "id": "4664499d71183052",
   "metadata": {
    "collapsed": false,
    "ExecuteTime": {
     "end_time": "2024-08-15T18:33:55.153071900Z",
     "start_time": "2024-08-15T18:33:49.891261Z"
    }
   },
   "outputs": [
    {
     "name": "stdout",
     "output_type": "stream",
     "text": [
      "Requirement already satisfied: openpyxl in c:\\users\\mjchin\\anaconda3\\envs\\matt_py310\\lib\\site-packages (3.1.5)\n",
      "Requirement already satisfied: et-xmlfile in c:\\users\\mjchin\\anaconda3\\envs\\matt_py310\\lib\\site-packages (from openpyxl) (1.1.0)\n",
      "Note: you may need to restart the kernel to use updated packages.\n"
     ]
    }
   ],
   "source": [
    "pip install openpyxl"
   ]
  },
  {
   "cell_type": "code",
   "execution_count": 3,
   "id": "61129feb-1180-4393-b515-e549aee99901",
   "metadata": {
    "ExecuteTime": {
     "end_time": "2024-08-15T18:33:59.542922500Z",
     "start_time": "2024-08-15T18:33:55.147809Z"
    }
   },
   "outputs": [
    {
     "name": "stdout",
     "output_type": "stream",
     "text": [
      "Requirement already satisfied: xlrd in c:\\users\\mjchin\\anaconda3\\envs\\matt_py310\\lib\\site-packages (2.0.1)\n",
      "Note: you may need to restart the kernel to use updated packages.\n"
     ]
    }
   ],
   "source": [
    "pip install xlrd"
   ]
  },
  {
   "cell_type": "code",
   "execution_count": 4,
   "id": "7552524858871037",
   "metadata": {
    "collapsed": false,
    "ExecuteTime": {
     "end_time": "2024-08-15T18:34:00.488062200Z",
     "start_time": "2024-08-15T18:33:59.543972300Z"
    }
   },
   "outputs": [],
   "source": [
    "text_frame = pd.read_excel('Unstructured Data English.xlsx')"
   ]
  },
  {
   "cell_type": "code",
   "execution_count": 5,
   "id": "b8a64474a22b0b40",
   "metadata": {
    "collapsed": false,
    "ExecuteTime": {
     "end_time": "2024-08-15T18:34:00.573061Z",
     "start_time": "2024-08-15T18:34:00.490150100Z"
    }
   },
   "outputs": [
    {
     "data": {
      "text/plain": "   ID                           Katakana text Translated Unnamed: 2\n0   1  Huge @Patriots pep rally at Toso's in PHX...wa...        NaN\n1   2  For Robert Kraft and Roger Goodell air still i...        NaN\n2   3  For Robert Kraft and Roger Goodell air still i...        NaN\n3   4  Need #recipes? Visit the Kraft #CookingUpGood ...        NaN\n4   5  @EdgeofSports You take the good-You take the b...        NaN",
      "text/html": "<div>\n<style scoped>\n    .dataframe tbody tr th:only-of-type {\n        vertical-align: middle;\n    }\n\n    .dataframe tbody tr th {\n        vertical-align: top;\n    }\n\n    .dataframe thead th {\n        text-align: right;\n    }\n</style>\n<table border=\"1\" class=\"dataframe\">\n  <thead>\n    <tr style=\"text-align: right;\">\n      <th></th>\n      <th>ID</th>\n      <th>Katakana text Translated</th>\n      <th>Unnamed: 2</th>\n    </tr>\n  </thead>\n  <tbody>\n    <tr>\n      <th>0</th>\n      <td>1</td>\n      <td>Huge @Patriots pep rally at Toso's in PHX...wa...</td>\n      <td>NaN</td>\n    </tr>\n    <tr>\n      <th>1</th>\n      <td>2</td>\n      <td>For Robert Kraft and Roger Goodell air still i...</td>\n      <td>NaN</td>\n    </tr>\n    <tr>\n      <th>2</th>\n      <td>3</td>\n      <td>For Robert Kraft and Roger Goodell air still i...</td>\n      <td>NaN</td>\n    </tr>\n    <tr>\n      <th>3</th>\n      <td>4</td>\n      <td>Need #recipes? Visit the Kraft #CookingUpGood ...</td>\n      <td>NaN</td>\n    </tr>\n    <tr>\n      <th>4</th>\n      <td>5</td>\n      <td>@EdgeofSports You take the good-You take the b...</td>\n      <td>NaN</td>\n    </tr>\n  </tbody>\n</table>\n</div>"
     },
     "execution_count": 5,
     "metadata": {},
     "output_type": "execute_result"
    }
   ],
   "source": [
    "text_frame.head()"
   ]
  },
  {
   "cell_type": "code",
   "execution_count": 6,
   "id": "f528da0d",
   "metadata": {
    "ExecuteTime": {
     "end_time": "2024-08-15T18:34:00.639382200Z",
     "start_time": "2024-08-15T18:34:00.537325200Z"
    }
   },
   "outputs": [
    {
     "data": {
      "text/plain": "Index(['ID', 'Katakana text Translated', 'Unnamed: 2'], dtype='object')"
     },
     "execution_count": 6,
     "metadata": {},
     "output_type": "execute_result"
    }
   ],
   "source": [
    "# Get the name of the columns\n",
    "text_frame.columns"
   ]
  },
  {
   "cell_type": "code",
   "execution_count": 7,
   "id": "fa5eef4c65f62e6e",
   "metadata": {
    "collapsed": false,
    "ExecuteTime": {
     "end_time": "2024-08-15T18:34:00.741298800Z",
     "start_time": "2024-08-15T18:34:00.568904500Z"
    }
   },
   "outputs": [
    {
     "name": "stdout",
     "output_type": "stream",
     "text": [
      "<class 'pandas.core.frame.DataFrame'>\n",
      "RangeIndex: 6936 entries, 0 to 6935\n",
      "Data columns (total 3 columns):\n",
      " #   Column                    Non-Null Count  Dtype \n",
      "---  ------                    --------------  ----- \n",
      " 0   ID                        6936 non-null   int64 \n",
      " 1   Katakana text Translated  6936 non-null   object\n",
      " 2   Unnamed: 2                1 non-null      object\n",
      "dtypes: int64(1), object(2)\n",
      "memory usage: 162.7+ KB\n"
     ]
    }
   ],
   "source": [
    "text_frame.info()"
   ]
  },
  {
   "cell_type": "code",
   "execution_count": 8,
   "id": "ce15afe1",
   "metadata": {
    "ExecuteTime": {
     "end_time": "2024-08-15T18:34:00.882445200Z",
     "start_time": "2024-08-15T18:34:00.632030400Z"
    }
   },
   "outputs": [
    {
     "data": {
      "text/plain": "        ID                                              Tweet Unnamed\n0        1  Huge @Patriots pep rally at Toso's in PHX...wa...     NaN\n1        2  For Robert Kraft and Roger Goodell air still i...     NaN\n2        3  For Robert Kraft and Roger Goodell air still i...     NaN\n3        4  Need #recipes? Visit the Kraft #CookingUpGood ...     NaN\n4        5  @EdgeofSports You take the good-You take the b...     NaN\n...    ...                                                ...     ...\n6931  6932                     CHEESE IN MY POCKETS VELVEETA\"     NaN\n6932  6933  But why somebody just posted a pic on my fb fe...     NaN\n6933  6934                   Cheese in my pockets .. Velveeta     NaN\n6934  6935                     Cheese in my pocket Velveeta !     NaN\n6935  6936  Get a #Save $1 off #Kraft Natural #Cheese Prod...     NaN\n\n[6936 rows x 3 columns]",
      "text/html": "<div>\n<style scoped>\n    .dataframe tbody tr th:only-of-type {\n        vertical-align: middle;\n    }\n\n    .dataframe tbody tr th {\n        vertical-align: top;\n    }\n\n    .dataframe thead th {\n        text-align: right;\n    }\n</style>\n<table border=\"1\" class=\"dataframe\">\n  <thead>\n    <tr style=\"text-align: right;\">\n      <th></th>\n      <th>ID</th>\n      <th>Tweet</th>\n      <th>Unnamed</th>\n    </tr>\n  </thead>\n  <tbody>\n    <tr>\n      <th>0</th>\n      <td>1</td>\n      <td>Huge @Patriots pep rally at Toso's in PHX...wa...</td>\n      <td>NaN</td>\n    </tr>\n    <tr>\n      <th>1</th>\n      <td>2</td>\n      <td>For Robert Kraft and Roger Goodell air still i...</td>\n      <td>NaN</td>\n    </tr>\n    <tr>\n      <th>2</th>\n      <td>3</td>\n      <td>For Robert Kraft and Roger Goodell air still i...</td>\n      <td>NaN</td>\n    </tr>\n    <tr>\n      <th>3</th>\n      <td>4</td>\n      <td>Need #recipes? Visit the Kraft #CookingUpGood ...</td>\n      <td>NaN</td>\n    </tr>\n    <tr>\n      <th>4</th>\n      <td>5</td>\n      <td>@EdgeofSports You take the good-You take the b...</td>\n      <td>NaN</td>\n    </tr>\n    <tr>\n      <th>...</th>\n      <td>...</td>\n      <td>...</td>\n      <td>...</td>\n    </tr>\n    <tr>\n      <th>6931</th>\n      <td>6932</td>\n      <td>CHEESE IN MY POCKETS VELVEETA\"</td>\n      <td>NaN</td>\n    </tr>\n    <tr>\n      <th>6932</th>\n      <td>6933</td>\n      <td>But why somebody just posted a pic on my fb fe...</td>\n      <td>NaN</td>\n    </tr>\n    <tr>\n      <th>6933</th>\n      <td>6934</td>\n      <td>Cheese in my pockets .. Velveeta</td>\n      <td>NaN</td>\n    </tr>\n    <tr>\n      <th>6934</th>\n      <td>6935</td>\n      <td>Cheese in my pocket Velveeta !</td>\n      <td>NaN</td>\n    </tr>\n    <tr>\n      <th>6935</th>\n      <td>6936</td>\n      <td>Get a #Save $1 off #Kraft Natural #Cheese Prod...</td>\n      <td>NaN</td>\n    </tr>\n  </tbody>\n</table>\n<p>6936 rows × 3 columns</p>\n</div>"
     },
     "execution_count": 8,
     "metadata": {},
     "output_type": "execute_result"
    }
   ],
   "source": [
    "# Rename column in arr_text titled 'Katakana text Translated' to 'Tweet' and 'Unnamed: 2' to 'Unnamed'\n",
    "text_frame = text_frame.rename(columns={\"ID\":\"ID\", \"Katakana text Translated\": \"Tweet\", 'Unnamed: 2':\"Unnamed\"})\n",
    "text_frame"
   ]
  },
  {
   "cell_type": "code",
   "execution_count": 9,
   "id": "96f377d2d1701471",
   "metadata": {
    "collapsed": false,
    "ExecuteTime": {
     "end_time": "2024-08-15T18:34:01.012987500Z",
     "start_time": "2024-08-15T18:34:00.677875700Z"
    }
   },
   "outputs": [
    {
     "data": {
      "text/plain": "                ID\ncount  6936.000000\nmean   3468.500000\nstd    2002.395066\nmin       1.000000\n25%    1734.750000\n50%    3468.500000\n75%    5202.250000\nmax    6936.000000",
      "text/html": "<div>\n<style scoped>\n    .dataframe tbody tr th:only-of-type {\n        vertical-align: middle;\n    }\n\n    .dataframe tbody tr th {\n        vertical-align: top;\n    }\n\n    .dataframe thead th {\n        text-align: right;\n    }\n</style>\n<table border=\"1\" class=\"dataframe\">\n  <thead>\n    <tr style=\"text-align: right;\">\n      <th></th>\n      <th>ID</th>\n    </tr>\n  </thead>\n  <tbody>\n    <tr>\n      <th>count</th>\n      <td>6936.000000</td>\n    </tr>\n    <tr>\n      <th>mean</th>\n      <td>3468.500000</td>\n    </tr>\n    <tr>\n      <th>std</th>\n      <td>2002.395066</td>\n    </tr>\n    <tr>\n      <th>min</th>\n      <td>1.000000</td>\n    </tr>\n    <tr>\n      <th>25%</th>\n      <td>1734.750000</td>\n    </tr>\n    <tr>\n      <th>50%</th>\n      <td>3468.500000</td>\n    </tr>\n    <tr>\n      <th>75%</th>\n      <td>5202.250000</td>\n    </tr>\n    <tr>\n      <th>max</th>\n      <td>6936.000000</td>\n    </tr>\n  </tbody>\n</table>\n</div>"
     },
     "execution_count": 9,
     "metadata": {},
     "output_type": "execute_result"
    }
   ],
   "source": [
    "text_frame.describe()"
   ]
  },
  {
   "cell_type": "code",
   "execution_count": 10,
   "id": "3a3b4dce6e8b8efa",
   "metadata": {
    "collapsed": false,
    "ExecuteTime": {
     "end_time": "2024-08-15T18:34:01.084222700Z",
     "start_time": "2024-08-15T18:34:00.748612500Z"
    }
   },
   "outputs": [
    {
     "data": {
      "text/plain": "ID         6936\nTweet      6770\nUnnamed       1\ndtype: int64"
     },
     "execution_count": 10,
     "metadata": {},
     "output_type": "execute_result"
    }
   ],
   "source": [
    "text_frame.nunique()"
   ]
  },
  {
   "cell_type": "code",
   "execution_count": 11,
   "id": "9c2f38af8dd761cc",
   "metadata": {
    "collapsed": false,
    "ExecuteTime": {
     "end_time": "2024-08-15T18:34:01.089481800Z",
     "start_time": "2024-08-15T18:34:00.783221600Z"
    }
   },
   "outputs": [
    {
     "data": {
      "text/plain": "array([\"Huge @Patriots pep rally at Toso's in PHX...waiting for Mr Kraft's arrival #GoPats @PatriotsExtra http://t.co/y9NElMN6jo\",\n       \"For Robert Kraft and Roger Goodell air still isn't clear - Boston Globe http://t.co/Rw4oh3hswK #google #sport\",\n       \"For Robert Kraft and Roger Goodell air still isn't clear - Boston Globe http://t.co/yN68nBRFne #google #sport\",\n       ...,\n       '@grantlandis will you make me some Velveeta Mac and cheese with chicken?',\n       'But why somebody just posted a pic on my fb feed of velveeta shells & cheese uncle Ben\\'s brown rice or ricearoni & some frozen broccoli\"',\n       'Get a #Save $1 off #Kraft Natural #Cheese Products! #coupon http://pinterest.com/pin/446911962998255057/\\xa0…'],\n      dtype=object)"
     },
     "execution_count": 11,
     "metadata": {},
     "output_type": "execute_result"
    }
   ],
   "source": [
    "# Check for unique values; almost all should be unique with exception for retweets\n",
    "text_frame['Tweet'].unique()"
   ]
  },
  {
   "cell_type": "code",
   "execution_count": 13,
   "id": "b62314f1143d3e4e",
   "metadata": {
    "collapsed": false,
    "ExecuteTime": {
     "end_time": "2024-08-15T18:34:01.290218700Z",
     "start_time": "2024-08-15T18:34:00.881819400Z"
    }
   },
   "outputs": [
    {
     "data": {
      "text/plain": "        ID                                              Tweet Unnamed\n13      14  check this out For Robert Kraft and Roger Good...     NaN\n470    471  #sports Kraft on speech: I didn't like being u...     NaN\n1673  1674  Roger Goodell on deflategate investigation Kra...     NaN\n1866  1867  check this out Myers: Goodell won't Kraft apol...     NaN\n1943  1944  Myers: Goodell won't Kraft apology for Deflate...     NaN\n1953  1954  Belichick Carroll both say they owe a bundle t...     NaN\n2362  2363  she had on athletic booster club shirt on too ...     NaN\n2384  2385  More on Robert Kraft's absence from Roger Good...     NaN\n2552  2553  RT @PCreighton1: Its #PCandADB 6-11p @sportsra...     NaN\n2554  2555  Its #PCandADB 6-11p @sportsradio610 @ADBsports...     NaN\n2921  2922  It’s Game On between Roger Goodell and Robert ...     NaN\n3143  3144  @jaymohr37 Goodell works for the owners... esp...     NaN\n3146  3147  RT @jasonrmcintyre: Pow MT @sportsrapport: Ric...     NaN\n3202  3203  @jaymohr37 Goodell loves going to Kraft's home...     NaN\n3215  3216  @jaymohr37 Im not a committee. Robert Kraft Le...     NaN\n3295  3296  @jaymohr37 #RogerGoodell has a new favorite ch...     NaN\n3327  3328  @GraveDigger_12 @ClydeEDawkins Kraft is one of...     NaN\n3704  3705  @SedanoESPN @SedanoAndStink @markschlereth @sp...     NaN\n3964  3965  # sports news Patriots owner Kraft stands fron...     NaN\n3965  3966  # sports news Patriots owner Kraft stands fron...     NaN\n3966  3967  # sports news Patriots owner Kraft stands fron...     NaN\n4023  4024  @janesports Rumor has it Kraft owes Goodell a ...     NaN\n4034  4035  RT @janesports: Customarily the Super Bowl tea...     NaN\n4198  4199  #sports Patriots owner Kraft stands front-and-...     NaN\n5035  5036  @davehydesports Bob Kraft demanding apologies ...     NaN\n5114  5115  RT @NYCsportsPUNK: @LillyAnnFraizer @BrianStra...     NaN\n5117  5118  World of New England Patriots owner Robert Kra...     NaN\n5897  5898  But @JerryThorton Barstool sports / @WEEI abso...     NaN\n5903  5904  RT @nypostsports: Did you have any doubts that...     NaN\n6420  6421  @jaymohr37 #RogerGoodell loves \"Kraft Cheese\"....     NaN\n6781  6782  Goodell favoring that Kraft cheese. I'm sayin....     NaN",
      "text/html": "<div>\n<style scoped>\n    .dataframe tbody tr th:only-of-type {\n        vertical-align: middle;\n    }\n\n    .dataframe tbody tr th {\n        vertical-align: top;\n    }\n\n    .dataframe thead th {\n        text-align: right;\n    }\n</style>\n<table border=\"1\" class=\"dataframe\">\n  <thead>\n    <tr style=\"text-align: right;\">\n      <th></th>\n      <th>ID</th>\n      <th>Tweet</th>\n      <th>Unnamed</th>\n    </tr>\n  </thead>\n  <tbody>\n    <tr>\n      <th>13</th>\n      <td>14</td>\n      <td>check this out For Robert Kraft and Roger Good...</td>\n      <td>NaN</td>\n    </tr>\n    <tr>\n      <th>470</th>\n      <td>471</td>\n      <td>#sports Kraft on speech: I didn't like being u...</td>\n      <td>NaN</td>\n    </tr>\n    <tr>\n      <th>1673</th>\n      <td>1674</td>\n      <td>Roger Goodell on deflategate investigation Kra...</td>\n      <td>NaN</td>\n    </tr>\n    <tr>\n      <th>1866</th>\n      <td>1867</td>\n      <td>check this out Myers: Goodell won't Kraft apol...</td>\n      <td>NaN</td>\n    </tr>\n    <tr>\n      <th>1943</th>\n      <td>1944</td>\n      <td>Myers: Goodell won't Kraft apology for Deflate...</td>\n      <td>NaN</td>\n    </tr>\n    <tr>\n      <th>1953</th>\n      <td>1954</td>\n      <td>Belichick Carroll both say they owe a bundle t...</td>\n      <td>NaN</td>\n    </tr>\n    <tr>\n      <th>2362</th>\n      <td>2363</td>\n      <td>she had on athletic booster club shirt on too ...</td>\n      <td>NaN</td>\n    </tr>\n    <tr>\n      <th>2384</th>\n      <td>2385</td>\n      <td>More on Robert Kraft's absence from Roger Good...</td>\n      <td>NaN</td>\n    </tr>\n    <tr>\n      <th>2552</th>\n      <td>2553</td>\n      <td>RT @PCreighton1: Its #PCandADB 6-11p @sportsra...</td>\n      <td>NaN</td>\n    </tr>\n    <tr>\n      <th>2554</th>\n      <td>2555</td>\n      <td>Its #PCandADB 6-11p @sportsradio610 @ADBsports...</td>\n      <td>NaN</td>\n    </tr>\n    <tr>\n      <th>2921</th>\n      <td>2922</td>\n      <td>It’s Game On between Roger Goodell and Robert ...</td>\n      <td>NaN</td>\n    </tr>\n    <tr>\n      <th>3143</th>\n      <td>3144</td>\n      <td>@jaymohr37 Goodell works for the owners... esp...</td>\n      <td>NaN</td>\n    </tr>\n    <tr>\n      <th>3146</th>\n      <td>3147</td>\n      <td>RT @jasonrmcintyre: Pow MT @sportsrapport: Ric...</td>\n      <td>NaN</td>\n    </tr>\n    <tr>\n      <th>3202</th>\n      <td>3203</td>\n      <td>@jaymohr37 Goodell loves going to Kraft's home...</td>\n      <td>NaN</td>\n    </tr>\n    <tr>\n      <th>3215</th>\n      <td>3216</td>\n      <td>@jaymohr37 Im not a committee. Robert Kraft Le...</td>\n      <td>NaN</td>\n    </tr>\n    <tr>\n      <th>3295</th>\n      <td>3296</td>\n      <td>@jaymohr37 #RogerGoodell has a new favorite ch...</td>\n      <td>NaN</td>\n    </tr>\n    <tr>\n      <th>3327</th>\n      <td>3328</td>\n      <td>@GraveDigger_12 @ClydeEDawkins Kraft is one of...</td>\n      <td>NaN</td>\n    </tr>\n    <tr>\n      <th>3704</th>\n      <td>3705</td>\n      <td>@SedanoESPN @SedanoAndStink @markschlereth @sp...</td>\n      <td>NaN</td>\n    </tr>\n    <tr>\n      <th>3964</th>\n      <td>3965</td>\n      <td># sports news Patriots owner Kraft stands fron...</td>\n      <td>NaN</td>\n    </tr>\n    <tr>\n      <th>3965</th>\n      <td>3966</td>\n      <td># sports news Patriots owner Kraft stands fron...</td>\n      <td>NaN</td>\n    </tr>\n    <tr>\n      <th>3966</th>\n      <td>3967</td>\n      <td># sports news Patriots owner Kraft stands fron...</td>\n      <td>NaN</td>\n    </tr>\n    <tr>\n      <th>4023</th>\n      <td>4024</td>\n      <td>@janesports Rumor has it Kraft owes Goodell a ...</td>\n      <td>NaN</td>\n    </tr>\n    <tr>\n      <th>4034</th>\n      <td>4035</td>\n      <td>RT @janesports: Customarily the Super Bowl tea...</td>\n      <td>NaN</td>\n    </tr>\n    <tr>\n      <th>4198</th>\n      <td>4199</td>\n      <td>#sports Patriots owner Kraft stands front-and-...</td>\n      <td>NaN</td>\n    </tr>\n    <tr>\n      <th>5035</th>\n      <td>5036</td>\n      <td>@davehydesports Bob Kraft demanding apologies ...</td>\n      <td>NaN</td>\n    </tr>\n    <tr>\n      <th>5114</th>\n      <td>5115</td>\n      <td>RT @NYCsportsPUNK: @LillyAnnFraizer @BrianStra...</td>\n      <td>NaN</td>\n    </tr>\n    <tr>\n      <th>5117</th>\n      <td>5118</td>\n      <td>World of New England Patriots owner Robert Kra...</td>\n      <td>NaN</td>\n    </tr>\n    <tr>\n      <th>5897</th>\n      <td>5898</td>\n      <td>But @JerryThorton Barstool sports / @WEEI abso...</td>\n      <td>NaN</td>\n    </tr>\n    <tr>\n      <th>5903</th>\n      <td>5904</td>\n      <td>RT @nypostsports: Did you have any doubts that...</td>\n      <td>NaN</td>\n    </tr>\n    <tr>\n      <th>6420</th>\n      <td>6421</td>\n      <td>@jaymohr37 #RogerGoodell loves \"Kraft Cheese\"....</td>\n      <td>NaN</td>\n    </tr>\n    <tr>\n      <th>6781</th>\n      <td>6782</td>\n      <td>Goodell favoring that Kraft cheese. I'm sayin....</td>\n      <td>NaN</td>\n    </tr>\n  </tbody>\n</table>\n</div>"
     },
     "execution_count": 13,
     "metadata": {},
     "output_type": "execute_result"
    }
   ],
   "source": [
    "text_frame[text_frame['Tweet'].str.contains('sports')]"
   ]
  },
  {
   "cell_type": "code",
   "execution_count": 14,
   "id": "210b50ecc874c325",
   "metadata": {
    "collapsed": false,
    "ExecuteTime": {
     "end_time": "2024-08-15T18:34:01.358711200Z",
     "start_time": "2024-08-15T18:34:00.947278900Z"
    }
   },
   "outputs": [
    {
     "data": {
      "text/plain": "        ID                                              Tweet Unnamed\n0        1  Huge @Patriots pep rally at Toso's in PHX...wa...     NaN\n39      40  Remember that time Putin may have stolen Patri...     NaN\n54      55  The 73-Year-Old Patriots Owner Bob Kraft Has a...     NaN\n62      63  RT @Life_and_Style: The #Patriots owner #BobKr...     NaN\n74      75  Kraft on speech: I didn't like being unfairly ...     NaN\n...    ...                                                ...     ...\n6635  6636  Does Robert Kraft own Kraft cheese?? That maca...     NaN\n6662  6663  @alexmarvez @Patriots @NFLonFOX Want a second ...     NaN\n6723  6724  Robert Kraft demands an apology whenever someo...     NaN\n6740  6741  @robertsnell7 @GMA @ChrisEvans @CaptainAmerica...     NaN\n6758  6759  Damn all this time I thought Robert Kraft made...     NaN\n\n[532 rows x 3 columns]",
      "text/html": "<div>\n<style scoped>\n    .dataframe tbody tr th:only-of-type {\n        vertical-align: middle;\n    }\n\n    .dataframe tbody tr th {\n        vertical-align: top;\n    }\n\n    .dataframe thead th {\n        text-align: right;\n    }\n</style>\n<table border=\"1\" class=\"dataframe\">\n  <thead>\n    <tr style=\"text-align: right;\">\n      <th></th>\n      <th>ID</th>\n      <th>Tweet</th>\n      <th>Unnamed</th>\n    </tr>\n  </thead>\n  <tbody>\n    <tr>\n      <th>0</th>\n      <td>1</td>\n      <td>Huge @Patriots pep rally at Toso's in PHX...wa...</td>\n      <td>NaN</td>\n    </tr>\n    <tr>\n      <th>39</th>\n      <td>40</td>\n      <td>Remember that time Putin may have stolen Patri...</td>\n      <td>NaN</td>\n    </tr>\n    <tr>\n      <th>54</th>\n      <td>55</td>\n      <td>The 73-Year-Old Patriots Owner Bob Kraft Has a...</td>\n      <td>NaN</td>\n    </tr>\n    <tr>\n      <th>62</th>\n      <td>63</td>\n      <td>RT @Life_and_Style: The #Patriots owner #BobKr...</td>\n      <td>NaN</td>\n    </tr>\n    <tr>\n      <th>74</th>\n      <td>75</td>\n      <td>Kraft on speech: I didn't like being unfairly ...</td>\n      <td>NaN</td>\n    </tr>\n    <tr>\n      <th>...</th>\n      <td>...</td>\n      <td>...</td>\n      <td>...</td>\n    </tr>\n    <tr>\n      <th>6635</th>\n      <td>6636</td>\n      <td>Does Robert Kraft own Kraft cheese?? That maca...</td>\n      <td>NaN</td>\n    </tr>\n    <tr>\n      <th>6662</th>\n      <td>6663</td>\n      <td>@alexmarvez @Patriots @NFLonFOX Want a second ...</td>\n      <td>NaN</td>\n    </tr>\n    <tr>\n      <th>6723</th>\n      <td>6724</td>\n      <td>Robert Kraft demands an apology whenever someo...</td>\n      <td>NaN</td>\n    </tr>\n    <tr>\n      <th>6740</th>\n      <td>6741</td>\n      <td>@robertsnell7 @GMA @ChrisEvans @CaptainAmerica...</td>\n      <td>NaN</td>\n    </tr>\n    <tr>\n      <th>6758</th>\n      <td>6759</td>\n      <td>Damn all this time I thought Robert Kraft made...</td>\n      <td>NaN</td>\n    </tr>\n  </tbody>\n</table>\n<p>532 rows × 3 columns</p>\n</div>"
     },
     "execution_count": 14,
     "metadata": {},
     "output_type": "execute_result"
    }
   ],
   "source": [
    "text_frame[text_frame['Tweet'].str.contains('Patriots')]"
   ]
  },
  {
   "cell_type": "code",
   "execution_count": 15,
   "id": "4ba651dff398f17f",
   "metadata": {
    "collapsed": false,
    "ExecuteTime": {
     "end_time": "2024-08-15T18:34:01.386832Z",
     "start_time": "2024-08-15T18:34:01.005156Z"
    }
   },
   "outputs": [
    {
     "data": {
      "text/plain": "        ID                                              Tweet Unnamed\n407    408  $5.00 Off Kraft Macaroni and Cheese or Velveet...     NaN\n2507  2508  @Scannon146 Kraft is good too. I've had better...     NaN\n3263  3264                       Velveeta over Kraft any day.     NaN\n3287  3288  #SuperBowl #snack shopping? Hope there's no re...     NaN\n5146  5147  Walgreens: FREE Kraft Homestyle Mac &amp; Chee...     NaN\n...    ...                                                ...     ...\n6926  6927  @bennyc50 Was it the powdered cheese mac or th...     NaN\n6928  6929            Velveeta cheese is a fucking experience     NaN\n6930  6931  @grantlandis will you make me some Velveeta Ma...     NaN\n6933  6934                   Cheese in my pockets .. Velveeta     NaN\n6934  6935                     Cheese in my pocket Velveeta !     NaN\n\n[401 rows x 3 columns]",
      "text/html": "<div>\n<style scoped>\n    .dataframe tbody tr th:only-of-type {\n        vertical-align: middle;\n    }\n\n    .dataframe tbody tr th {\n        vertical-align: top;\n    }\n\n    .dataframe thead th {\n        text-align: right;\n    }\n</style>\n<table border=\"1\" class=\"dataframe\">\n  <thead>\n    <tr style=\"text-align: right;\">\n      <th></th>\n      <th>ID</th>\n      <th>Tweet</th>\n      <th>Unnamed</th>\n    </tr>\n  </thead>\n  <tbody>\n    <tr>\n      <th>407</th>\n      <td>408</td>\n      <td>$5.00 Off Kraft Macaroni and Cheese or Velveet...</td>\n      <td>NaN</td>\n    </tr>\n    <tr>\n      <th>2507</th>\n      <td>2508</td>\n      <td>@Scannon146 Kraft is good too. I've had better...</td>\n      <td>NaN</td>\n    </tr>\n    <tr>\n      <th>3263</th>\n      <td>3264</td>\n      <td>Velveeta over Kraft any day.</td>\n      <td>NaN</td>\n    </tr>\n    <tr>\n      <th>3287</th>\n      <td>3288</td>\n      <td>#SuperBowl #snack shopping? Hope there's no re...</td>\n      <td>NaN</td>\n    </tr>\n    <tr>\n      <th>5146</th>\n      <td>5147</td>\n      <td>Walgreens: FREE Kraft Homestyle Mac &amp;amp; Chee...</td>\n      <td>NaN</td>\n    </tr>\n    <tr>\n      <th>...</th>\n      <td>...</td>\n      <td>...</td>\n      <td>...</td>\n    </tr>\n    <tr>\n      <th>6926</th>\n      <td>6927</td>\n      <td>@bennyc50 Was it the powdered cheese mac or th...</td>\n      <td>NaN</td>\n    </tr>\n    <tr>\n      <th>6928</th>\n      <td>6929</td>\n      <td>Velveeta cheese is a fucking experience</td>\n      <td>NaN</td>\n    </tr>\n    <tr>\n      <th>6930</th>\n      <td>6931</td>\n      <td>@grantlandis will you make me some Velveeta Ma...</td>\n      <td>NaN</td>\n    </tr>\n    <tr>\n      <th>6933</th>\n      <td>6934</td>\n      <td>Cheese in my pockets .. Velveeta</td>\n      <td>NaN</td>\n    </tr>\n    <tr>\n      <th>6934</th>\n      <td>6935</td>\n      <td>Cheese in my pocket Velveeta !</td>\n      <td>NaN</td>\n    </tr>\n  </tbody>\n</table>\n<p>401 rows × 3 columns</p>\n</div>"
     },
     "execution_count": 15,
     "metadata": {},
     "output_type": "execute_result"
    }
   ],
   "source": [
    "text_frame[text_frame['Tweet'].str.contains('Velveeta')]"
   ]
  },
  {
   "cell_type": "code",
   "execution_count": 16,
   "id": "9a6d46bc9920b2b7",
   "metadata": {
    "collapsed": false,
    "ExecuteTime": {
     "end_time": "2024-08-15T18:34:01.420434800Z",
     "start_time": "2024-08-15T18:34:01.050649500Z"
    }
   },
   "outputs": [
    {
     "data": {
      "text/plain": "        ID                                              Tweet Unnamed\n138    139            Really craving mac and cheese!!! #Kraft     NaN\n692    693  Never leave out the butter when making Kraft m...     NaN\n1512  1513      I need kraft mac and cheese right fucking now     NaN\n1816  1817  RT @samm_chino: Kraft mac and cheese gossip gi...     NaN\n1932  1933  Our kids seem to prefer Kraft mac and cheese o...     NaN\n2016  2017  @AndieSawyerRP @melissacoatesrp then eat up. I...     NaN\n2223  2224  @AndieSawyerRP @JohnFlynnRP @melissacoatesrp *...     NaN\n2264  2265  crying bc i want kraft mac and cheese but i do...     NaN\n2433  2434  Kraft mac and cheese gossip girl and my best f...     NaN\n2563  2564  I don't care how unhealthy it is- I will eat K...     NaN\n3406  3407  Is there anything better than kraft mac and ch...     NaN\n3667  3668          i've fallen for kraft mac and cheese fuck     NaN\n4243  4244  Kraft mac and cheese has a ridiculous amount o...     NaN\n5039  5040  RT @_rashawn213: \"@abs21510: I'm gunna spoil m...     NaN\n5108  5109  \"@abs21510: I'm gunna spoil my girl with velve...     NaN\n5135  5136  I'm gunna spoil my girl with velveta shells no...     NaN\n5270  5271  Only excited for Valentine's Day because of th...     NaN\n5860  5861  If you like Kraft mac and cheese don't freakin...     NaN\n6055  6056                 Velveeta mac and cheese is so good     NaN\n6145  6146  Velveeta shells and cheese will forever be bet...     NaN\n6166  6167  just ate a whole box of velveeta mac and chees...     NaN\n6171  6172              Velveeta mac and cheese is everything     NaN\n6174  6175               go invest in velveeta mac and cheese     NaN\n6193  6194              I really love velveeta mac and cheese     NaN\n6200  6201  @cynfffia Haha I still need to try velveeta ma...     NaN\n6212  6213  The only thing im debating is my own mac and c...     NaN\n6260  6261  I want to act like I'm 8 again and eat Velveet...     NaN\n6261  6262  Mac & Cheese for dinner. Full on white elbow p...     NaN\n6273  6274  Loving how my mom makes me Velveeta mac and ch...     NaN\n6321  6322  like holy shit velveeta mac and cheese sounds ...     NaN\n6388  6389  @SemiCartamatic man it's mac and cheese with b...     NaN\n6433  6434  “@ashtinooooo: Velveeta mac and cheese is the ...     NaN\n6441  6442                Velveeta mac and cheese is the shit     NaN\n6459  6460  The world is full of surprises! Was that an ex...     NaN\n6550  6551  @ashleyy29_ who says i was gunna eat it maybe ...     NaN\n6584  6585  wow I could really go for some velveeta mac an...     NaN\n6601  6602  my dormmate gave me the rest of her velveeta m...     NaN\n6608  6609  Just found cosmic brownies AND velveeta mac an...     NaN\n6627  6628  All I eat in college is mac and cheese. Craft ...     NaN\n6746  6747  making velveeta mac and cheese ... and some sa...     NaN\n6790  6791  I could eat velveeta mac and cheese every sing...     NaN\n6796  6797  packing velveeta mac and cheese for lunch and ...     NaN\n6832  6833  If you add brie to a mac and cheese sauce it a...     NaN\n6848  6849  can women stop making velveeta mac and cheese ...     NaN\n6914  6915  the only pull game i have is pulling the wrapp...     NaN",
      "text/html": "<div>\n<style scoped>\n    .dataframe tbody tr th:only-of-type {\n        vertical-align: middle;\n    }\n\n    .dataframe tbody tr th {\n        vertical-align: top;\n    }\n\n    .dataframe thead th {\n        text-align: right;\n    }\n</style>\n<table border=\"1\" class=\"dataframe\">\n  <thead>\n    <tr style=\"text-align: right;\">\n      <th></th>\n      <th>ID</th>\n      <th>Tweet</th>\n      <th>Unnamed</th>\n    </tr>\n  </thead>\n  <tbody>\n    <tr>\n      <th>138</th>\n      <td>139</td>\n      <td>Really craving mac and cheese!!! #Kraft</td>\n      <td>NaN</td>\n    </tr>\n    <tr>\n      <th>692</th>\n      <td>693</td>\n      <td>Never leave out the butter when making Kraft m...</td>\n      <td>NaN</td>\n    </tr>\n    <tr>\n      <th>1512</th>\n      <td>1513</td>\n      <td>I need kraft mac and cheese right fucking now</td>\n      <td>NaN</td>\n    </tr>\n    <tr>\n      <th>1816</th>\n      <td>1817</td>\n      <td>RT @samm_chino: Kraft mac and cheese gossip gi...</td>\n      <td>NaN</td>\n    </tr>\n    <tr>\n      <th>1932</th>\n      <td>1933</td>\n      <td>Our kids seem to prefer Kraft mac and cheese o...</td>\n      <td>NaN</td>\n    </tr>\n    <tr>\n      <th>2016</th>\n      <td>2017</td>\n      <td>@AndieSawyerRP @melissacoatesrp then eat up. I...</td>\n      <td>NaN</td>\n    </tr>\n    <tr>\n      <th>2223</th>\n      <td>2224</td>\n      <td>@AndieSawyerRP @JohnFlynnRP @melissacoatesrp *...</td>\n      <td>NaN</td>\n    </tr>\n    <tr>\n      <th>2264</th>\n      <td>2265</td>\n      <td>crying bc i want kraft mac and cheese but i do...</td>\n      <td>NaN</td>\n    </tr>\n    <tr>\n      <th>2433</th>\n      <td>2434</td>\n      <td>Kraft mac and cheese gossip girl and my best f...</td>\n      <td>NaN</td>\n    </tr>\n    <tr>\n      <th>2563</th>\n      <td>2564</td>\n      <td>I don't care how unhealthy it is- I will eat K...</td>\n      <td>NaN</td>\n    </tr>\n    <tr>\n      <th>3406</th>\n      <td>3407</td>\n      <td>Is there anything better than kraft mac and ch...</td>\n      <td>NaN</td>\n    </tr>\n    <tr>\n      <th>3667</th>\n      <td>3668</td>\n      <td>i've fallen for kraft mac and cheese fuck</td>\n      <td>NaN</td>\n    </tr>\n    <tr>\n      <th>4243</th>\n      <td>4244</td>\n      <td>Kraft mac and cheese has a ridiculous amount o...</td>\n      <td>NaN</td>\n    </tr>\n    <tr>\n      <th>5039</th>\n      <td>5040</td>\n      <td>RT @_rashawn213: \"@abs21510: I'm gunna spoil m...</td>\n      <td>NaN</td>\n    </tr>\n    <tr>\n      <th>5108</th>\n      <td>5109</td>\n      <td>\"@abs21510: I'm gunna spoil my girl with velve...</td>\n      <td>NaN</td>\n    </tr>\n    <tr>\n      <th>5135</th>\n      <td>5136</td>\n      <td>I'm gunna spoil my girl with velveta shells no...</td>\n      <td>NaN</td>\n    </tr>\n    <tr>\n      <th>5270</th>\n      <td>5271</td>\n      <td>Only excited for Valentine's Day because of th...</td>\n      <td>NaN</td>\n    </tr>\n    <tr>\n      <th>5860</th>\n      <td>5861</td>\n      <td>If you like Kraft mac and cheese don't freakin...</td>\n      <td>NaN</td>\n    </tr>\n    <tr>\n      <th>6055</th>\n      <td>6056</td>\n      <td>Velveeta mac and cheese is so good</td>\n      <td>NaN</td>\n    </tr>\n    <tr>\n      <th>6145</th>\n      <td>6146</td>\n      <td>Velveeta shells and cheese will forever be bet...</td>\n      <td>NaN</td>\n    </tr>\n    <tr>\n      <th>6166</th>\n      <td>6167</td>\n      <td>just ate a whole box of velveeta mac and chees...</td>\n      <td>NaN</td>\n    </tr>\n    <tr>\n      <th>6171</th>\n      <td>6172</td>\n      <td>Velveeta mac and cheese is everything</td>\n      <td>NaN</td>\n    </tr>\n    <tr>\n      <th>6174</th>\n      <td>6175</td>\n      <td>go invest in velveeta mac and cheese</td>\n      <td>NaN</td>\n    </tr>\n    <tr>\n      <th>6193</th>\n      <td>6194</td>\n      <td>I really love velveeta mac and cheese</td>\n      <td>NaN</td>\n    </tr>\n    <tr>\n      <th>6200</th>\n      <td>6201</td>\n      <td>@cynfffia Haha I still need to try velveeta ma...</td>\n      <td>NaN</td>\n    </tr>\n    <tr>\n      <th>6212</th>\n      <td>6213</td>\n      <td>The only thing im debating is my own mac and c...</td>\n      <td>NaN</td>\n    </tr>\n    <tr>\n      <th>6260</th>\n      <td>6261</td>\n      <td>I want to act like I'm 8 again and eat Velveet...</td>\n      <td>NaN</td>\n    </tr>\n    <tr>\n      <th>6261</th>\n      <td>6262</td>\n      <td>Mac &amp; Cheese for dinner. Full on white elbow p...</td>\n      <td>NaN</td>\n    </tr>\n    <tr>\n      <th>6273</th>\n      <td>6274</td>\n      <td>Loving how my mom makes me Velveeta mac and ch...</td>\n      <td>NaN</td>\n    </tr>\n    <tr>\n      <th>6321</th>\n      <td>6322</td>\n      <td>like holy shit velveeta mac and cheese sounds ...</td>\n      <td>NaN</td>\n    </tr>\n    <tr>\n      <th>6388</th>\n      <td>6389</td>\n      <td>@SemiCartamatic man it's mac and cheese with b...</td>\n      <td>NaN</td>\n    </tr>\n    <tr>\n      <th>6433</th>\n      <td>6434</td>\n      <td>“@ashtinooooo: Velveeta mac and cheese is the ...</td>\n      <td>NaN</td>\n    </tr>\n    <tr>\n      <th>6441</th>\n      <td>6442</td>\n      <td>Velveeta mac and cheese is the shit</td>\n      <td>NaN</td>\n    </tr>\n    <tr>\n      <th>6459</th>\n      <td>6460</td>\n      <td>The world is full of surprises! Was that an ex...</td>\n      <td>NaN</td>\n    </tr>\n    <tr>\n      <th>6550</th>\n      <td>6551</td>\n      <td>@ashleyy29_ who says i was gunna eat it maybe ...</td>\n      <td>NaN</td>\n    </tr>\n    <tr>\n      <th>6584</th>\n      <td>6585</td>\n      <td>wow I could really go for some velveeta mac an...</td>\n      <td>NaN</td>\n    </tr>\n    <tr>\n      <th>6601</th>\n      <td>6602</td>\n      <td>my dormmate gave me the rest of her velveeta m...</td>\n      <td>NaN</td>\n    </tr>\n    <tr>\n      <th>6608</th>\n      <td>6609</td>\n      <td>Just found cosmic brownies AND velveeta mac an...</td>\n      <td>NaN</td>\n    </tr>\n    <tr>\n      <th>6627</th>\n      <td>6628</td>\n      <td>All I eat in college is mac and cheese. Craft ...</td>\n      <td>NaN</td>\n    </tr>\n    <tr>\n      <th>6746</th>\n      <td>6747</td>\n      <td>making velveeta mac and cheese ... and some sa...</td>\n      <td>NaN</td>\n    </tr>\n    <tr>\n      <th>6790</th>\n      <td>6791</td>\n      <td>I could eat velveeta mac and cheese every sing...</td>\n      <td>NaN</td>\n    </tr>\n    <tr>\n      <th>6796</th>\n      <td>6797</td>\n      <td>packing velveeta mac and cheese for lunch and ...</td>\n      <td>NaN</td>\n    </tr>\n    <tr>\n      <th>6832</th>\n      <td>6833</td>\n      <td>If you add brie to a mac and cheese sauce it a...</td>\n      <td>NaN</td>\n    </tr>\n    <tr>\n      <th>6848</th>\n      <td>6849</td>\n      <td>can women stop making velveeta mac and cheese ...</td>\n      <td>NaN</td>\n    </tr>\n    <tr>\n      <th>6914</th>\n      <td>6915</td>\n      <td>the only pull game i have is pulling the wrapp...</td>\n      <td>NaN</td>\n    </tr>\n  </tbody>\n</table>\n</div>"
     },
     "execution_count": 16,
     "metadata": {},
     "output_type": "execute_result"
    }
   ],
   "source": [
    "text_frame[text_frame['Tweet'].str.contains('mac and cheese')]"
   ]
  },
  {
   "cell_type": "code",
   "execution_count": 17,
   "id": "a1d9ae49d95b13ae",
   "metadata": {
    "collapsed": false,
    "ExecuteTime": {
     "end_time": "2024-08-15T18:34:01.544019500Z",
     "start_time": "2024-08-15T18:34:01.098943Z"
    }
   },
   "outputs": [
    {
     "data": {
      "text/plain": "        ID                                              Tweet Unnamed\n5        6  RT @HomespunSociety: Wrap it up http://t.co/82...     NaN\n8        9  RT @OTLonESPN: Tomorrow 8am ET ESPN2: Fallout ...     NaN\n10      11  RT @kittyFitz50: I love Kraft beer .@America_O...     NaN\n18      19  Super COOL Mommy PAPER! http://t.co/6LFNV4JTOP...     NaN\n19      20  RT @ProjetoIdols: RT to be a in a group DM wit...     NaN\n...    ...                                                ...     ...\n6262  6263   VELVEETA SHELLS & CHEESE ARE THE WAY TO MY HEART     NaN\n6354  6355  RT @DanielleAlberti: \"How do you say 'American...     NaN\n6447  6448  U mean they like kraft cheese RT @Rich729_: “@...     NaN\n6729  6730  No dude Velveeta! RT @EricStangel: Not sure if...     NaN\n6767  6768  RT “@SullyFootball: Water is also wet “@BLB_Ch...     NaN\n\n[1050 rows x 3 columns]",
      "text/html": "<div>\n<style scoped>\n    .dataframe tbody tr th:only-of-type {\n        vertical-align: middle;\n    }\n\n    .dataframe tbody tr th {\n        vertical-align: top;\n    }\n\n    .dataframe thead th {\n        text-align: right;\n    }\n</style>\n<table border=\"1\" class=\"dataframe\">\n  <thead>\n    <tr style=\"text-align: right;\">\n      <th></th>\n      <th>ID</th>\n      <th>Tweet</th>\n      <th>Unnamed</th>\n    </tr>\n  </thead>\n  <tbody>\n    <tr>\n      <th>5</th>\n      <td>6</td>\n      <td>RT @HomespunSociety: Wrap it up http://t.co/82...</td>\n      <td>NaN</td>\n    </tr>\n    <tr>\n      <th>8</th>\n      <td>9</td>\n      <td>RT @OTLonESPN: Tomorrow 8am ET ESPN2: Fallout ...</td>\n      <td>NaN</td>\n    </tr>\n    <tr>\n      <th>10</th>\n      <td>11</td>\n      <td>RT @kittyFitz50: I love Kraft beer .@America_O...</td>\n      <td>NaN</td>\n    </tr>\n    <tr>\n      <th>18</th>\n      <td>19</td>\n      <td>Super COOL Mommy PAPER! http://t.co/6LFNV4JTOP...</td>\n      <td>NaN</td>\n    </tr>\n    <tr>\n      <th>19</th>\n      <td>20</td>\n      <td>RT @ProjetoIdols: RT to be a in a group DM wit...</td>\n      <td>NaN</td>\n    </tr>\n    <tr>\n      <th>...</th>\n      <td>...</td>\n      <td>...</td>\n      <td>...</td>\n    </tr>\n    <tr>\n      <th>6262</th>\n      <td>6263</td>\n      <td>VELVEETA SHELLS &amp; CHEESE ARE THE WAY TO MY HEART</td>\n      <td>NaN</td>\n    </tr>\n    <tr>\n      <th>6354</th>\n      <td>6355</td>\n      <td>RT @DanielleAlberti: \"How do you say 'American...</td>\n      <td>NaN</td>\n    </tr>\n    <tr>\n      <th>6447</th>\n      <td>6448</td>\n      <td>U mean they like kraft cheese RT @Rich729_: “@...</td>\n      <td>NaN</td>\n    </tr>\n    <tr>\n      <th>6729</th>\n      <td>6730</td>\n      <td>No dude Velveeta! RT @EricStangel: Not sure if...</td>\n      <td>NaN</td>\n    </tr>\n    <tr>\n      <th>6767</th>\n      <td>6768</td>\n      <td>RT “@SullyFootball: Water is also wet “@BLB_Ch...</td>\n      <td>NaN</td>\n    </tr>\n  </tbody>\n</table>\n<p>1050 rows × 3 columns</p>\n</div>"
     },
     "execution_count": 17,
     "metadata": {},
     "output_type": "execute_result"
    }
   ],
   "source": [
    "# Check for retweets\n",
    "text_frame[text_frame['Tweet'].str.contains('RT')]"
   ]
  },
  {
   "cell_type": "code",
   "execution_count": 18,
   "id": "4f57bc7c918d08ca",
   "metadata": {
    "collapsed": false,
    "ExecuteTime": {
     "end_time": "2024-08-15T18:34:01.753872800Z",
     "start_time": "2024-08-15T18:34:01.160985Z"
    }
   },
   "outputs": [
    {
     "data": {
      "text/plain": "        ID                                              Tweet Unnamed\n605    606  If you can't watch KU basketball with me then ...     NaN\n906    907  RT @HPbasketball: OK Geez. RT @DropStepHoops: ...     NaN\n5306  5307         @Robert15Jgod Who's winning in basketball?     NaN\n5314  5315       @AlexConstancio Are you playing basketball ?     NaN",
      "text/html": "<div>\n<style scoped>\n    .dataframe tbody tr th:only-of-type {\n        vertical-align: middle;\n    }\n\n    .dataframe tbody tr th {\n        vertical-align: top;\n    }\n\n    .dataframe thead th {\n        text-align: right;\n    }\n</style>\n<table border=\"1\" class=\"dataframe\">\n  <thead>\n    <tr style=\"text-align: right;\">\n      <th></th>\n      <th>ID</th>\n      <th>Tweet</th>\n      <th>Unnamed</th>\n    </tr>\n  </thead>\n  <tbody>\n    <tr>\n      <th>605</th>\n      <td>606</td>\n      <td>If you can't watch KU basketball with me then ...</td>\n      <td>NaN</td>\n    </tr>\n    <tr>\n      <th>906</th>\n      <td>907</td>\n      <td>RT @HPbasketball: OK Geez. RT @DropStepHoops: ...</td>\n      <td>NaN</td>\n    </tr>\n    <tr>\n      <th>5306</th>\n      <td>5307</td>\n      <td>@Robert15Jgod Who's winning in basketball?</td>\n      <td>NaN</td>\n    </tr>\n    <tr>\n      <th>5314</th>\n      <td>5315</td>\n      <td>@AlexConstancio Are you playing basketball ?</td>\n      <td>NaN</td>\n    </tr>\n  </tbody>\n</table>\n</div>"
     },
     "execution_count": 18,
     "metadata": {},
     "output_type": "execute_result"
    }
   ],
   "source": [
    "text_frame[text_frame['Tweet'].str.contains('basketball')]"
   ]
  },
  {
   "cell_type": "code",
   "execution_count": 19,
   "id": "9cd9d4a32027db23",
   "metadata": {
    "collapsed": false,
    "ExecuteTime": {
     "end_time": "2024-08-15T18:34:01.822483400Z",
     "start_time": "2024-08-15T18:34:01.223356100Z"
    }
   },
   "outputs": [
    {
     "data": {
      "text/plain": "        ID                                              Tweet Unnamed\n28      29  Watch Kraft Dinner DESTROY American mac 'n che...     NaN\n47      48  “@OrganicMami: “@Sanyalala: Not that fake crus...     NaN\n48      49  “@Sanyalala: Not that fake crusty KRAFT cheese...     NaN\n49      50                  Not that fake crusty KRAFT cheese     NaN\n72      73  If a girl tried feeding me Kraft Mac and chees...     NaN\n...    ...                                                ...     ...\n6926  6927  @bennyc50 Was it the powdered cheese mac or th...     NaN\n6928  6929            Velveeta cheese is a fucking experience     NaN\n6929  6930  Can we have a velveeta Mac and cheese date? @g...     NaN\n6930  6931  @grantlandis will you make me some Velveeta Ma...     NaN\n6932  6933  But why somebody just posted a pic on my fb fe...     NaN\n\n[823 rows x 3 columns]",
      "text/html": "<div>\n<style scoped>\n    .dataframe tbody tr th:only-of-type {\n        vertical-align: middle;\n    }\n\n    .dataframe tbody tr th {\n        vertical-align: top;\n    }\n\n    .dataframe thead th {\n        text-align: right;\n    }\n</style>\n<table border=\"1\" class=\"dataframe\">\n  <thead>\n    <tr style=\"text-align: right;\">\n      <th></th>\n      <th>ID</th>\n      <th>Tweet</th>\n      <th>Unnamed</th>\n    </tr>\n  </thead>\n  <tbody>\n    <tr>\n      <th>28</th>\n      <td>29</td>\n      <td>Watch Kraft Dinner DESTROY American mac 'n che...</td>\n      <td>NaN</td>\n    </tr>\n    <tr>\n      <th>47</th>\n      <td>48</td>\n      <td>“@OrganicMami: “@Sanyalala: Not that fake crus...</td>\n      <td>NaN</td>\n    </tr>\n    <tr>\n      <th>48</th>\n      <td>49</td>\n      <td>“@Sanyalala: Not that fake crusty KRAFT cheese...</td>\n      <td>NaN</td>\n    </tr>\n    <tr>\n      <th>49</th>\n      <td>50</td>\n      <td>Not that fake crusty KRAFT cheese</td>\n      <td>NaN</td>\n    </tr>\n    <tr>\n      <th>72</th>\n      <td>73</td>\n      <td>If a girl tried feeding me Kraft Mac and chees...</td>\n      <td>NaN</td>\n    </tr>\n    <tr>\n      <th>...</th>\n      <td>...</td>\n      <td>...</td>\n      <td>...</td>\n    </tr>\n    <tr>\n      <th>6926</th>\n      <td>6927</td>\n      <td>@bennyc50 Was it the powdered cheese mac or th...</td>\n      <td>NaN</td>\n    </tr>\n    <tr>\n      <th>6928</th>\n      <td>6929</td>\n      <td>Velveeta cheese is a fucking experience</td>\n      <td>NaN</td>\n    </tr>\n    <tr>\n      <th>6929</th>\n      <td>6930</td>\n      <td>Can we have a velveeta Mac and cheese date? @g...</td>\n      <td>NaN</td>\n    </tr>\n    <tr>\n      <th>6930</th>\n      <td>6931</td>\n      <td>@grantlandis will you make me some Velveeta Ma...</td>\n      <td>NaN</td>\n    </tr>\n    <tr>\n      <th>6932</th>\n      <td>6933</td>\n      <td>But why somebody just posted a pic on my fb fe...</td>\n      <td>NaN</td>\n    </tr>\n  </tbody>\n</table>\n<p>823 rows × 3 columns</p>\n</div>"
     },
     "execution_count": 19,
     "metadata": {},
     "output_type": "execute_result"
    }
   ],
   "source": [
    "text_frame[text_frame['Tweet'].str.contains('cheese')]"
   ]
  },
  {
   "cell_type": "code",
   "execution_count": 20,
   "id": "8c8c9eae5977df33",
   "metadata": {
    "collapsed": false,
    "ExecuteTime": {
     "end_time": "2024-08-15T18:34:01.870517900Z",
     "start_time": "2024-08-15T18:34:01.276543800Z"
    }
   },
   "outputs": [
    {
     "data": {
      "text/plain": "        ID                                              Tweet Unnamed\n0        1  Huge @Patriots pep rally at Toso's in PHX...wa...     NaN\n1        2  For Robert Kraft and Roger Goodell air still i...     NaN\n2        3  For Robert Kraft and Roger Goodell air still i...     NaN\n3        4  Need #recipes? Visit the Kraft #CookingUpGood ...     NaN\n4        5  @EdgeofSports You take the good-You take the b...     NaN\n...    ...                                                ...     ...\n6890  6891  @_KarinaD @denzildsouzaa @michelle_r16 @UncleO...     NaN\n6894  6895    Kraft mac n cheese is shit rather have Velveeta     NaN\n6900  6901  FREE Kraft Cheese + Money Maker Savings Catche...     NaN\n6907  6908                            I need Kraft cheese !!!     NaN\n6935  6936  Get a #Save $1 off #Kraft Natural #Cheese Prod...     NaN\n\n[4686 rows x 3 columns]",
      "text/html": "<div>\n<style scoped>\n    .dataframe tbody tr th:only-of-type {\n        vertical-align: middle;\n    }\n\n    .dataframe tbody tr th {\n        vertical-align: top;\n    }\n\n    .dataframe thead th {\n        text-align: right;\n    }\n</style>\n<table border=\"1\" class=\"dataframe\">\n  <thead>\n    <tr style=\"text-align: right;\">\n      <th></th>\n      <th>ID</th>\n      <th>Tweet</th>\n      <th>Unnamed</th>\n    </tr>\n  </thead>\n  <tbody>\n    <tr>\n      <th>0</th>\n      <td>1</td>\n      <td>Huge @Patriots pep rally at Toso's in PHX...wa...</td>\n      <td>NaN</td>\n    </tr>\n    <tr>\n      <th>1</th>\n      <td>2</td>\n      <td>For Robert Kraft and Roger Goodell air still i...</td>\n      <td>NaN</td>\n    </tr>\n    <tr>\n      <th>2</th>\n      <td>3</td>\n      <td>For Robert Kraft and Roger Goodell air still i...</td>\n      <td>NaN</td>\n    </tr>\n    <tr>\n      <th>3</th>\n      <td>4</td>\n      <td>Need #recipes? Visit the Kraft #CookingUpGood ...</td>\n      <td>NaN</td>\n    </tr>\n    <tr>\n      <th>4</th>\n      <td>5</td>\n      <td>@EdgeofSports You take the good-You take the b...</td>\n      <td>NaN</td>\n    </tr>\n    <tr>\n      <th>...</th>\n      <td>...</td>\n      <td>...</td>\n      <td>...</td>\n    </tr>\n    <tr>\n      <th>6890</th>\n      <td>6891</td>\n      <td>@_KarinaD @denzildsouzaa @michelle_r16 @UncleO...</td>\n      <td>NaN</td>\n    </tr>\n    <tr>\n      <th>6894</th>\n      <td>6895</td>\n      <td>Kraft mac n cheese is shit rather have Velveeta</td>\n      <td>NaN</td>\n    </tr>\n    <tr>\n      <th>6900</th>\n      <td>6901</td>\n      <td>FREE Kraft Cheese + Money Maker Savings Catche...</td>\n      <td>NaN</td>\n    </tr>\n    <tr>\n      <th>6907</th>\n      <td>6908</td>\n      <td>I need Kraft cheese !!!</td>\n      <td>NaN</td>\n    </tr>\n    <tr>\n      <th>6935</th>\n      <td>6936</td>\n      <td>Get a #Save $1 off #Kraft Natural #Cheese Prod...</td>\n      <td>NaN</td>\n    </tr>\n  </tbody>\n</table>\n<p>4686 rows × 3 columns</p>\n</div>"
     },
     "execution_count": 20,
     "metadata": {},
     "output_type": "execute_result"
    }
   ],
   "source": [
    "text_frame[text_frame['Tweet'].str.contains('Kraft')]"
   ]
  },
  {
   "cell_type": "code",
   "execution_count": 21,
   "id": "35e58956bc2b9031",
   "metadata": {
    "collapsed": false,
    "ExecuteTime": {
     "end_time": "2024-08-15T18:34:01.917186Z",
     "start_time": "2024-08-15T18:34:01.343976Z"
    }
   },
   "outputs": [
    {
     "data": {
      "text/plain": "2248    More on Robert Kraft's absence from Roger Good...\n4654    You're tempted to employ a heavy-handed approa...\n4922    Kraft: Return Cadbury Creme Eggs from 5 to 6 a...\n3772    Robert Kraft's gutsy $175 million investment i...\n1537    RT @briguy2489: Need #recipes? Visit the Kraft...\n2539    Every year Bob Kraft goes on Felger and Mazz a...\n3598    @shalisemyoung So he thinks! Kraft will eat hi...\n970     @GlobalGrind:Man helps his girlfriend kill est...\n2905    RT @KC_Great1: @IamTerra_G @skybeats @Kraft_Ho...\n472     Kraft on speech: I didn't like being unfairly ...\n6114                      Cheese in my pockets velveeta!\"\n6144    Is it wrong I want to get Velveeta so I can me...\n2664    @gary_hustwit thank you. how can I get that kr...\n6667                        Cheese in my pocket velveeta\"\n2691    Jonathan Kraft Says 4th Lombardi Would Be Spec...\n1743    Uff!! it caught ;-) Roger Goodell on deflatega...\n3123    im watching veronica cook kraft dinner over skype\n5867    @fandings I agree. With the way Robert Kraft r...\n4216    @Nicole_Kraft would allowing the media to repo...\n1724    Help me with a Walmart gift card when you ente...\nName: Tweet, dtype: object"
     },
     "execution_count": 21,
     "metadata": {},
     "output_type": "execute_result"
    }
   ],
   "source": [
    "text_frame['Tweet'].sample(20)"
   ]
  },
  {
   "cell_type": "code",
   "execution_count": 22,
   "id": "5d3e8303441cf748",
   "metadata": {
    "collapsed": false,
    "ExecuteTime": {
     "end_time": "2024-08-15T18:34:01.929378500Z",
     "start_time": "2024-08-15T18:34:01.391019Z"
    }
   },
   "outputs": [
    {
     "data": {
      "text/plain": "ID            0\nTweet         0\nUnnamed    6935\ndtype: int64"
     },
     "execution_count": 22,
     "metadata": {},
     "output_type": "execute_result"
    }
   ],
   "source": [
    "# Check the dataframe to see if there are any null values\n",
    "# Do a count - there should be none (0)\n",
    "text_frame.isnull().sum()"
   ]
  },
  {
   "cell_type": "code",
   "execution_count": 23,
   "id": "f501fed9-7a48-4574-9226-91fbf9d481eb",
   "metadata": {
    "ExecuteTime": {
     "end_time": "2024-08-15T18:34:01.981433Z",
     "start_time": "2024-08-15T18:34:01.454053700Z"
    }
   },
   "outputs": [],
   "source": []
  },
  {
   "cell_type": "code",
   "execution_count": 23,
   "id": "c1679902-b0c6-47b5-8a12-2a12734ce442",
   "metadata": {
    "ExecuteTime": {
     "end_time": "2024-08-15T18:34:01.984884200Z",
     "start_time": "2024-08-15T18:34:01.468706300Z"
    }
   },
   "outputs": [],
   "source": []
  },
  {
   "cell_type": "code",
   "outputs": [],
   "source": [],
   "metadata": {
    "collapsed": false
   },
   "id": "d11f2e287b798d0b"
  },
  {
   "cell_type": "code",
   "outputs": [],
   "source": [],
   "metadata": {
    "collapsed": false
   },
   "id": "e1a20dc5b347f4a6"
  },
  {
   "cell_type": "code",
   "execution_count": 24,
   "id": "c2994455-750b-49a7-aa2c-1e22c0135e29",
   "metadata": {
    "ExecuteTime": {
     "end_time": "2024-08-15T18:34:06.511055300Z",
     "start_time": "2024-08-15T18:34:01.486609500Z"
    }
   },
   "outputs": [],
   "source": [
    "import sklearn\n",
    "from sklearn.cluster import KMeans\n",
    "from sklearn.decomposition import PCA\n",
    "from sklearn.feature_extraction.text import TfidfVectorizer"
   ]
  },
  {
   "cell_type": "markdown",
   "id": "87760f27",
   "metadata": {},
   "source": [
    "In the case of this analysis, we must use scikit-learn to vectorize words since there is text that we will be scanning through and tokenizing. \n",
    "\n",
    "First, transform the data and fit into principal component analysis (PCA) model.<br>\n",
    "The data to be fit is the column in <b>text_frame</b> named <b>Katakana text Translated</b>.<br>\n",
    "Create clusters using k-means algorithms and principal components analysis. <br>\n",
    "\n"
   ]
  },
  {
   "cell_type": "code",
   "execution_count": 25,
   "id": "c2523107",
   "metadata": {
    "ExecuteTime": {
     "end_time": "2024-08-15T18:34:06.571122200Z",
     "start_time": "2024-08-15T18:34:06.513736700Z"
    }
   },
   "outputs": [
    {
     "data": {
      "text/plain": "0       Huge @Patriots pep rally at Toso's in PHX...wa...\n1       For Robert Kraft and Roger Goodell air still i...\n2       For Robert Kraft and Roger Goodell air still i...\n3       Need #recipes? Visit the Kraft #CookingUpGood ...\n4       @EdgeofSports You take the good-You take the b...\n                              ...                        \n6931                       CHEESE IN MY POCKETS VELVEETA\"\n6932    But why somebody just posted a pic on my fb fe...\n6933                     Cheese in my pockets .. Velveeta\n6934                       Cheese in my pocket Velveeta !\n6935    Get a #Save $1 off #Kraft Natural #Cheese Prod...\nName: Tweet, Length: 6936, dtype: object"
     },
     "execution_count": 25,
     "metadata": {},
     "output_type": "execute_result"
    }
   ],
   "source": [
    "# arr_text = np.array(text_frame['Katakana text Translated'])\n",
    "# arr_text = text_frame['Katakana text Translated']\n",
    "arr_text = text_frame.Tweet\n",
    "arr_text"
   ]
  },
  {
   "cell_type": "code",
   "execution_count": 26,
   "id": "644fc63c",
   "metadata": {
    "ExecuteTime": {
     "end_time": "2024-08-15T18:34:06.648357100Z",
     "start_time": "2024-08-15T18:34:06.554473Z"
    }
   },
   "outputs": [
    {
     "data": {
      "text/plain": "str"
     },
     "execution_count": 26,
     "metadata": {},
     "output_type": "execute_result"
    }
   ],
   "source": [
    "type(arr_text[0])"
   ]
  },
  {
   "cell_type": "code",
   "execution_count": 31,
   "id": "c78ba185",
   "metadata": {
    "ExecuteTime": {
     "end_time": "2024-08-15T18:35:11.415223200Z",
     "start_time": "2024-08-15T18:35:04.394695200Z"
    }
   },
   "outputs": [
    {
     "data": {
      "text/plain": "KMeans(max_iter=100, n_clusters=2, n_init=5, random_state=42)",
      "text/html": "<style>#sk-container-id-2 {color: black;}#sk-container-id-2 pre{padding: 0;}#sk-container-id-2 div.sk-toggleable {background-color: white;}#sk-container-id-2 label.sk-toggleable__label {cursor: pointer;display: block;width: 100%;margin-bottom: 0;padding: 0.3em;box-sizing: border-box;text-align: center;}#sk-container-id-2 label.sk-toggleable__label-arrow:before {content: \"▸\";float: left;margin-right: 0.25em;color: #696969;}#sk-container-id-2 label.sk-toggleable__label-arrow:hover:before {color: black;}#sk-container-id-2 div.sk-estimator:hover label.sk-toggleable__label-arrow:before {color: black;}#sk-container-id-2 div.sk-toggleable__content {max-height: 0;max-width: 0;overflow: hidden;text-align: left;background-color: #f0f8ff;}#sk-container-id-2 div.sk-toggleable__content pre {margin: 0.2em;color: black;border-radius: 0.25em;background-color: #f0f8ff;}#sk-container-id-2 input.sk-toggleable__control:checked~div.sk-toggleable__content {max-height: 200px;max-width: 100%;overflow: auto;}#sk-container-id-2 input.sk-toggleable__control:checked~label.sk-toggleable__label-arrow:before {content: \"▾\";}#sk-container-id-2 div.sk-estimator input.sk-toggleable__control:checked~label.sk-toggleable__label {background-color: #d4ebff;}#sk-container-id-2 div.sk-label input.sk-toggleable__control:checked~label.sk-toggleable__label {background-color: #d4ebff;}#sk-container-id-2 input.sk-hidden--visually {border: 0;clip: rect(1px 1px 1px 1px);clip: rect(1px, 1px, 1px, 1px);height: 1px;margin: -1px;overflow: hidden;padding: 0;position: absolute;width: 1px;}#sk-container-id-2 div.sk-estimator {font-family: monospace;background-color: #f0f8ff;border: 1px dotted black;border-radius: 0.25em;box-sizing: border-box;margin-bottom: 0.5em;}#sk-container-id-2 div.sk-estimator:hover {background-color: #d4ebff;}#sk-container-id-2 div.sk-parallel-item::after {content: \"\";width: 100%;border-bottom: 1px solid gray;flex-grow: 1;}#sk-container-id-2 div.sk-label:hover label.sk-toggleable__label {background-color: #d4ebff;}#sk-container-id-2 div.sk-serial::before {content: \"\";position: absolute;border-left: 1px solid gray;box-sizing: border-box;top: 0;bottom: 0;left: 50%;z-index: 0;}#sk-container-id-2 div.sk-serial {display: flex;flex-direction: column;align-items: center;background-color: white;padding-right: 0.2em;padding-left: 0.2em;position: relative;}#sk-container-id-2 div.sk-item {position: relative;z-index: 1;}#sk-container-id-2 div.sk-parallel {display: flex;align-items: stretch;justify-content: center;background-color: white;position: relative;}#sk-container-id-2 div.sk-item::before, #sk-container-id-2 div.sk-parallel-item::before {content: \"\";position: absolute;border-left: 1px solid gray;box-sizing: border-box;top: 0;bottom: 0;left: 50%;z-index: -1;}#sk-container-id-2 div.sk-parallel-item {display: flex;flex-direction: column;z-index: 1;position: relative;background-color: white;}#sk-container-id-2 div.sk-parallel-item:first-child::after {align-self: flex-end;width: 50%;}#sk-container-id-2 div.sk-parallel-item:last-child::after {align-self: flex-start;width: 50%;}#sk-container-id-2 div.sk-parallel-item:only-child::after {width: 0;}#sk-container-id-2 div.sk-dashed-wrapped {border: 1px dashed gray;margin: 0 0.4em 0.5em 0.4em;box-sizing: border-box;padding-bottom: 0.4em;background-color: white;}#sk-container-id-2 div.sk-label label {font-family: monospace;font-weight: bold;display: inline-block;line-height: 1.2em;}#sk-container-id-2 div.sk-label-container {text-align: center;}#sk-container-id-2 div.sk-container {/* jupyter's `normalize.less` sets `[hidden] { display: none; }` but bootstrap.min.css set `[hidden] { display: none !important; }` so we also need the `!important` here to be able to override the default hidden behavior on the sphinx rendered scikit-learn.org. See: https://github.com/scikit-learn/scikit-learn/issues/21755 */display: inline-block !important;position: relative;}#sk-container-id-2 div.sk-text-repr-fallback {display: none;}</style><div id=\"sk-container-id-2\" class=\"sk-top-container\"><div class=\"sk-text-repr-fallback\"><pre>KMeans(max_iter=100, n_clusters=2, n_init=5, random_state=42)</pre><b>In a Jupyter environment, please rerun this cell to show the HTML representation or trust the notebook. <br />On GitHub, the HTML representation is unable to render, please try loading this page with nbviewer.org.</b></div><div class=\"sk-container\" hidden><div class=\"sk-item\"><div class=\"sk-estimator sk-toggleable\"><input class=\"sk-toggleable__control sk-hidden--visually\" id=\"sk-estimator-id-2\" type=\"checkbox\" checked><label for=\"sk-estimator-id-2\" class=\"sk-toggleable__label sk-toggleable__label-arrow\">KMeans</label><div class=\"sk-toggleable__content\"><pre>KMeans(max_iter=100, n_clusters=2, n_init=5, random_state=42)</pre></div></div></div></div></div>"
     },
     "execution_count": 31,
     "metadata": {},
     "output_type": "execute_result"
    }
   ],
   "source": [
    "# In this case, will set the cluster count to be 2 for Robert Kraft and Kraft Foods\n",
    "# for how the tweets are distributed. \n",
    "count_clusters = 2\n",
    "\n",
    "vector = TfidfVectorizer(stop_words='english')\n",
    "\n",
    "tweets_vector = vector.fit_transform(arr_text)\n",
    "\n",
    "pca_model = PCA(n_components=count_clusters)\n",
    "model_res = pca_model.fit_transform(tweets_vector.toarray())\n",
    "\n",
    "kmeans = KMeans(n_clusters=count_clusters, n_init=5, max_iter=100, random_state=42)\n",
    "kmeans.fit(tweets_vector)\n",
    "\n"
   ]
  },
  {
   "cell_type": "code",
   "execution_count": 34,
   "id": "92da995e",
   "metadata": {
    "ExecuteTime": {
     "end_time": "2024-08-15T18:36:36.633574Z",
     "start_time": "2024-08-15T18:36:36.576783800Z"
    }
   },
   "outputs": [
    {
     "data": {
      "text/plain": "array([1, 1, 1, ..., 1, 1, 1])"
     },
     "execution_count": 34,
     "metadata": {},
     "output_type": "execute_result"
    }
   ],
   "source": [
    "kmeans.labels_"
   ]
  },
  {
   "cell_type": "code",
   "execution_count": 35,
   "id": "630c391f",
   "metadata": {
    "ExecuteTime": {
     "end_time": "2024-08-15T18:36:36.987304Z",
     "start_time": "2024-08-15T18:36:36.843677800Z"
    }
   },
   "outputs": [
    {
     "name": "stdout",
     "output_type": "stream",
     "text": [
      "1 0\n"
     ]
    }
   ],
   "source": [
    "# After the model, the values in kmeans.labels_ should be 0, 1,\n",
    "print(kmeans.labels_.max(), kmeans.labels_.min())"
   ]
  },
  {
   "cell_type": "code",
   "execution_count": 40,
   "id": "c32bcb1fc4e5e626",
   "metadata": {
    "collapsed": false,
    "ExecuteTime": {
     "end_time": "2024-08-15T19:02:17.553798400Z",
     "start_time": "2024-08-15T19:02:17.464807600Z"
    }
   },
   "outputs": [
    {
     "data": {
      "text/plain": "                                               tweet  cluster_number\n0  Huge @Patriots pep rally at Toso's in PHX...wa...               1\n1  For Robert Kraft and Roger Goodell air still i...               1\n2  For Robert Kraft and Roger Goodell air still i...               1\n3  Need #recipes? Visit the Kraft #CookingUpGood ...               0\n4  @EdgeofSports You take the good-You take the b...               1",
      "text/html": "<div>\n<style scoped>\n    .dataframe tbody tr th:only-of-type {\n        vertical-align: middle;\n    }\n\n    .dataframe tbody tr th {\n        vertical-align: top;\n    }\n\n    .dataframe thead th {\n        text-align: right;\n    }\n</style>\n<table border=\"1\" class=\"dataframe\">\n  <thead>\n    <tr style=\"text-align: right;\">\n      <th></th>\n      <th>tweet</th>\n      <th>cluster_number</th>\n    </tr>\n  </thead>\n  <tbody>\n    <tr>\n      <th>0</th>\n      <td>Huge @Patriots pep rally at Toso's in PHX...wa...</td>\n      <td>1</td>\n    </tr>\n    <tr>\n      <th>1</th>\n      <td>For Robert Kraft and Roger Goodell air still i...</td>\n      <td>1</td>\n    </tr>\n    <tr>\n      <th>2</th>\n      <td>For Robert Kraft and Roger Goodell air still i...</td>\n      <td>1</td>\n    </tr>\n    <tr>\n      <th>3</th>\n      <td>Need #recipes? Visit the Kraft #CookingUpGood ...</td>\n      <td>0</td>\n    </tr>\n    <tr>\n      <th>4</th>\n      <td>@EdgeofSports You take the good-You take the b...</td>\n      <td>1</td>\n    </tr>\n  </tbody>\n</table>\n</div>"
     },
     "execution_count": 40,
     "metadata": {},
     "output_type": "execute_result"
    }
   ],
   "source": [
    "'''Prepare the number of clusters for Kraft-related tweets\n",
    "\n",
    "Create a dataframe with all the clustered results'''\n",
    "clusters_df = pd.DataFrame()\n",
    "clusters_df['tweet'] = arr_text \n",
    "clusters_df['cluster_number'] = kmeans.labels_\n",
    "clusters_df.head()"
   ]
  },
  {
   "cell_type": "code",
   "execution_count": 48,
   "id": "abdf40e2b2827570",
   "metadata": {
    "collapsed": false,
    "ExecuteTime": {
     "end_time": "2024-08-15T21:43:06.457350800Z",
     "start_time": "2024-08-15T21:43:05.640759100Z"
    }
   },
   "outputs": [
    {
     "data": {
      "text/plain": "<Figure size 640x480 with 1 Axes>",
      "image/png": "[encoded data removed]"
     },
     "metadata": {},
     "output_type": "display_data"
    }
   ],
   "source": [
    "# Visualize results of tweets and findings between Robert Kraft and Kraft Foods\n",
    "\n",
    "colors = ['blue', 'orange']\n",
    "categories = ['Robert Kraft', 'Kraft Foods']\n",
    "for i in range(count_clusters):\n",
    "    plt.scatter(model_res[kmeans.labels_ == i, 0], \n",
    "                model_res[kmeans.labels_ == i, 1], s=100, color=colors[i])\n",
    "plt.legend(categories)\n",
    "plt.title(\"Clustering between Robert Kraft and Kraft Foods\")\n",
    "plt.show()\n"
   ]
  },
  {
   "cell_type": "code",
   "execution_count": 48,
   "id": "790ed668b5cdd0c7",
   "metadata": {
    "collapsed": false,
    "ExecuteTime": {
     "end_time": "2024-08-15T21:43:11.618224Z",
     "start_time": "2024-08-15T21:43:11.569252100Z"
    }
   },
   "outputs": [],
   "source": []
  },
  {
   "cell_type": "code",
   "execution_count": 48,
   "id": "22644bf40784f2e",
   "metadata": {
    "collapsed": false,
    "ExecuteTime": {
     "end_time": "2024-08-15T21:43:11.840096200Z",
     "start_time": "2024-08-15T21:43:11.785129100Z"
    }
   },
   "outputs": [],
   "source": []
  },
  {
   "cell_type": "code",
   "execution_count": 49,
   "id": "8e160d4cbc467e53",
   "metadata": {
    "collapsed": false,
    "ExecuteTime": {
     "end_time": "2024-08-15T22:25:01.184069500Z",
     "start_time": "2024-08-15T22:24:56.212438900Z"
    }
   },
   "outputs": [
    {
     "data": {
      "text/plain": "KMeans(max_iter=100, n_clusters=3, n_init=5, random_state=42)",
      "text/html": "<style>#sk-container-id-3 {color: black;}#sk-container-id-3 pre{padding: 0;}#sk-container-id-3 div.sk-toggleable {background-color: white;}#sk-container-id-3 label.sk-toggleable__label {cursor: pointer;display: block;width: 100%;margin-bottom: 0;padding: 0.3em;box-sizing: border-box;text-align: center;}#sk-container-id-3 label.sk-toggleable__label-arrow:before {content: \"▸\";float: left;margin-right: 0.25em;color: #696969;}#sk-container-id-3 label.sk-toggleable__label-arrow:hover:before {color: black;}#sk-container-id-3 div.sk-estimator:hover label.sk-toggleable__label-arrow:before {color: black;}#sk-container-id-3 div.sk-toggleable__content {max-height: 0;max-width: 0;overflow: hidden;text-align: left;background-color: #f0f8ff;}#sk-container-id-3 div.sk-toggleable__content pre {margin: 0.2em;color: black;border-radius: 0.25em;background-color: #f0f8ff;}#sk-container-id-3 input.sk-toggleable__control:checked~div.sk-toggleable__content {max-height: 200px;max-width: 100%;overflow: auto;}#sk-container-id-3 input.sk-toggleable__control:checked~label.sk-toggleable__label-arrow:before {content: \"▾\";}#sk-container-id-3 div.sk-estimator input.sk-toggleable__control:checked~label.sk-toggleable__label {background-color: #d4ebff;}#sk-container-id-3 div.sk-label input.sk-toggleable__control:checked~label.sk-toggleable__label {background-color: #d4ebff;}#sk-container-id-3 input.sk-hidden--visually {border: 0;clip: rect(1px 1px 1px 1px);clip: rect(1px, 1px, 1px, 1px);height: 1px;margin: -1px;overflow: hidden;padding: 0;position: absolute;width: 1px;}#sk-container-id-3 div.sk-estimator {font-family: monospace;background-color: #f0f8ff;border: 1px dotted black;border-radius: 0.25em;box-sizing: border-box;margin-bottom: 0.5em;}#sk-container-id-3 div.sk-estimator:hover {background-color: #d4ebff;}#sk-container-id-3 div.sk-parallel-item::after {content: \"\";width: 100%;border-bottom: 1px solid gray;flex-grow: 1;}#sk-container-id-3 div.sk-label:hover label.sk-toggleable__label {background-color: #d4ebff;}#sk-container-id-3 div.sk-serial::before {content: \"\";position: absolute;border-left: 1px solid gray;box-sizing: border-box;top: 0;bottom: 0;left: 50%;z-index: 0;}#sk-container-id-3 div.sk-serial {display: flex;flex-direction: column;align-items: center;background-color: white;padding-right: 0.2em;padding-left: 0.2em;position: relative;}#sk-container-id-3 div.sk-item {position: relative;z-index: 1;}#sk-container-id-3 div.sk-parallel {display: flex;align-items: stretch;justify-content: center;background-color: white;position: relative;}#sk-container-id-3 div.sk-item::before, #sk-container-id-3 div.sk-parallel-item::before {content: \"\";position: absolute;border-left: 1px solid gray;box-sizing: border-box;top: 0;bottom: 0;left: 50%;z-index: -1;}#sk-container-id-3 div.sk-parallel-item {display: flex;flex-direction: column;z-index: 1;position: relative;background-color: white;}#sk-container-id-3 div.sk-parallel-item:first-child::after {align-self: flex-end;width: 50%;}#sk-container-id-3 div.sk-parallel-item:last-child::after {align-self: flex-start;width: 50%;}#sk-container-id-3 div.sk-parallel-item:only-child::after {width: 0;}#sk-container-id-3 div.sk-dashed-wrapped {border: 1px dashed gray;margin: 0 0.4em 0.5em 0.4em;box-sizing: border-box;padding-bottom: 0.4em;background-color: white;}#sk-container-id-3 div.sk-label label {font-family: monospace;font-weight: bold;display: inline-block;line-height: 1.2em;}#sk-container-id-3 div.sk-label-container {text-align: center;}#sk-container-id-3 div.sk-container {/* jupyter's `normalize.less` sets `[hidden] { display: none; }` but bootstrap.min.css set `[hidden] { display: none !important; }` so we also need the `!important` here to be able to override the default hidden behavior on the sphinx rendered scikit-learn.org. See: https://github.com/scikit-learn/scikit-learn/issues/21755 */display: inline-block !important;position: relative;}#sk-container-id-3 div.sk-text-repr-fallback {display: none;}</style><div id=\"sk-container-id-3\" class=\"sk-top-container\"><div class=\"sk-text-repr-fallback\"><pre>KMeans(max_iter=100, n_clusters=3, n_init=5, random_state=42)</pre><b>In a Jupyter environment, please rerun this cell to show the HTML representation or trust the notebook. <br />On GitHub, the HTML representation is unable to render, please try loading this page with nbviewer.org.</b></div><div class=\"sk-container\" hidden><div class=\"sk-item\"><div class=\"sk-estimator sk-toggleable\"><input class=\"sk-toggleable__control sk-hidden--visually\" id=\"sk-estimator-id-3\" type=\"checkbox\" checked><label for=\"sk-estimator-id-3\" class=\"sk-toggleable__label sk-toggleable__label-arrow\">KMeans</label><div class=\"sk-toggleable__content\"><pre>KMeans(max_iter=100, n_clusters=3, n_init=5, random_state=42)</pre></div></div></div></div></div>"
     },
     "execution_count": 49,
     "metadata": {},
     "output_type": "execute_result"
    }
   ],
   "source": [
    "count_clusters = 3\n",
    "\n",
    "vector = TfidfVectorizer(stop_words='english')\n",
    "\n",
    "tweets_vector = vector.fit_transform(arr_text)\n",
    "\n",
    "pca_model = PCA(n_components=count_clusters)\n",
    "model_res = pca_model.fit_transform(tweets_vector.toarray())\n",
    "\n",
    "kmeans = KMeans(n_clusters=count_clusters, n_init=5, max_iter=100, random_state=42)\n",
    "kmeans.fit(tweets_vector)\n"
   ]
  },
  {
   "cell_type": "code",
   "outputs": [
    {
     "data": {
      "text/plain": "<Figure size 640x480 with 1 Axes>",
      "image/png": "[encoded data removed]"
     },
     "metadata": {},
     "output_type": "display_data"
    }
   ],
   "source": [
    "colors = ['blue', 'orange', 'green']\n",
    "categories = ['Robert Kraft', 'Kraft Foods', 'other']\n",
    "for i in range(count_clusters):\n",
    "    plt.scatter(model_res[kmeans.labels_ == i, 0], \n",
    "                model_res[kmeans.labels_ == i, 1], s=100, color=colors[i])\n",
    "plt.legend(categories)\n",
    "plt.title(\"Clustering between Robert Kraft and Kraft Foods\")\n",
    "plt.show()"
   ],
   "metadata": {
    "collapsed": false,
    "ExecuteTime": {
     "end_time": "2024-08-15T22:25:11.115548700Z",
     "start_time": "2024-08-15T22:25:10.464255500Z"
    }
   },
   "id": "f40abe31642a9dbf",
   "execution_count": 50
  },
  {
   "cell_type": "code",
   "outputs": [],
   "source": [],
   "metadata": {
    "collapsed": false,
    "ExecuteTime": {
     "end_time": "2024-08-15T22:25:17.296576300Z",
     "start_time": "2024-08-15T22:25:17.271799500Z"
    }
   },
   "id": "76420dd057fa8b60",
   "execution_count": 50
  },
  {
   "cell_type": "code",
   "outputs": [],
   "source": [],
   "metadata": {
    "collapsed": false,
    "ExecuteTime": {
     "end_time": "2024-08-15T22:25:17.465452300Z",
     "start_time": "2024-08-15T22:25:17.411446600Z"
    }
   },
   "id": "c9b84d6611a63370",
   "execution_count": 50
  },
  {
   "cell_type": "code",
   "outputs": [],
   "source": [],
   "metadata": {
    "collapsed": false,
    "ExecuteTime": {
     "end_time": "2024-08-15T22:25:17.660968900Z",
     "start_time": "2024-08-15T22:25:17.603868500Z"
    }
   },
   "id": "1b13ad64e08523d2",
   "execution_count": 50
  },
  {
   "cell_type": "code",
   "outputs": [],
   "source": [],
   "metadata": {
    "collapsed": false,
    "ExecuteTime": {
     "end_time": "2024-08-15T22:25:20.473203Z",
     "start_time": "2024-08-15T22:25:20.427376700Z"
    }
   },
   "id": "7a98e3650568d53f",
   "execution_count": 50
  },
  {
   "cell_type": "code",
   "outputs": [],
   "source": [],
   "metadata": {
    "collapsed": false,
    "ExecuteTime": {
     "end_time": "2024-08-15T22:25:20.644362800Z",
     "start_time": "2024-08-15T22:25:20.598423800Z"
    }
   },
   "id": "5cc20cf8259c5bd8",
   "execution_count": 50
  },
  {
   "cell_type": "code",
   "outputs": [],
   "source": [],
   "metadata": {
    "collapsed": false,
    "ExecuteTime": {
     "end_time": "2024-08-15T22:25:20.842241Z",
     "start_time": "2024-08-15T22:25:20.771189200Z"
    }
   },
   "id": "3603ea1939ab8a24",
   "execution_count": 50
  },
  {
   "cell_type": "code",
   "outputs": [],
   "source": [],
   "metadata": {
    "collapsed": false
   },
   "id": "da14777a83b634e9"
  }
 ],
 "metadata": {
  "kernelspec": {
   "display_name": "Python 3 (ipykernel)",
   "language": "python",
   "name": "python3"
  },
  "language_info": {
   "codemirror_mode": {
    "name": "ipython",
    "version": 3
   },
   "file_extension": ".py",
   "mimetype": "text/x-python",
   "name": "python",
   "nbconvert_exporter": "python",
   "pygments_lexer": "ipython3",
   "version": "3.10.13"
  }
 },
 "nbformat": 4,
 "nbformat_minor": 5
}
