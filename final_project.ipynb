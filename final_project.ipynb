{
 "cells": [
  {
   "cell_type": "markdown",
   "id": "ded6a00c7bfbeeae",
   "metadata": {
    "collapsed": false
   },
   "source": [
    "<h1>Text Analysis Clustering</h1>\n",
    "\n",
    "This is an analysis of text data from a series of tweets involving the word \"Kraft\". I will be doing exploratory data analysis as well as clustering to present the categorization and relevance of key words in each of the tweets to see what was most discussed in this dataset of tweets. \n",
    "\n",
    "In this data, the data in which \"Kraft\" was mentioned was tied mostly to the following. It is not representative of all the tweets in the dataset but were the most prominent.<br>\n",
    "- Robert Kraft, New England Patriots CEO and President\n",
    "- Kraft Foods, a food company that has made products such as Kraft Macaroni & Cheese, Miracle Whip, and Kraft Singles, among others; now a part of Kraft Heinz Company\n",
    "\n",
    "\n"
   ]
  },
  {
   "cell_type": "markdown",
   "id": "672d734d12b28f11",
   "metadata": {
    "collapsed": false
   },
   "source": [
    "<h1>Introduction</h1>\n",
    "\n",
    "Data is from Kaggle: https://www.kaggle.com/datasets/ranand60/unstructured-text-language-data/data\n",
    "\n",
    "<br>\n",
    "\n",
    "Since the data came from a Microsoft Excel File (.xlsx), install the following libraries in this notebook: openpyxl, xlrd.\n",
    "\n",
    "The other libraries to be imported: Pandas, NumPy, Matplotlib, Scikit-learn"
   ]
  },
  {
   "cell_type": "code",
   "execution_count": 1,
   "id": "initial_id",
   "metadata": {
    "ExecuteTime": {
     "end_time": "2024-08-20T17:18:00.594443800Z",
     "start_time": "2024-08-20T17:17:56.775259700Z"
    }
   },
   "outputs": [],
   "source": [
    "import openpyxl\n",
    "import pandas as pd\n",
    "import matplotlib.pyplot as plt\n",
    "import numpy as np"
   ]
  },
  {
   "cell_type": "code",
   "execution_count": 2,
   "id": "4664499d71183052",
   "metadata": {
    "collapsed": false,
    "ExecuteTime": {
     "end_time": "2024-08-20T17:18:04.899799400Z",
     "start_time": "2024-08-20T17:18:00.598429900Z"
    }
   },
   "outputs": [
    {
     "name": "stdout",
     "output_type": "stream",
     "text": [
      "Requirement already satisfied: openpyxl in c:\\users\\mjchin\\anaconda3\\envs\\matt_py310\\lib\\site-packages (3.1.5)\n",
      "Requirement already satisfied: et-xmlfile in c:\\users\\mjchin\\anaconda3\\envs\\matt_py310\\lib\\site-packages (from openpyxl) (1.1.0)\n",
      "Note: you may need to restart the kernel to use updated packages.\n"
     ]
    }
   ],
   "source": [
    "pip install openpyxl"
   ]
  },
  {
   "cell_type": "code",
   "execution_count": 3,
   "id": "61129feb-1180-4393-b515-e549aee99901",
   "metadata": {
    "ExecuteTime": {
     "end_time": "2024-08-20T17:18:08.682058700Z",
     "start_time": "2024-08-20T17:18:04.897040600Z"
    }
   },
   "outputs": [
    {
     "name": "stdout",
     "output_type": "stream",
     "text": [
      "Requirement already satisfied: xlrd in c:\\users\\mjchin\\anaconda3\\envs\\matt_py310\\lib\\site-packages (2.0.1)\n",
      "Note: you may need to restart the kernel to use updated packages.\n"
     ]
    }
   ],
   "source": [
    "pip install xlrd"
   ]
  },
  {
   "cell_type": "code",
   "execution_count": 4,
   "id": "7552524858871037",
   "metadata": {
    "collapsed": false,
    "ExecuteTime": {
     "end_time": "2024-08-20T17:18:09.446210900Z",
     "start_time": "2024-08-20T17:18:08.689225100Z"
    }
   },
   "outputs": [],
   "source": [
    "text_frame = pd.read_excel('Unstructured Data English.xlsx')"
   ]
  },
  {
   "cell_type": "code",
   "execution_count": 5,
   "id": "b8a64474a22b0b40",
   "metadata": {
    "collapsed": false,
    "ExecuteTime": {
     "end_time": "2024-08-20T17:18:09.523956400Z",
     "start_time": "2024-08-20T17:18:09.449211500Z"
    }
   },
   "outputs": [
    {
     "data": {
      "text/plain": "   ID                           Katakana text Translated Unnamed: 2\n0   1  Huge @Patriots pep rally at Toso's in PHX...wa...        NaN\n1   2  For Robert Kraft and Roger Goodell air still i...        NaN\n2   3  For Robert Kraft and Roger Goodell air still i...        NaN\n3   4  Need #recipes? Visit the Kraft #CookingUpGood ...        NaN\n4   5  @EdgeofSports You take the good-You take the b...        NaN",
      "text/html": "<div>\n<style scoped>\n    .dataframe tbody tr th:only-of-type {\n        vertical-align: middle;\n    }\n\n    .dataframe tbody tr th {\n        vertical-align: top;\n    }\n\n    .dataframe thead th {\n        text-align: right;\n    }\n</style>\n<table border=\"1\" class=\"dataframe\">\n  <thead>\n    <tr style=\"text-align: right;\">\n      <th></th>\n      <th>ID</th>\n      <th>Katakana text Translated</th>\n      <th>Unnamed: 2</th>\n    </tr>\n  </thead>\n  <tbody>\n    <tr>\n      <th>0</th>\n      <td>1</td>\n      <td>Huge @Patriots pep rally at Toso's in PHX...wa...</td>\n      <td>NaN</td>\n    </tr>\n    <tr>\n      <th>1</th>\n      <td>2</td>\n      <td>For Robert Kraft and Roger Goodell air still i...</td>\n      <td>NaN</td>\n    </tr>\n    <tr>\n      <th>2</th>\n      <td>3</td>\n      <td>For Robert Kraft and Roger Goodell air still i...</td>\n      <td>NaN</td>\n    </tr>\n    <tr>\n      <th>3</th>\n      <td>4</td>\n      <td>Need #recipes? Visit the Kraft #CookingUpGood ...</td>\n      <td>NaN</td>\n    </tr>\n    <tr>\n      <th>4</th>\n      <td>5</td>\n      <td>@EdgeofSports You take the good-You take the b...</td>\n      <td>NaN</td>\n    </tr>\n  </tbody>\n</table>\n</div>"
     },
     "execution_count": 5,
     "metadata": {},
     "output_type": "execute_result"
    }
   ],
   "source": [
    "text_frame.head()"
   ]
  },
  {
   "cell_type": "code",
   "execution_count": 6,
   "id": "f528da0d",
   "metadata": {
    "ExecuteTime": {
     "end_time": "2024-08-20T17:18:09.594515200Z",
     "start_time": "2024-08-20T17:18:09.497554300Z"
    }
   },
   "outputs": [
    {
     "data": {
      "text/plain": "Index(['ID', 'Katakana text Translated', 'Unnamed: 2'], dtype='object')"
     },
     "execution_count": 6,
     "metadata": {},
     "output_type": "execute_result"
    }
   ],
   "source": [
    "# Get the name of the columns\n",
    "text_frame.columns"
   ]
  },
  {
   "cell_type": "code",
   "execution_count": 7,
   "id": "fa5eef4c65f62e6e",
   "metadata": {
    "collapsed": false,
    "ExecuteTime": {
     "end_time": "2024-08-20T17:18:09.689419400Z",
     "start_time": "2024-08-20T17:18:09.528573500Z"
    }
   },
   "outputs": [
    {
     "name": "stdout",
     "output_type": "stream",
     "text": [
      "<class 'pandas.core.frame.DataFrame'>\n",
      "RangeIndex: 6936 entries, 0 to 6935\n",
      "Data columns (total 3 columns):\n",
      " #   Column                    Non-Null Count  Dtype \n",
      "---  ------                    --------------  ----- \n",
      " 0   ID                        6936 non-null   int64 \n",
      " 1   Katakana text Translated  6936 non-null   object\n",
      " 2   Unnamed: 2                1 non-null      object\n",
      "dtypes: int64(1), object(2)\n",
      "memory usage: 162.7+ KB\n"
     ]
    }
   ],
   "source": [
    "'''Get basic info on the dataframes\n",
    "Only will be using one column: Katakana text Translated which contains all necessary data for analysis\n",
    "'''\n",
    "\n",
    "text_frame.info()"
   ]
  },
  {
   "cell_type": "code",
   "execution_count": 8,
   "id": "ce15afe1",
   "metadata": {
    "ExecuteTime": {
     "end_time": "2024-08-20T17:18:09.843055100Z",
     "start_time": "2024-08-20T17:18:09.575763800Z"
    }
   },
   "outputs": [
    {
     "data": {
      "text/plain": "        ID                                              Tweet Unnamed\n0        1  Huge @Patriots pep rally at Toso's in PHX...wa...     NaN\n1        2  For Robert Kraft and Roger Goodell air still i...     NaN\n2        3  For Robert Kraft and Roger Goodell air still i...     NaN\n3        4  Need #recipes? Visit the Kraft #CookingUpGood ...     NaN\n4        5  @EdgeofSports You take the good-You take the b...     NaN\n...    ...                                                ...     ...\n6931  6932                     CHEESE IN MY POCKETS VELVEETA\"     NaN\n6932  6933  But why somebody just posted a pic on my fb fe...     NaN\n6933  6934                   Cheese in my pockets .. Velveeta     NaN\n6934  6935                     Cheese in my pocket Velveeta !     NaN\n6935  6936  Get a #Save $1 off #Kraft Natural #Cheese Prod...     NaN\n\n[6936 rows x 3 columns]",
      "text/html": "<div>\n<style scoped>\n    .dataframe tbody tr th:only-of-type {\n        vertical-align: middle;\n    }\n\n    .dataframe tbody tr th {\n        vertical-align: top;\n    }\n\n    .dataframe thead th {\n        text-align: right;\n    }\n</style>\n<table border=\"1\" class=\"dataframe\">\n  <thead>\n    <tr style=\"text-align: right;\">\n      <th></th>\n      <th>ID</th>\n      <th>Tweet</th>\n      <th>Unnamed</th>\n    </tr>\n  </thead>\n  <tbody>\n    <tr>\n      <th>0</th>\n      <td>1</td>\n      <td>Huge @Patriots pep rally at Toso's in PHX...wa...</td>\n      <td>NaN</td>\n    </tr>\n    <tr>\n      <th>1</th>\n      <td>2</td>\n      <td>For Robert Kraft and Roger Goodell air still i...</td>\n      <td>NaN</td>\n    </tr>\n    <tr>\n      <th>2</th>\n      <td>3</td>\n      <td>For Robert Kraft and Roger Goodell air still i...</td>\n      <td>NaN</td>\n    </tr>\n    <tr>\n      <th>3</th>\n      <td>4</td>\n      <td>Need #recipes? Visit the Kraft #CookingUpGood ...</td>\n      <td>NaN</td>\n    </tr>\n    <tr>\n      <th>4</th>\n      <td>5</td>\n      <td>@EdgeofSports You take the good-You take the b...</td>\n      <td>NaN</td>\n    </tr>\n    <tr>\n      <th>...</th>\n      <td>...</td>\n      <td>...</td>\n      <td>...</td>\n    </tr>\n    <tr>\n      <th>6931</th>\n      <td>6932</td>\n      <td>CHEESE IN MY POCKETS VELVEETA\"</td>\n      <td>NaN</td>\n    </tr>\n    <tr>\n      <th>6932</th>\n      <td>6933</td>\n      <td>But why somebody just posted a pic on my fb fe...</td>\n      <td>NaN</td>\n    </tr>\n    <tr>\n      <th>6933</th>\n      <td>6934</td>\n      <td>Cheese in my pockets .. Velveeta</td>\n      <td>NaN</td>\n    </tr>\n    <tr>\n      <th>6934</th>\n      <td>6935</td>\n      <td>Cheese in my pocket Velveeta !</td>\n      <td>NaN</td>\n    </tr>\n    <tr>\n      <th>6935</th>\n      <td>6936</td>\n      <td>Get a #Save $1 off #Kraft Natural #Cheese Prod...</td>\n      <td>NaN</td>\n    </tr>\n  </tbody>\n</table>\n<p>6936 rows × 3 columns</p>\n</div>"
     },
     "execution_count": 8,
     "metadata": {},
     "output_type": "execute_result"
    }
   ],
   "source": [
    "# Rename column in text_frame titled 'Katakana text Translated' to 'Tweet' \n",
    "# Update column in text_frame titled 'Unnamed: 2' to 'Unnamed'\n",
    "\n",
    "text_frame = text_frame.rename(columns={\"ID\":\"ID\", \"Katakana text Translated\": \"Tweet\", 'Unnamed: 2':\"Unnamed\"})\n",
    "text_frame"
   ]
  },
  {
   "cell_type": "code",
   "execution_count": 9,
   "id": "96f377d2d1701471",
   "metadata": {
    "collapsed": false,
    "ExecuteTime": {
     "end_time": "2024-08-20T17:18:09.893025400Z",
     "start_time": "2024-08-20T17:18:09.600963700Z"
    }
   },
   "outputs": [
    {
     "data": {
      "text/plain": "                ID\ncount  6936.000000\nmean   3468.500000\nstd    2002.395066\nmin       1.000000\n25%    1734.750000\n50%    3468.500000\n75%    5202.250000\nmax    6936.000000",
      "text/html": "<div>\n<style scoped>\n    .dataframe tbody tr th:only-of-type {\n        vertical-align: middle;\n    }\n\n    .dataframe tbody tr th {\n        vertical-align: top;\n    }\n\n    .dataframe thead th {\n        text-align: right;\n    }\n</style>\n<table border=\"1\" class=\"dataframe\">\n  <thead>\n    <tr style=\"text-align: right;\">\n      <th></th>\n      <th>ID</th>\n    </tr>\n  </thead>\n  <tbody>\n    <tr>\n      <th>count</th>\n      <td>6936.000000</td>\n    </tr>\n    <tr>\n      <th>mean</th>\n      <td>3468.500000</td>\n    </tr>\n    <tr>\n      <th>std</th>\n      <td>2002.395066</td>\n    </tr>\n    <tr>\n      <th>min</th>\n      <td>1.000000</td>\n    </tr>\n    <tr>\n      <th>25%</th>\n      <td>1734.750000</td>\n    </tr>\n    <tr>\n      <th>50%</th>\n      <td>3468.500000</td>\n    </tr>\n    <tr>\n      <th>75%</th>\n      <td>5202.250000</td>\n    </tr>\n    <tr>\n      <th>max</th>\n      <td>6936.000000</td>\n    </tr>\n  </tbody>\n</table>\n</div>"
     },
     "execution_count": 9,
     "metadata": {},
     "output_type": "execute_result"
    }
   ],
   "source": [
    "text_frame.describe()"
   ]
  },
  {
   "cell_type": "code",
   "execution_count": 10,
   "id": "3a3b4dce6e8b8efa",
   "metadata": {
    "collapsed": false,
    "ExecuteTime": {
     "end_time": "2024-08-20T17:18:10.024268700Z",
     "start_time": "2024-08-20T17:18:09.652314600Z"
    }
   },
   "outputs": [
    {
     "data": {
      "text/plain": "ID         6936\nTweet      6770\nUnnamed       1\ndtype: int64"
     },
     "execution_count": 10,
     "metadata": {},
     "output_type": "execute_result"
    }
   ],
   "source": [
    "text_frame.nunique()"
   ]
  },
  {
   "cell_type": "code",
   "execution_count": 11,
   "id": "9c2f38af8dd761cc",
   "metadata": {
    "collapsed": false,
    "ExecuteTime": {
     "end_time": "2024-08-20T17:18:10.039259300Z",
     "start_time": "2024-08-20T17:18:09.681424600Z"
    }
   },
   "outputs": [
    {
     "data": {
      "text/plain": "array([\"Huge @Patriots pep rally at Toso's in PHX...waiting for Mr Kraft's arrival #GoPats @PatriotsExtra http://t.co/y9NElMN6jo\",\n       \"For Robert Kraft and Roger Goodell air still isn't clear - Boston Globe http://t.co/Rw4oh3hswK #google #sport\",\n       \"For Robert Kraft and Roger Goodell air still isn't clear - Boston Globe http://t.co/yN68nBRFne #google #sport\",\n       ...,\n       '@grantlandis will you make me some Velveeta Mac and cheese with chicken?',\n       'But why somebody just posted a pic on my fb feed of velveeta shells & cheese uncle Ben\\'s brown rice or ricearoni & some frozen broccoli\"',\n       'Get a #Save $1 off #Kraft Natural #Cheese Products! #coupon http://pinterest.com/pin/446911962998255057/\\xa0…'],\n      dtype=object)"
     },
     "execution_count": 11,
     "metadata": {},
     "output_type": "execute_result"
    }
   ],
   "source": [
    "# Check for unique values; almost all should be unique with exception for retweets\n",
    "text_frame['Tweet'].unique()"
   ]
  },
  {
   "cell_type": "code",
   "execution_count": 12,
   "id": "b62314f1143d3e4e",
   "metadata": {
    "collapsed": false,
    "ExecuteTime": {
     "end_time": "2024-08-20T17:18:10.098522100Z",
     "start_time": "2024-08-20T17:18:09.716405900Z"
    }
   },
   "outputs": [
    {
     "data": {
      "text/plain": "        ID                                              Tweet Unnamed\n13      14  check this out For Robert Kraft and Roger Good...     NaN\n470    471  #sports Kraft on speech: I didn't like being u...     NaN\n1673  1674  Roger Goodell on deflategate investigation Kra...     NaN\n1866  1867  check this out Myers: Goodell won't Kraft apol...     NaN\n1943  1944  Myers: Goodell won't Kraft apology for Deflate...     NaN\n1953  1954  Belichick Carroll both say they owe a bundle t...     NaN\n2362  2363  she had on athletic booster club shirt on too ...     NaN\n2384  2385  More on Robert Kraft's absence from Roger Good...     NaN\n2552  2553  RT @PCreighton1: Its #PCandADB 6-11p @sportsra...     NaN\n2554  2555  Its #PCandADB 6-11p @sportsradio610 @ADBsports...     NaN\n2921  2922  It’s Game On between Roger Goodell and Robert ...     NaN\n3143  3144  @jaymohr37 Goodell works for the owners... esp...     NaN\n3146  3147  RT @jasonrmcintyre: Pow MT @sportsrapport: Ric...     NaN\n3202  3203  @jaymohr37 Goodell loves going to Kraft's home...     NaN\n3215  3216  @jaymohr37 Im not a committee. Robert Kraft Le...     NaN\n3295  3296  @jaymohr37 #RogerGoodell has a new favorite ch...     NaN\n3327  3328  @GraveDigger_12 @ClydeEDawkins Kraft is one of...     NaN\n3704  3705  @SedanoESPN @SedanoAndStink @markschlereth @sp...     NaN\n3964  3965  # sports news Patriots owner Kraft stands fron...     NaN\n3965  3966  # sports news Patriots owner Kraft stands fron...     NaN\n3966  3967  # sports news Patriots owner Kraft stands fron...     NaN\n4023  4024  @janesports Rumor has it Kraft owes Goodell a ...     NaN\n4034  4035  RT @janesports: Customarily the Super Bowl tea...     NaN\n4198  4199  #sports Patriots owner Kraft stands front-and-...     NaN\n5035  5036  @davehydesports Bob Kraft demanding apologies ...     NaN\n5114  5115  RT @NYCsportsPUNK: @LillyAnnFraizer @BrianStra...     NaN\n5117  5118  World of New England Patriots owner Robert Kra...     NaN\n5897  5898  But @JerryThorton Barstool sports / @WEEI abso...     NaN\n5903  5904  RT @nypostsports: Did you have any doubts that...     NaN\n6420  6421  @jaymohr37 #RogerGoodell loves \"Kraft Cheese\"....     NaN\n6781  6782  Goodell favoring that Kraft cheese. I'm sayin....     NaN",
      "text/html": "<div>\n<style scoped>\n    .dataframe tbody tr th:only-of-type {\n        vertical-align: middle;\n    }\n\n    .dataframe tbody tr th {\n        vertical-align: top;\n    }\n\n    .dataframe thead th {\n        text-align: right;\n    }\n</style>\n<table border=\"1\" class=\"dataframe\">\n  <thead>\n    <tr style=\"text-align: right;\">\n      <th></th>\n      <th>ID</th>\n      <th>Tweet</th>\n      <th>Unnamed</th>\n    </tr>\n  </thead>\n  <tbody>\n    <tr>\n      <th>13</th>\n      <td>14</td>\n      <td>check this out For Robert Kraft and Roger Good...</td>\n      <td>NaN</td>\n    </tr>\n    <tr>\n      <th>470</th>\n      <td>471</td>\n      <td>#sports Kraft on speech: I didn't like being u...</td>\n      <td>NaN</td>\n    </tr>\n    <tr>\n      <th>1673</th>\n      <td>1674</td>\n      <td>Roger Goodell on deflategate investigation Kra...</td>\n      <td>NaN</td>\n    </tr>\n    <tr>\n      <th>1866</th>\n      <td>1867</td>\n      <td>check this out Myers: Goodell won't Kraft apol...</td>\n      <td>NaN</td>\n    </tr>\n    <tr>\n      <th>1943</th>\n      <td>1944</td>\n      <td>Myers: Goodell won't Kraft apology for Deflate...</td>\n      <td>NaN</td>\n    </tr>\n    <tr>\n      <th>1953</th>\n      <td>1954</td>\n      <td>Belichick Carroll both say they owe a bundle t...</td>\n      <td>NaN</td>\n    </tr>\n    <tr>\n      <th>2362</th>\n      <td>2363</td>\n      <td>she had on athletic booster club shirt on too ...</td>\n      <td>NaN</td>\n    </tr>\n    <tr>\n      <th>2384</th>\n      <td>2385</td>\n      <td>More on Robert Kraft's absence from Roger Good...</td>\n      <td>NaN</td>\n    </tr>\n    <tr>\n      <th>2552</th>\n      <td>2553</td>\n      <td>RT @PCreighton1: Its #PCandADB 6-11p @sportsra...</td>\n      <td>NaN</td>\n    </tr>\n    <tr>\n      <th>2554</th>\n      <td>2555</td>\n      <td>Its #PCandADB 6-11p @sportsradio610 @ADBsports...</td>\n      <td>NaN</td>\n    </tr>\n    <tr>\n      <th>2921</th>\n      <td>2922</td>\n      <td>It’s Game On between Roger Goodell and Robert ...</td>\n      <td>NaN</td>\n    </tr>\n    <tr>\n      <th>3143</th>\n      <td>3144</td>\n      <td>@jaymohr37 Goodell works for the owners... esp...</td>\n      <td>NaN</td>\n    </tr>\n    <tr>\n      <th>3146</th>\n      <td>3147</td>\n      <td>RT @jasonrmcintyre: Pow MT @sportsrapport: Ric...</td>\n      <td>NaN</td>\n    </tr>\n    <tr>\n      <th>3202</th>\n      <td>3203</td>\n      <td>@jaymohr37 Goodell loves going to Kraft's home...</td>\n      <td>NaN</td>\n    </tr>\n    <tr>\n      <th>3215</th>\n      <td>3216</td>\n      <td>@jaymohr37 Im not a committee. Robert Kraft Le...</td>\n      <td>NaN</td>\n    </tr>\n    <tr>\n      <th>3295</th>\n      <td>3296</td>\n      <td>@jaymohr37 #RogerGoodell has a new favorite ch...</td>\n      <td>NaN</td>\n    </tr>\n    <tr>\n      <th>3327</th>\n      <td>3328</td>\n      <td>@GraveDigger_12 @ClydeEDawkins Kraft is one of...</td>\n      <td>NaN</td>\n    </tr>\n    <tr>\n      <th>3704</th>\n      <td>3705</td>\n      <td>@SedanoESPN @SedanoAndStink @markschlereth @sp...</td>\n      <td>NaN</td>\n    </tr>\n    <tr>\n      <th>3964</th>\n      <td>3965</td>\n      <td># sports news Patriots owner Kraft stands fron...</td>\n      <td>NaN</td>\n    </tr>\n    <tr>\n      <th>3965</th>\n      <td>3966</td>\n      <td># sports news Patriots owner Kraft stands fron...</td>\n      <td>NaN</td>\n    </tr>\n    <tr>\n      <th>3966</th>\n      <td>3967</td>\n      <td># sports news Patriots owner Kraft stands fron...</td>\n      <td>NaN</td>\n    </tr>\n    <tr>\n      <th>4023</th>\n      <td>4024</td>\n      <td>@janesports Rumor has it Kraft owes Goodell a ...</td>\n      <td>NaN</td>\n    </tr>\n    <tr>\n      <th>4034</th>\n      <td>4035</td>\n      <td>RT @janesports: Customarily the Super Bowl tea...</td>\n      <td>NaN</td>\n    </tr>\n    <tr>\n      <th>4198</th>\n      <td>4199</td>\n      <td>#sports Patriots owner Kraft stands front-and-...</td>\n      <td>NaN</td>\n    </tr>\n    <tr>\n      <th>5035</th>\n      <td>5036</td>\n      <td>@davehydesports Bob Kraft demanding apologies ...</td>\n      <td>NaN</td>\n    </tr>\n    <tr>\n      <th>5114</th>\n      <td>5115</td>\n      <td>RT @NYCsportsPUNK: @LillyAnnFraizer @BrianStra...</td>\n      <td>NaN</td>\n    </tr>\n    <tr>\n      <th>5117</th>\n      <td>5118</td>\n      <td>World of New England Patriots owner Robert Kra...</td>\n      <td>NaN</td>\n    </tr>\n    <tr>\n      <th>5897</th>\n      <td>5898</td>\n      <td>But @JerryThorton Barstool sports / @WEEI abso...</td>\n      <td>NaN</td>\n    </tr>\n    <tr>\n      <th>5903</th>\n      <td>5904</td>\n      <td>RT @nypostsports: Did you have any doubts that...</td>\n      <td>NaN</td>\n    </tr>\n    <tr>\n      <th>6420</th>\n      <td>6421</td>\n      <td>@jaymohr37 #RogerGoodell loves \"Kraft Cheese\"....</td>\n      <td>NaN</td>\n    </tr>\n    <tr>\n      <th>6781</th>\n      <td>6782</td>\n      <td>Goodell favoring that Kraft cheese. I'm sayin....</td>\n      <td>NaN</td>\n    </tr>\n  </tbody>\n</table>\n</div>"
     },
     "execution_count": 12,
     "metadata": {},
     "output_type": "execute_result"
    }
   ],
   "source": [
    "text_frame[text_frame['Tweet'].str.contains('sports')]"
   ]
  },
  {
   "cell_type": "code",
   "execution_count": 13,
   "id": "210b50ecc874c325",
   "metadata": {
    "collapsed": false,
    "ExecuteTime": {
     "end_time": "2024-08-20T17:18:10.293686400Z",
     "start_time": "2024-08-20T17:18:09.762533700Z"
    }
   },
   "outputs": [
    {
     "data": {
      "text/plain": "        ID                                              Tweet Unnamed\n0        1  Huge @Patriots pep rally at Toso's in PHX...wa...     NaN\n39      40  Remember that time Putin may have stolen Patri...     NaN\n54      55  The 73-Year-Old Patriots Owner Bob Kraft Has a...     NaN\n62      63  RT @Life_and_Style: The #Patriots owner #BobKr...     NaN\n74      75  Kraft on speech: I didn't like being unfairly ...     NaN\n...    ...                                                ...     ...\n6635  6636  Does Robert Kraft own Kraft cheese?? That maca...     NaN\n6662  6663  @alexmarvez @Patriots @NFLonFOX Want a second ...     NaN\n6723  6724  Robert Kraft demands an apology whenever someo...     NaN\n6740  6741  @robertsnell7 @GMA @ChrisEvans @CaptainAmerica...     NaN\n6758  6759  Damn all this time I thought Robert Kraft made...     NaN\n\n[532 rows x 3 columns]",
      "text/html": "<div>\n<style scoped>\n    .dataframe tbody tr th:only-of-type {\n        vertical-align: middle;\n    }\n\n    .dataframe tbody tr th {\n        vertical-align: top;\n    }\n\n    .dataframe thead th {\n        text-align: right;\n    }\n</style>\n<table border=\"1\" class=\"dataframe\">\n  <thead>\n    <tr style=\"text-align: right;\">\n      <th></th>\n      <th>ID</th>\n      <th>Tweet</th>\n      <th>Unnamed</th>\n    </tr>\n  </thead>\n  <tbody>\n    <tr>\n      <th>0</th>\n      <td>1</td>\n      <td>Huge @Patriots pep rally at Toso's in PHX...wa...</td>\n      <td>NaN</td>\n    </tr>\n    <tr>\n      <th>39</th>\n      <td>40</td>\n      <td>Remember that time Putin may have stolen Patri...</td>\n      <td>NaN</td>\n    </tr>\n    <tr>\n      <th>54</th>\n      <td>55</td>\n      <td>The 73-Year-Old Patriots Owner Bob Kraft Has a...</td>\n      <td>NaN</td>\n    </tr>\n    <tr>\n      <th>62</th>\n      <td>63</td>\n      <td>RT @Life_and_Style: The #Patriots owner #BobKr...</td>\n      <td>NaN</td>\n    </tr>\n    <tr>\n      <th>74</th>\n      <td>75</td>\n      <td>Kraft on speech: I didn't like being unfairly ...</td>\n      <td>NaN</td>\n    </tr>\n    <tr>\n      <th>...</th>\n      <td>...</td>\n      <td>...</td>\n      <td>...</td>\n    </tr>\n    <tr>\n      <th>6635</th>\n      <td>6636</td>\n      <td>Does Robert Kraft own Kraft cheese?? That maca...</td>\n      <td>NaN</td>\n    </tr>\n    <tr>\n      <th>6662</th>\n      <td>6663</td>\n      <td>@alexmarvez @Patriots @NFLonFOX Want a second ...</td>\n      <td>NaN</td>\n    </tr>\n    <tr>\n      <th>6723</th>\n      <td>6724</td>\n      <td>Robert Kraft demands an apology whenever someo...</td>\n      <td>NaN</td>\n    </tr>\n    <tr>\n      <th>6740</th>\n      <td>6741</td>\n      <td>@robertsnell7 @GMA @ChrisEvans @CaptainAmerica...</td>\n      <td>NaN</td>\n    </tr>\n    <tr>\n      <th>6758</th>\n      <td>6759</td>\n      <td>Damn all this time I thought Robert Kraft made...</td>\n      <td>NaN</td>\n    </tr>\n  </tbody>\n</table>\n<p>532 rows × 3 columns</p>\n</div>"
     },
     "execution_count": 13,
     "metadata": {},
     "output_type": "execute_result"
    }
   ],
   "source": [
    "text_frame[text_frame['Tweet'].str.contains('Patriots')]"
   ]
  },
  {
   "cell_type": "code",
   "execution_count": 14,
   "id": "4ba651dff398f17f",
   "metadata": {
    "collapsed": false,
    "ExecuteTime": {
     "end_time": "2024-08-20T17:18:10.375312500Z",
     "start_time": "2024-08-20T17:18:09.821066700Z"
    }
   },
   "outputs": [
    {
     "data": {
      "text/plain": "        ID                                              Tweet Unnamed\n407    408  $5.00 Off Kraft Macaroni and Cheese or Velveet...     NaN\n2507  2508  @Scannon146 Kraft is good too. I've had better...     NaN\n3263  3264                       Velveeta over Kraft any day.     NaN\n3287  3288  #SuperBowl #snack shopping? Hope there's no re...     NaN\n5146  5147  Walgreens: FREE Kraft Homestyle Mac &amp; Chee...     NaN\n...    ...                                                ...     ...\n6926  6927  @bennyc50 Was it the powdered cheese mac or th...     NaN\n6928  6929            Velveeta cheese is a fucking experience     NaN\n6930  6931  @grantlandis will you make me some Velveeta Ma...     NaN\n6933  6934                   Cheese in my pockets .. Velveeta     NaN\n6934  6935                     Cheese in my pocket Velveeta !     NaN\n\n[401 rows x 3 columns]",
      "text/html": "<div>\n<style scoped>\n    .dataframe tbody tr th:only-of-type {\n        vertical-align: middle;\n    }\n\n    .dataframe tbody tr th {\n        vertical-align: top;\n    }\n\n    .dataframe thead th {\n        text-align: right;\n    }\n</style>\n<table border=\"1\" class=\"dataframe\">\n  <thead>\n    <tr style=\"text-align: right;\">\n      <th></th>\n      <th>ID</th>\n      <th>Tweet</th>\n      <th>Unnamed</th>\n    </tr>\n  </thead>\n  <tbody>\n    <tr>\n      <th>407</th>\n      <td>408</td>\n      <td>$5.00 Off Kraft Macaroni and Cheese or Velveet...</td>\n      <td>NaN</td>\n    </tr>\n    <tr>\n      <th>2507</th>\n      <td>2508</td>\n      <td>@Scannon146 Kraft is good too. I've had better...</td>\n      <td>NaN</td>\n    </tr>\n    <tr>\n      <th>3263</th>\n      <td>3264</td>\n      <td>Velveeta over Kraft any day.</td>\n      <td>NaN</td>\n    </tr>\n    <tr>\n      <th>3287</th>\n      <td>3288</td>\n      <td>#SuperBowl #snack shopping? Hope there's no re...</td>\n      <td>NaN</td>\n    </tr>\n    <tr>\n      <th>5146</th>\n      <td>5147</td>\n      <td>Walgreens: FREE Kraft Homestyle Mac &amp;amp; Chee...</td>\n      <td>NaN</td>\n    </tr>\n    <tr>\n      <th>...</th>\n      <td>...</td>\n      <td>...</td>\n      <td>...</td>\n    </tr>\n    <tr>\n      <th>6926</th>\n      <td>6927</td>\n      <td>@bennyc50 Was it the powdered cheese mac or th...</td>\n      <td>NaN</td>\n    </tr>\n    <tr>\n      <th>6928</th>\n      <td>6929</td>\n      <td>Velveeta cheese is a fucking experience</td>\n      <td>NaN</td>\n    </tr>\n    <tr>\n      <th>6930</th>\n      <td>6931</td>\n      <td>@grantlandis will you make me some Velveeta Ma...</td>\n      <td>NaN</td>\n    </tr>\n    <tr>\n      <th>6933</th>\n      <td>6934</td>\n      <td>Cheese in my pockets .. Velveeta</td>\n      <td>NaN</td>\n    </tr>\n    <tr>\n      <th>6934</th>\n      <td>6935</td>\n      <td>Cheese in my pocket Velveeta !</td>\n      <td>NaN</td>\n    </tr>\n  </tbody>\n</table>\n<p>401 rows × 3 columns</p>\n</div>"
     },
     "execution_count": 14,
     "metadata": {},
     "output_type": "execute_result"
    }
   ],
   "source": [
    "text_frame[text_frame['Tweet'].str.contains('Velveeta')]"
   ]
  },
  {
   "cell_type": "code",
   "execution_count": 15,
   "id": "9a6d46bc9920b2b7",
   "metadata": {
    "collapsed": false,
    "ExecuteTime": {
     "end_time": "2024-08-20T17:18:10.414290800Z",
     "start_time": "2024-08-20T17:18:09.871038500Z"
    }
   },
   "outputs": [
    {
     "data": {
      "text/plain": "        ID                                              Tweet Unnamed\n138    139            Really craving mac and cheese!!! #Kraft     NaN\n692    693  Never leave out the butter when making Kraft m...     NaN\n1512  1513      I need kraft mac and cheese right fucking now     NaN\n1816  1817  RT @samm_chino: Kraft mac and cheese gossip gi...     NaN\n1932  1933  Our kids seem to prefer Kraft mac and cheese o...     NaN\n2016  2017  @AndieSawyerRP @melissacoatesrp then eat up. I...     NaN\n2223  2224  @AndieSawyerRP @JohnFlynnRP @melissacoatesrp *...     NaN\n2264  2265  crying bc i want kraft mac and cheese but i do...     NaN\n2433  2434  Kraft mac and cheese gossip girl and my best f...     NaN\n2563  2564  I don't care how unhealthy it is- I will eat K...     NaN\n3406  3407  Is there anything better than kraft mac and ch...     NaN\n3667  3668          i've fallen for kraft mac and cheese fuck     NaN\n4243  4244  Kraft mac and cheese has a ridiculous amount o...     NaN\n5039  5040  RT @_rashawn213: \"@abs21510: I'm gunna spoil m...     NaN\n5108  5109  \"@abs21510: I'm gunna spoil my girl with velve...     NaN\n5135  5136  I'm gunna spoil my girl with velveta shells no...     NaN\n5270  5271  Only excited for Valentine's Day because of th...     NaN\n5860  5861  If you like Kraft mac and cheese don't freakin...     NaN\n6055  6056                 Velveeta mac and cheese is so good     NaN\n6145  6146  Velveeta shells and cheese will forever be bet...     NaN\n6166  6167  just ate a whole box of velveeta mac and chees...     NaN\n6171  6172              Velveeta mac and cheese is everything     NaN\n6174  6175               go invest in velveeta mac and cheese     NaN\n6193  6194              I really love velveeta mac and cheese     NaN\n6200  6201  @cynfffia Haha I still need to try velveeta ma...     NaN\n6212  6213  The only thing im debating is my own mac and c...     NaN\n6260  6261  I want to act like I'm 8 again and eat Velveet...     NaN\n6261  6262  Mac & Cheese for dinner. Full on white elbow p...     NaN\n6273  6274  Loving how my mom makes me Velveeta mac and ch...     NaN\n6321  6322  like holy shit velveeta mac and cheese sounds ...     NaN\n6388  6389  @SemiCartamatic man it's mac and cheese with b...     NaN\n6433  6434  “@ashtinooooo: Velveeta mac and cheese is the ...     NaN\n6441  6442                Velveeta mac and cheese is the shit     NaN\n6459  6460  The world is full of surprises! Was that an ex...     NaN\n6550  6551  @ashleyy29_ who says i was gunna eat it maybe ...     NaN\n6584  6585  wow I could really go for some velveeta mac an...     NaN\n6601  6602  my dormmate gave me the rest of her velveeta m...     NaN\n6608  6609  Just found cosmic brownies AND velveeta mac an...     NaN\n6627  6628  All I eat in college is mac and cheese. Craft ...     NaN\n6746  6747  making velveeta mac and cheese ... and some sa...     NaN\n6790  6791  I could eat velveeta mac and cheese every sing...     NaN\n6796  6797  packing velveeta mac and cheese for lunch and ...     NaN\n6832  6833  If you add brie to a mac and cheese sauce it a...     NaN\n6848  6849  can women stop making velveeta mac and cheese ...     NaN\n6914  6915  the only pull game i have is pulling the wrapp...     NaN",
      "text/html": "<div>\n<style scoped>\n    .dataframe tbody tr th:only-of-type {\n        vertical-align: middle;\n    }\n\n    .dataframe tbody tr th {\n        vertical-align: top;\n    }\n\n    .dataframe thead th {\n        text-align: right;\n    }\n</style>\n<table border=\"1\" class=\"dataframe\">\n  <thead>\n    <tr style=\"text-align: right;\">\n      <th></th>\n      <th>ID</th>\n      <th>Tweet</th>\n      <th>Unnamed</th>\n    </tr>\n  </thead>\n  <tbody>\n    <tr>\n      <th>138</th>\n      <td>139</td>\n      <td>Really craving mac and cheese!!! #Kraft</td>\n      <td>NaN</td>\n    </tr>\n    <tr>\n      <th>692</th>\n      <td>693</td>\n      <td>Never leave out the butter when making Kraft m...</td>\n      <td>NaN</td>\n    </tr>\n    <tr>\n      <th>1512</th>\n      <td>1513</td>\n      <td>I need kraft mac and cheese right fucking now</td>\n      <td>NaN</td>\n    </tr>\n    <tr>\n      <th>1816</th>\n      <td>1817</td>\n      <td>RT @samm_chino: Kraft mac and cheese gossip gi...</td>\n      <td>NaN</td>\n    </tr>\n    <tr>\n      <th>1932</th>\n      <td>1933</td>\n      <td>Our kids seem to prefer Kraft mac and cheese o...</td>\n      <td>NaN</td>\n    </tr>\n    <tr>\n      <th>2016</th>\n      <td>2017</td>\n      <td>@AndieSawyerRP @melissacoatesrp then eat up. I...</td>\n      <td>NaN</td>\n    </tr>\n    <tr>\n      <th>2223</th>\n      <td>2224</td>\n      <td>@AndieSawyerRP @JohnFlynnRP @melissacoatesrp *...</td>\n      <td>NaN</td>\n    </tr>\n    <tr>\n      <th>2264</th>\n      <td>2265</td>\n      <td>crying bc i want kraft mac and cheese but i do...</td>\n      <td>NaN</td>\n    </tr>\n    <tr>\n      <th>2433</th>\n      <td>2434</td>\n      <td>Kraft mac and cheese gossip girl and my best f...</td>\n      <td>NaN</td>\n    </tr>\n    <tr>\n      <th>2563</th>\n      <td>2564</td>\n      <td>I don't care how unhealthy it is- I will eat K...</td>\n      <td>NaN</td>\n    </tr>\n    <tr>\n      <th>3406</th>\n      <td>3407</td>\n      <td>Is there anything better than kraft mac and ch...</td>\n      <td>NaN</td>\n    </tr>\n    <tr>\n      <th>3667</th>\n      <td>3668</td>\n      <td>i've fallen for kraft mac and cheese fuck</td>\n      <td>NaN</td>\n    </tr>\n    <tr>\n      <th>4243</th>\n      <td>4244</td>\n      <td>Kraft mac and cheese has a ridiculous amount o...</td>\n      <td>NaN</td>\n    </tr>\n    <tr>\n      <th>5039</th>\n      <td>5040</td>\n      <td>RT @_rashawn213: \"@abs21510: I'm gunna spoil m...</td>\n      <td>NaN</td>\n    </tr>\n    <tr>\n      <th>5108</th>\n      <td>5109</td>\n      <td>\"@abs21510: I'm gunna spoil my girl with velve...</td>\n      <td>NaN</td>\n    </tr>\n    <tr>\n      <th>5135</th>\n      <td>5136</td>\n      <td>I'm gunna spoil my girl with velveta shells no...</td>\n      <td>NaN</td>\n    </tr>\n    <tr>\n      <th>5270</th>\n      <td>5271</td>\n      <td>Only excited for Valentine's Day because of th...</td>\n      <td>NaN</td>\n    </tr>\n    <tr>\n      <th>5860</th>\n      <td>5861</td>\n      <td>If you like Kraft mac and cheese don't freakin...</td>\n      <td>NaN</td>\n    </tr>\n    <tr>\n      <th>6055</th>\n      <td>6056</td>\n      <td>Velveeta mac and cheese is so good</td>\n      <td>NaN</td>\n    </tr>\n    <tr>\n      <th>6145</th>\n      <td>6146</td>\n      <td>Velveeta shells and cheese will forever be bet...</td>\n      <td>NaN</td>\n    </tr>\n    <tr>\n      <th>6166</th>\n      <td>6167</td>\n      <td>just ate a whole box of velveeta mac and chees...</td>\n      <td>NaN</td>\n    </tr>\n    <tr>\n      <th>6171</th>\n      <td>6172</td>\n      <td>Velveeta mac and cheese is everything</td>\n      <td>NaN</td>\n    </tr>\n    <tr>\n      <th>6174</th>\n      <td>6175</td>\n      <td>go invest in velveeta mac and cheese</td>\n      <td>NaN</td>\n    </tr>\n    <tr>\n      <th>6193</th>\n      <td>6194</td>\n      <td>I really love velveeta mac and cheese</td>\n      <td>NaN</td>\n    </tr>\n    <tr>\n      <th>6200</th>\n      <td>6201</td>\n      <td>@cynfffia Haha I still need to try velveeta ma...</td>\n      <td>NaN</td>\n    </tr>\n    <tr>\n      <th>6212</th>\n      <td>6213</td>\n      <td>The only thing im debating is my own mac and c...</td>\n      <td>NaN</td>\n    </tr>\n    <tr>\n      <th>6260</th>\n      <td>6261</td>\n      <td>I want to act like I'm 8 again and eat Velveet...</td>\n      <td>NaN</td>\n    </tr>\n    <tr>\n      <th>6261</th>\n      <td>6262</td>\n      <td>Mac &amp; Cheese for dinner. Full on white elbow p...</td>\n      <td>NaN</td>\n    </tr>\n    <tr>\n      <th>6273</th>\n      <td>6274</td>\n      <td>Loving how my mom makes me Velveeta mac and ch...</td>\n      <td>NaN</td>\n    </tr>\n    <tr>\n      <th>6321</th>\n      <td>6322</td>\n      <td>like holy shit velveeta mac and cheese sounds ...</td>\n      <td>NaN</td>\n    </tr>\n    <tr>\n      <th>6388</th>\n      <td>6389</td>\n      <td>@SemiCartamatic man it's mac and cheese with b...</td>\n      <td>NaN</td>\n    </tr>\n    <tr>\n      <th>6433</th>\n      <td>6434</td>\n      <td>“@ashtinooooo: Velveeta mac and cheese is the ...</td>\n      <td>NaN</td>\n    </tr>\n    <tr>\n      <th>6441</th>\n      <td>6442</td>\n      <td>Velveeta mac and cheese is the shit</td>\n      <td>NaN</td>\n    </tr>\n    <tr>\n      <th>6459</th>\n      <td>6460</td>\n      <td>The world is full of surprises! Was that an ex...</td>\n      <td>NaN</td>\n    </tr>\n    <tr>\n      <th>6550</th>\n      <td>6551</td>\n      <td>@ashleyy29_ who says i was gunna eat it maybe ...</td>\n      <td>NaN</td>\n    </tr>\n    <tr>\n      <th>6584</th>\n      <td>6585</td>\n      <td>wow I could really go for some velveeta mac an...</td>\n      <td>NaN</td>\n    </tr>\n    <tr>\n      <th>6601</th>\n      <td>6602</td>\n      <td>my dormmate gave me the rest of her velveeta m...</td>\n      <td>NaN</td>\n    </tr>\n    <tr>\n      <th>6608</th>\n      <td>6609</td>\n      <td>Just found cosmic brownies AND velveeta mac an...</td>\n      <td>NaN</td>\n    </tr>\n    <tr>\n      <th>6627</th>\n      <td>6628</td>\n      <td>All I eat in college is mac and cheese. Craft ...</td>\n      <td>NaN</td>\n    </tr>\n    <tr>\n      <th>6746</th>\n      <td>6747</td>\n      <td>making velveeta mac and cheese ... and some sa...</td>\n      <td>NaN</td>\n    </tr>\n    <tr>\n      <th>6790</th>\n      <td>6791</td>\n      <td>I could eat velveeta mac and cheese every sing...</td>\n      <td>NaN</td>\n    </tr>\n    <tr>\n      <th>6796</th>\n      <td>6797</td>\n      <td>packing velveeta mac and cheese for lunch and ...</td>\n      <td>NaN</td>\n    </tr>\n    <tr>\n      <th>6832</th>\n      <td>6833</td>\n      <td>If you add brie to a mac and cheese sauce it a...</td>\n      <td>NaN</td>\n    </tr>\n    <tr>\n      <th>6848</th>\n      <td>6849</td>\n      <td>can women stop making velveeta mac and cheese ...</td>\n      <td>NaN</td>\n    </tr>\n    <tr>\n      <th>6914</th>\n      <td>6915</td>\n      <td>the only pull game i have is pulling the wrapp...</td>\n      <td>NaN</td>\n    </tr>\n  </tbody>\n</table>\n</div>"
     },
     "execution_count": 15,
     "metadata": {},
     "output_type": "execute_result"
    }
   ],
   "source": [
    "text_frame[text_frame['Tweet'].str.contains('mac and cheese')]"
   ]
  },
  {
   "cell_type": "code",
   "execution_count": 16,
   "id": "a1d9ae49d95b13ae",
   "metadata": {
    "collapsed": false,
    "ExecuteTime": {
     "end_time": "2024-08-20T17:18:10.453214300Z",
     "start_time": "2024-08-20T17:18:09.911332100Z"
    }
   },
   "outputs": [
    {
     "data": {
      "text/plain": "        ID                                              Tweet Unnamed\n5        6  RT @HomespunSociety: Wrap it up http://t.co/82...     NaN\n8        9  RT @OTLonESPN: Tomorrow 8am ET ESPN2: Fallout ...     NaN\n10      11  RT @kittyFitz50: I love Kraft beer .@America_O...     NaN\n18      19  Super COOL Mommy PAPER! http://t.co/6LFNV4JTOP...     NaN\n19      20  RT @ProjetoIdols: RT to be a in a group DM wit...     NaN\n...    ...                                                ...     ...\n6262  6263   VELVEETA SHELLS & CHEESE ARE THE WAY TO MY HEART     NaN\n6354  6355  RT @DanielleAlberti: \"How do you say 'American...     NaN\n6447  6448  U mean they like kraft cheese RT @Rich729_: “@...     NaN\n6729  6730  No dude Velveeta! RT @EricStangel: Not sure if...     NaN\n6767  6768  RT “@SullyFootball: Water is also wet “@BLB_Ch...     NaN\n\n[1050 rows x 3 columns]",
      "text/html": "<div>\n<style scoped>\n    .dataframe tbody tr th:only-of-type {\n        vertical-align: middle;\n    }\n\n    .dataframe tbody tr th {\n        vertical-align: top;\n    }\n\n    .dataframe thead th {\n        text-align: right;\n    }\n</style>\n<table border=\"1\" class=\"dataframe\">\n  <thead>\n    <tr style=\"text-align: right;\">\n      <th></th>\n      <th>ID</th>\n      <th>Tweet</th>\n      <th>Unnamed</th>\n    </tr>\n  </thead>\n  <tbody>\n    <tr>\n      <th>5</th>\n      <td>6</td>\n      <td>RT @HomespunSociety: Wrap it up http://t.co/82...</td>\n      <td>NaN</td>\n    </tr>\n    <tr>\n      <th>8</th>\n      <td>9</td>\n      <td>RT @OTLonESPN: Tomorrow 8am ET ESPN2: Fallout ...</td>\n      <td>NaN</td>\n    </tr>\n    <tr>\n      <th>10</th>\n      <td>11</td>\n      <td>RT @kittyFitz50: I love Kraft beer .@America_O...</td>\n      <td>NaN</td>\n    </tr>\n    <tr>\n      <th>18</th>\n      <td>19</td>\n      <td>Super COOL Mommy PAPER! http://t.co/6LFNV4JTOP...</td>\n      <td>NaN</td>\n    </tr>\n    <tr>\n      <th>19</th>\n      <td>20</td>\n      <td>RT @ProjetoIdols: RT to be a in a group DM wit...</td>\n      <td>NaN</td>\n    </tr>\n    <tr>\n      <th>...</th>\n      <td>...</td>\n      <td>...</td>\n      <td>...</td>\n    </tr>\n    <tr>\n      <th>6262</th>\n      <td>6263</td>\n      <td>VELVEETA SHELLS &amp; CHEESE ARE THE WAY TO MY HEART</td>\n      <td>NaN</td>\n    </tr>\n    <tr>\n      <th>6354</th>\n      <td>6355</td>\n      <td>RT @DanielleAlberti: \"How do you say 'American...</td>\n      <td>NaN</td>\n    </tr>\n    <tr>\n      <th>6447</th>\n      <td>6448</td>\n      <td>U mean they like kraft cheese RT @Rich729_: “@...</td>\n      <td>NaN</td>\n    </tr>\n    <tr>\n      <th>6729</th>\n      <td>6730</td>\n      <td>No dude Velveeta! RT @EricStangel: Not sure if...</td>\n      <td>NaN</td>\n    </tr>\n    <tr>\n      <th>6767</th>\n      <td>6768</td>\n      <td>RT “@SullyFootball: Water is also wet “@BLB_Ch...</td>\n      <td>NaN</td>\n    </tr>\n  </tbody>\n</table>\n<p>1050 rows × 3 columns</p>\n</div>"
     },
     "execution_count": 16,
     "metadata": {},
     "output_type": "execute_result"
    }
   ],
   "source": [
    "# Check for retweets\n",
    "text_frame[text_frame['Tweet'].str.contains('RT')]"
   ]
  },
  {
   "cell_type": "code",
   "execution_count": 17,
   "id": "4f57bc7c918d08ca",
   "metadata": {
    "collapsed": false,
    "ExecuteTime": {
     "end_time": "2024-08-20T17:18:10.495285800Z",
     "start_time": "2024-08-20T17:18:09.970298100Z"
    }
   },
   "outputs": [
    {
     "data": {
      "text/plain": "        ID                                              Tweet Unnamed\n605    606  If you can't watch KU basketball with me then ...     NaN\n906    907  RT @HPbasketball: OK Geez. RT @DropStepHoops: ...     NaN\n5306  5307         @Robert15Jgod Who's winning in basketball?     NaN\n5314  5315       @AlexConstancio Are you playing basketball ?     NaN",
      "text/html": "<div>\n<style scoped>\n    .dataframe tbody tr th:only-of-type {\n        vertical-align: middle;\n    }\n\n    .dataframe tbody tr th {\n        vertical-align: top;\n    }\n\n    .dataframe thead th {\n        text-align: right;\n    }\n</style>\n<table border=\"1\" class=\"dataframe\">\n  <thead>\n    <tr style=\"text-align: right;\">\n      <th></th>\n      <th>ID</th>\n      <th>Tweet</th>\n      <th>Unnamed</th>\n    </tr>\n  </thead>\n  <tbody>\n    <tr>\n      <th>605</th>\n      <td>606</td>\n      <td>If you can't watch KU basketball with me then ...</td>\n      <td>NaN</td>\n    </tr>\n    <tr>\n      <th>906</th>\n      <td>907</td>\n      <td>RT @HPbasketball: OK Geez. RT @DropStepHoops: ...</td>\n      <td>NaN</td>\n    </tr>\n    <tr>\n      <th>5306</th>\n      <td>5307</td>\n      <td>@Robert15Jgod Who's winning in basketball?</td>\n      <td>NaN</td>\n    </tr>\n    <tr>\n      <th>5314</th>\n      <td>5315</td>\n      <td>@AlexConstancio Are you playing basketball ?</td>\n      <td>NaN</td>\n    </tr>\n  </tbody>\n</table>\n</div>"
     },
     "execution_count": 17,
     "metadata": {},
     "output_type": "execute_result"
    }
   ],
   "source": [
    "text_frame[text_frame['Tweet'].str.contains('basketball')]"
   ]
  },
  {
   "cell_type": "code",
   "execution_count": 18,
   "id": "9cd9d4a32027db23",
   "metadata": {
    "collapsed": false,
    "ExecuteTime": {
     "end_time": "2024-08-20T17:18:10.539265500Z",
     "start_time": "2024-08-20T17:18:10.010274600Z"
    }
   },
   "outputs": [
    {
     "data": {
      "text/plain": "        ID                                              Tweet Unnamed\n28      29  Watch Kraft Dinner DESTROY American mac 'n che...     NaN\n47      48  “@OrganicMami: “@Sanyalala: Not that fake crus...     NaN\n48      49  “@Sanyalala: Not that fake crusty KRAFT cheese...     NaN\n49      50                  Not that fake crusty KRAFT cheese     NaN\n72      73  If a girl tried feeding me Kraft Mac and chees...     NaN\n...    ...                                                ...     ...\n6926  6927  @bennyc50 Was it the powdered cheese mac or th...     NaN\n6928  6929            Velveeta cheese is a fucking experience     NaN\n6929  6930  Can we have a velveeta Mac and cheese date? @g...     NaN\n6930  6931  @grantlandis will you make me some Velveeta Ma...     NaN\n6932  6933  But why somebody just posted a pic on my fb fe...     NaN\n\n[823 rows x 3 columns]",
      "text/html": "<div>\n<style scoped>\n    .dataframe tbody tr th:only-of-type {\n        vertical-align: middle;\n    }\n\n    .dataframe tbody tr th {\n        vertical-align: top;\n    }\n\n    .dataframe thead th {\n        text-align: right;\n    }\n</style>\n<table border=\"1\" class=\"dataframe\">\n  <thead>\n    <tr style=\"text-align: right;\">\n      <th></th>\n      <th>ID</th>\n      <th>Tweet</th>\n      <th>Unnamed</th>\n    </tr>\n  </thead>\n  <tbody>\n    <tr>\n      <th>28</th>\n      <td>29</td>\n      <td>Watch Kraft Dinner DESTROY American mac 'n che...</td>\n      <td>NaN</td>\n    </tr>\n    <tr>\n      <th>47</th>\n      <td>48</td>\n      <td>“@OrganicMami: “@Sanyalala: Not that fake crus...</td>\n      <td>NaN</td>\n    </tr>\n    <tr>\n      <th>48</th>\n      <td>49</td>\n      <td>“@Sanyalala: Not that fake crusty KRAFT cheese...</td>\n      <td>NaN</td>\n    </tr>\n    <tr>\n      <th>49</th>\n      <td>50</td>\n      <td>Not that fake crusty KRAFT cheese</td>\n      <td>NaN</td>\n    </tr>\n    <tr>\n      <th>72</th>\n      <td>73</td>\n      <td>If a girl tried feeding me Kraft Mac and chees...</td>\n      <td>NaN</td>\n    </tr>\n    <tr>\n      <th>...</th>\n      <td>...</td>\n      <td>...</td>\n      <td>...</td>\n    </tr>\n    <tr>\n      <th>6926</th>\n      <td>6927</td>\n      <td>@bennyc50 Was it the powdered cheese mac or th...</td>\n      <td>NaN</td>\n    </tr>\n    <tr>\n      <th>6928</th>\n      <td>6929</td>\n      <td>Velveeta cheese is a fucking experience</td>\n      <td>NaN</td>\n    </tr>\n    <tr>\n      <th>6929</th>\n      <td>6930</td>\n      <td>Can we have a velveeta Mac and cheese date? @g...</td>\n      <td>NaN</td>\n    </tr>\n    <tr>\n      <th>6930</th>\n      <td>6931</td>\n      <td>@grantlandis will you make me some Velveeta Ma...</td>\n      <td>NaN</td>\n    </tr>\n    <tr>\n      <th>6932</th>\n      <td>6933</td>\n      <td>But why somebody just posted a pic on my fb fe...</td>\n      <td>NaN</td>\n    </tr>\n  </tbody>\n</table>\n<p>823 rows × 3 columns</p>\n</div>"
     },
     "execution_count": 18,
     "metadata": {},
     "output_type": "execute_result"
    }
   ],
   "source": [
    "text_frame[text_frame['Tweet'].str.contains('cheese')]"
   ]
  },
  {
   "cell_type": "code",
   "outputs": [
    {
     "data": {
      "text/plain": "        ID                                              Tweet Unnamed\n0        1  Huge @Patriots pep rally at Toso's in PHX...wa...     NaN\n1        2  For Robert Kraft and Roger Goodell air still i...     NaN\n2        3  For Robert Kraft and Roger Goodell air still i...     NaN\n3        4  Need #recipes? Visit the Kraft #CookingUpGood ...     NaN\n4        5  @EdgeofSports You take the good-You take the b...     NaN\n...    ...                                                ...     ...\n6890  6891  @_KarinaD @denzildsouzaa @michelle_r16 @UncleO...     NaN\n6894  6895    Kraft mac n cheese is shit rather have Velveeta     NaN\n6900  6901  FREE Kraft Cheese + Money Maker Savings Catche...     NaN\n6907  6908                            I need Kraft cheese !!!     NaN\n6935  6936  Get a #Save $1 off #Kraft Natural #Cheese Prod...     NaN\n\n[4686 rows x 3 columns]",
      "text/html": "<div>\n<style scoped>\n    .dataframe tbody tr th:only-of-type {\n        vertical-align: middle;\n    }\n\n    .dataframe tbody tr th {\n        vertical-align: top;\n    }\n\n    .dataframe thead th {\n        text-align: right;\n    }\n</style>\n<table border=\"1\" class=\"dataframe\">\n  <thead>\n    <tr style=\"text-align: right;\">\n      <th></th>\n      <th>ID</th>\n      <th>Tweet</th>\n      <th>Unnamed</th>\n    </tr>\n  </thead>\n  <tbody>\n    <tr>\n      <th>0</th>\n      <td>1</td>\n      <td>Huge @Patriots pep rally at Toso's in PHX...wa...</td>\n      <td>NaN</td>\n    </tr>\n    <tr>\n      <th>1</th>\n      <td>2</td>\n      <td>For Robert Kraft and Roger Goodell air still i...</td>\n      <td>NaN</td>\n    </tr>\n    <tr>\n      <th>2</th>\n      <td>3</td>\n      <td>For Robert Kraft and Roger Goodell air still i...</td>\n      <td>NaN</td>\n    </tr>\n    <tr>\n      <th>3</th>\n      <td>4</td>\n      <td>Need #recipes? Visit the Kraft #CookingUpGood ...</td>\n      <td>NaN</td>\n    </tr>\n    <tr>\n      <th>4</th>\n      <td>5</td>\n      <td>@EdgeofSports You take the good-You take the b...</td>\n      <td>NaN</td>\n    </tr>\n    <tr>\n      <th>...</th>\n      <td>...</td>\n      <td>...</td>\n      <td>...</td>\n    </tr>\n    <tr>\n      <th>6890</th>\n      <td>6891</td>\n      <td>@_KarinaD @denzildsouzaa @michelle_r16 @UncleO...</td>\n      <td>NaN</td>\n    </tr>\n    <tr>\n      <th>6894</th>\n      <td>6895</td>\n      <td>Kraft mac n cheese is shit rather have Velveeta</td>\n      <td>NaN</td>\n    </tr>\n    <tr>\n      <th>6900</th>\n      <td>6901</td>\n      <td>FREE Kraft Cheese + Money Maker Savings Catche...</td>\n      <td>NaN</td>\n    </tr>\n    <tr>\n      <th>6907</th>\n      <td>6908</td>\n      <td>I need Kraft cheese !!!</td>\n      <td>NaN</td>\n    </tr>\n    <tr>\n      <th>6935</th>\n      <td>6936</td>\n      <td>Get a #Save $1 off #Kraft Natural #Cheese Prod...</td>\n      <td>NaN</td>\n    </tr>\n  </tbody>\n</table>\n<p>4686 rows × 3 columns</p>\n</div>"
     },
     "execution_count": 19,
     "metadata": {},
     "output_type": "execute_result"
    }
   ],
   "source": [
    "text_frame[text_frame['Tweet'].str.contains('Kraft')]"
   ],
   "metadata": {
    "collapsed": false,
    "ExecuteTime": {
     "end_time": "2024-08-20T17:18:10.613525900Z",
     "start_time": "2024-08-20T17:18:10.056250900Z"
    }
   },
   "id": "8c8c9eae5977df33",
   "execution_count": 19
  },
  {
   "cell_type": "code",
   "outputs": [
    {
     "data": {
      "text/plain": "ID            0\nTweet         0\nUnnamed    6935\ndtype: int64"
     },
     "execution_count": 20,
     "metadata": {},
     "output_type": "execute_result"
    }
   ],
   "source": [
    "# Check the dataframe to see if there are any null values\n",
    "# Do a count - there should be none (0)\n",
    "text_frame.isnull().sum()"
   ],
   "metadata": {
    "collapsed": false,
    "ExecuteTime": {
     "end_time": "2024-08-20T17:18:10.692678900Z",
     "start_time": "2024-08-20T17:18:10.099420400Z"
    }
   },
   "id": "5d3e8303441cf748",
   "execution_count": 20
  },
  {
   "cell_type": "code",
   "outputs": [
    {
     "data": {
      "text/plain": "   ID                                              Tweet\n0   1  Huge @Patriots pep rally at Toso's in PHX...wa...\n1   2  For Robert Kraft and Roger Goodell air still i...\n2   3  For Robert Kraft and Roger Goodell air still i...",
      "text/html": "<div>\n<style scoped>\n    .dataframe tbody tr th:only-of-type {\n        vertical-align: middle;\n    }\n\n    .dataframe tbody tr th {\n        vertical-align: top;\n    }\n\n    .dataframe thead th {\n        text-align: right;\n    }\n</style>\n<table border=\"1\" class=\"dataframe\">\n  <thead>\n    <tr style=\"text-align: right;\">\n      <th></th>\n      <th>ID</th>\n      <th>Tweet</th>\n    </tr>\n  </thead>\n  <tbody>\n    <tr>\n      <th>0</th>\n      <td>1</td>\n      <td>Huge @Patriots pep rally at Toso's in PHX...wa...</td>\n    </tr>\n    <tr>\n      <th>1</th>\n      <td>2</td>\n      <td>For Robert Kraft and Roger Goodell air still i...</td>\n    </tr>\n    <tr>\n      <th>2</th>\n      <td>3</td>\n      <td>For Robert Kraft and Roger Goodell air still i...</td>\n    </tr>\n  </tbody>\n</table>\n</div>"
     },
     "execution_count": 21,
     "metadata": {},
     "output_type": "execute_result"
    }
   ],
   "source": [
    "# Drop the 'Unnamed' column\n",
    "text_frame = text_frame.drop(columns=['Unnamed'])\n",
    "text_frame.head(3)"
   ],
   "metadata": {
    "ExecuteTime": {
     "end_time": "2024-08-20T17:18:10.921205200Z",
     "start_time": "2024-08-20T17:18:10.128381400Z"
    }
   },
   "id": "f501fed9-7a48-4574-9226-91fbf9d481eb",
   "execution_count": 21
  },
  {
   "cell_type": "code",
   "outputs": [
    {
     "data": {
      "text/plain": "Index(['ID', 'Tweet'], dtype='object')"
     },
     "execution_count": 22,
     "metadata": {},
     "output_type": "execute_result"
    }
   ],
   "source": [
    "# Current dataframe should only have two columns: ID, Tweet\n",
    "text_frame.columns"
   ],
   "metadata": {
    "ExecuteTime": {
     "end_time": "2024-08-20T17:18:10.926131Z",
     "start_time": "2024-08-20T17:18:10.161458300Z"
    }
   },
   "id": "c1679902-b0c6-47b5-8a12-2a12734ce442",
   "execution_count": 22
  },
  {
   "cell_type": "code",
   "outputs": [],
   "source": [],
   "metadata": {
    "collapsed": false,
    "ExecuteTime": {
     "end_time": "2024-08-20T17:18:10.993113500Z",
     "start_time": "2024-08-20T17:18:10.186690100Z"
    }
   },
   "id": "c34b49a9e79232c7",
   "execution_count": 22
  },
  {
   "cell_type": "code",
   "outputs": [],
   "source": [],
   "metadata": {
    "collapsed": false,
    "ExecuteTime": {
     "end_time": "2024-08-20T17:18:11.020654400Z",
     "start_time": "2024-08-20T17:18:10.202680900Z"
    }
   },
   "id": "e1a20dc5b347f4a6",
   "execution_count": 22
  },
  {
   "cell_type": "markdown",
   "source": [
    "In the case of this analysis, we must use scikit-learn to vectorize words since there is text that we will be scanning through and tokenizing. \n",
    "\n",
    "First, transform the data and fit into principal component analysis (PCA) model.<br>\n",
    "The data to be fit is the column in <b>text_frame</b> named <b>Tweet</b>.<br>\n",
    "Create clusters using k-means algorithms and principal components analysis. <br>\n",
    "\n"
   ],
   "metadata": {
    "collapsed": false
   },
   "id": "263cbdd224bdf610"
  },
  {
   "cell_type": "code",
   "outputs": [],
   "source": [
    "import sklearn\n",
    "from sklearn.cluster import KMeans\n",
    "from sklearn.decomposition import PCA\n",
    "from sklearn.feature_extraction.text import TfidfVectorizer"
   ],
   "metadata": {
    "ExecuteTime": {
     "end_time": "2024-08-20T17:18:13.425508800Z",
     "start_time": "2024-08-20T17:18:10.218671200Z"
    }
   },
   "id": "c2994455-750b-49a7-aa2c-1e22c0135e29",
   "execution_count": 23
  },
  {
   "cell_type": "code",
   "execution_count": 24,
   "id": "c2523107",
   "metadata": {
    "ExecuteTime": {
     "end_time": "2024-08-20T17:18:13.448560Z",
     "start_time": "2024-08-20T17:18:13.427611300Z"
    }
   },
   "outputs": [
    {
     "data": {
      "text/plain": "0       Huge @Patriots pep rally at Toso's in PHX...wa...\n1       For Robert Kraft and Roger Goodell air still i...\n2       For Robert Kraft and Roger Goodell air still i...\n3       Need #recipes? Visit the Kraft #CookingUpGood ...\n4       @EdgeofSports You take the good-You take the b...\n                              ...                        \n6931                       CHEESE IN MY POCKETS VELVEETA\"\n6932    But why somebody just posted a pic on my fb fe...\n6933                     Cheese in my pockets .. Velveeta\n6934                       Cheese in my pocket Velveeta !\n6935    Get a #Save $1 off #Kraft Natural #Cheese Prod...\nName: Tweet, Length: 6936, dtype: object"
     },
     "execution_count": 24,
     "metadata": {},
     "output_type": "execute_result"
    }
   ],
   "source": [
    "# arr_text = np.array(text_frame['Katakana text Translated'])\n",
    "# arr_text = text_frame['Katakana text Translated']\n",
    "arr_text = text_frame.Tweet\n",
    "arr_text"
   ]
  },
  {
   "cell_type": "code",
   "execution_count": 25,
   "id": "644fc63c",
   "metadata": {
    "ExecuteTime": {
     "end_time": "2024-08-20T17:18:13.507406900Z",
     "start_time": "2024-08-20T17:18:13.442908100Z"
    }
   },
   "outputs": [
    {
     "data": {
      "text/plain": "str"
     },
     "execution_count": 25,
     "metadata": {},
     "output_type": "execute_result"
    }
   ],
   "source": [
    "type(arr_text[0])"
   ]
  },
  {
   "cell_type": "markdown",
   "source": [
    "Credit must be given for verifying and formatting the fitting of models and the use of the TfidfVectorizer package of the\n",
    "Scikit-Learn Python library as seen in the examples provided by GeeksforGeeks. \n",
    "Without such insights, it may not have been possible to be able to search through a spreadsheet of text to find clusters as well as \n",
    "do Principal Component Analysis (PCA) on the text data. \n",
    "\n",
    "\n",
    "Article: \"Clustering Text Documents using K-Means in Scikit-Learn\", last updated 2023-06-09\n",
    "Article URL: https://www.geeksforgeeks.org/clustering-text-documents-using-k-means-in-scikit-learn/\n"
   ],
   "metadata": {
    "collapsed": false
   },
   "id": "65083030ff2f5e52"
  },
  {
   "cell_type": "code",
   "execution_count": 26,
   "id": "c78ba185",
   "metadata": {
    "ExecuteTime": {
     "end_time": "2024-08-20T17:18:17.989313600Z",
     "start_time": "2024-08-20T17:18:13.486417700Z"
    }
   },
   "outputs": [
    {
     "data": {
      "text/plain": "KMeans(max_iter=100, n_clusters=2, n_init=5, random_state=42)",
      "text/html": "<style>#sk-container-id-1 {color: black;}#sk-container-id-1 pre{padding: 0;}#sk-container-id-1 div.sk-toggleable {background-color: white;}#sk-container-id-1 label.sk-toggleable__label {cursor: pointer;display: block;width: 100%;margin-bottom: 0;padding: 0.3em;box-sizing: border-box;text-align: center;}#sk-container-id-1 label.sk-toggleable__label-arrow:before {content: \"▸\";float: left;margin-right: 0.25em;color: #696969;}#sk-container-id-1 label.sk-toggleable__label-arrow:hover:before {color: black;}#sk-container-id-1 div.sk-estimator:hover label.sk-toggleable__label-arrow:before {color: black;}#sk-container-id-1 div.sk-toggleable__content {max-height: 0;max-width: 0;overflow: hidden;text-align: left;background-color: #f0f8ff;}#sk-container-id-1 div.sk-toggleable__content pre {margin: 0.2em;color: black;border-radius: 0.25em;background-color: #f0f8ff;}#sk-container-id-1 input.sk-toggleable__control:checked~div.sk-toggleable__content {max-height: 200px;max-width: 100%;overflow: auto;}#sk-container-id-1 input.sk-toggleable__control:checked~label.sk-toggleable__label-arrow:before {content: \"▾\";}#sk-container-id-1 div.sk-estimator input.sk-toggleable__control:checked~label.sk-toggleable__label {background-color: #d4ebff;}#sk-container-id-1 div.sk-label input.sk-toggleable__control:checked~label.sk-toggleable__label {background-color: #d4ebff;}#sk-container-id-1 input.sk-hidden--visually {border: 0;clip: rect(1px 1px 1px 1px);clip: rect(1px, 1px, 1px, 1px);height: 1px;margin: -1px;overflow: hidden;padding: 0;position: absolute;width: 1px;}#sk-container-id-1 div.sk-estimator {font-family: monospace;background-color: #f0f8ff;border: 1px dotted black;border-radius: 0.25em;box-sizing: border-box;margin-bottom: 0.5em;}#sk-container-id-1 div.sk-estimator:hover {background-color: #d4ebff;}#sk-container-id-1 div.sk-parallel-item::after {content: \"\";width: 100%;border-bottom: 1px solid gray;flex-grow: 1;}#sk-container-id-1 div.sk-label:hover label.sk-toggleable__label {background-color: #d4ebff;}#sk-container-id-1 div.sk-serial::before {content: \"\";position: absolute;border-left: 1px solid gray;box-sizing: border-box;top: 0;bottom: 0;left: 50%;z-index: 0;}#sk-container-id-1 div.sk-serial {display: flex;flex-direction: column;align-items: center;background-color: white;padding-right: 0.2em;padding-left: 0.2em;position: relative;}#sk-container-id-1 div.sk-item {position: relative;z-index: 1;}#sk-container-id-1 div.sk-parallel {display: flex;align-items: stretch;justify-content: center;background-color: white;position: relative;}#sk-container-id-1 div.sk-item::before, #sk-container-id-1 div.sk-parallel-item::before {content: \"\";position: absolute;border-left: 1px solid gray;box-sizing: border-box;top: 0;bottom: 0;left: 50%;z-index: -1;}#sk-container-id-1 div.sk-parallel-item {display: flex;flex-direction: column;z-index: 1;position: relative;background-color: white;}#sk-container-id-1 div.sk-parallel-item:first-child::after {align-self: flex-end;width: 50%;}#sk-container-id-1 div.sk-parallel-item:last-child::after {align-self: flex-start;width: 50%;}#sk-container-id-1 div.sk-parallel-item:only-child::after {width: 0;}#sk-container-id-1 div.sk-dashed-wrapped {border: 1px dashed gray;margin: 0 0.4em 0.5em 0.4em;box-sizing: border-box;padding-bottom: 0.4em;background-color: white;}#sk-container-id-1 div.sk-label label {font-family: monospace;font-weight: bold;display: inline-block;line-height: 1.2em;}#sk-container-id-1 div.sk-label-container {text-align: center;}#sk-container-id-1 div.sk-container {/* jupyter's `normalize.less` sets `[hidden] { display: none; }` but bootstrap.min.css set `[hidden] { display: none !important; }` so we also need the `!important` here to be able to override the default hidden behavior on the sphinx rendered scikit-learn.org. See: https://github.com/scikit-learn/scikit-learn/issues/21755 */display: inline-block !important;position: relative;}#sk-container-id-1 div.sk-text-repr-fallback {display: none;}</style><div id=\"sk-container-id-1\" class=\"sk-top-container\"><div class=\"sk-text-repr-fallback\"><pre>KMeans(max_iter=100, n_clusters=2, n_init=5, random_state=42)</pre><b>In a Jupyter environment, please rerun this cell to show the HTML representation or trust the notebook. <br />On GitHub, the HTML representation is unable to render, please try loading this page with nbviewer.org.</b></div><div class=\"sk-container\" hidden><div class=\"sk-item\"><div class=\"sk-estimator sk-toggleable\"><input class=\"sk-toggleable__control sk-hidden--visually\" id=\"sk-estimator-id-1\" type=\"checkbox\" checked><label for=\"sk-estimator-id-1\" class=\"sk-toggleable__label sk-toggleable__label-arrow\">KMeans</label><div class=\"sk-toggleable__content\"><pre>KMeans(max_iter=100, n_clusters=2, n_init=5, random_state=42)</pre></div></div></div></div></div>"
     },
     "execution_count": 26,
     "metadata": {},
     "output_type": "execute_result"
    }
   ],
   "source": [
    "# In this case, will set the cluster count to be 2 for Robert Kraft and Kraft Foods\n",
    "# for how the tweets are distributed. \n",
    "count_clusters = 2\n",
    "\n",
    "vector = TfidfVectorizer(stop_words='english')\n",
    "\n",
    "tweets_vector = vector.fit_transform(arr_text)\n",
    "\n",
    "pca_model = PCA(n_components=count_clusters)\n",
    "model_res = pca_model.fit_transform(tweets_vector.toarray())\n",
    "\n",
    "kmeans = KMeans(n_clusters=count_clusters, n_init=5, max_iter=100, random_state=42)\n",
    "kmeans.fit(tweets_vector)\n",
    "\n"
   ]
  },
  {
   "cell_type": "code",
   "execution_count": 27,
   "id": "92da995e",
   "metadata": {
    "ExecuteTime": {
     "end_time": "2024-08-20T17:18:18.069912900Z",
     "start_time": "2024-08-20T17:18:17.983318Z"
    }
   },
   "outputs": [
    {
     "data": {
      "text/plain": "array([1, 1, 1, ..., 1, 1, 1])"
     },
     "execution_count": 27,
     "metadata": {},
     "output_type": "execute_result"
    }
   ],
   "source": [
    "kmeans.labels_"
   ]
  },
  {
   "cell_type": "code",
   "execution_count": 28,
   "id": "630c391f",
   "metadata": {
    "ExecuteTime": {
     "end_time": "2024-08-20T17:18:18.165997900Z",
     "start_time": "2024-08-20T17:18:18.019324700Z"
    }
   },
   "outputs": [
    {
     "name": "stdout",
     "output_type": "stream",
     "text": [
      "1 0\n"
     ]
    }
   ],
   "source": [
    "# After the model, the values in kmeans.labels_ should be 0, 1\n",
    "print(kmeans.labels_.max(), kmeans.labels_.min())"
   ]
  },
  {
   "cell_type": "code",
   "outputs": [
    {
     "data": {
      "text/plain": "Index(['ID', 'Tweet'], dtype='object')"
     },
     "execution_count": 29,
     "metadata": {},
     "output_type": "execute_result"
    }
   ],
   "source": [
    "# Get the names of the columns\n",
    "text_frame.columns"
   ],
   "metadata": {
    "collapsed": false,
    "ExecuteTime": {
     "end_time": "2024-08-20T17:18:18.234818900Z",
     "start_time": "2024-08-20T17:18:18.049170400Z"
    }
   },
   "id": "c3a7288de5b9490e",
   "execution_count": 29
  },
  {
   "cell_type": "code",
   "outputs": [],
   "source": [
    "# Make cluster labels for this model\n",
    "# two_cluster_labels = kmeans.predict(arr_text)\n",
    "# two_cluster_center = kmeans.cluster_centers_\n",
    "# two_cluster_center\n",
    "# \n",
    "# kmeans_two_df = pd.DataFrame(two_cluster_labels)\n",
    "# arr_text.insert((kmeans_two_df.shape[2]), 'clusters', kmeans_two_df)\n",
    "\n"
   ],
   "metadata": {
    "collapsed": false,
    "ExecuteTime": {
     "end_time": "2024-08-20T17:18:18.237946900Z",
     "start_time": "2024-08-20T17:18:18.080044Z"
    }
   },
   "id": "38e18495630e33bb",
   "execution_count": 30
  },
  {
   "cell_type": "code",
   "execution_count": 31,
   "id": "c32bcb1fc4e5e626",
   "metadata": {
    "collapsed": false,
    "ExecuteTime": {
     "end_time": "2024-08-20T17:18:18.326467300Z",
     "start_time": "2024-08-20T17:18:18.104961300Z"
    }
   },
   "outputs": [
    {
     "data": {
      "text/plain": "                                               tweet  cluster_number\n0  Huge @Patriots pep rally at Toso's in PHX...wa...               1\n1  For Robert Kraft and Roger Goodell air still i...               1\n2  For Robert Kraft and Roger Goodell air still i...               1\n3  Need #recipes? Visit the Kraft #CookingUpGood ...               0\n4  @EdgeofSports You take the good-You take the b...               1",
      "text/html": "<div>\n<style scoped>\n    .dataframe tbody tr th:only-of-type {\n        vertical-align: middle;\n    }\n\n    .dataframe tbody tr th {\n        vertical-align: top;\n    }\n\n    .dataframe thead th {\n        text-align: right;\n    }\n</style>\n<table border=\"1\" class=\"dataframe\">\n  <thead>\n    <tr style=\"text-align: right;\">\n      <th></th>\n      <th>tweet</th>\n      <th>cluster_number</th>\n    </tr>\n  </thead>\n  <tbody>\n    <tr>\n      <th>0</th>\n      <td>Huge @Patriots pep rally at Toso's in PHX...wa...</td>\n      <td>1</td>\n    </tr>\n    <tr>\n      <th>1</th>\n      <td>For Robert Kraft and Roger Goodell air still i...</td>\n      <td>1</td>\n    </tr>\n    <tr>\n      <th>2</th>\n      <td>For Robert Kraft and Roger Goodell air still i...</td>\n      <td>1</td>\n    </tr>\n    <tr>\n      <th>3</th>\n      <td>Need #recipes? Visit the Kraft #CookingUpGood ...</td>\n      <td>0</td>\n    </tr>\n    <tr>\n      <th>4</th>\n      <td>@EdgeofSports You take the good-You take the b...</td>\n      <td>1</td>\n    </tr>\n  </tbody>\n</table>\n</div>"
     },
     "execution_count": 31,
     "metadata": {},
     "output_type": "execute_result"
    }
   ],
   "source": [
    "'''Prepare the number of clusters for Kraft-related tweets\n",
    "\n",
    "Create a dataframe with all the clustered results'''\n",
    "clusters_df = pd.DataFrame()\n",
    "clusters_df['tweet'] = arr_text \n",
    "clusters_df['cluster_number'] = kmeans.labels_\n",
    "clusters_df.head()"
   ]
  },
  {
   "cell_type": "code",
   "execution_count": 32,
   "id": "abdf40e2b2827570",
   "metadata": {
    "collapsed": false,
    "ExecuteTime": {
     "end_time": "2024-08-20T17:18:18.789834500Z",
     "start_time": "2024-08-20T17:18:18.132391500Z"
    }
   },
   "outputs": [
    {
     "data": {
      "text/plain": "<Figure size 640x480 with 1 Axes>",
      "image/png": "[encoded data removed]"
     },
     "metadata": {},
     "output_type": "display_data"
    }
   ],
   "source": [
    "# Visualize results of tweets and findings between Robert Kraft and Kraft Foods\n",
    "\n",
    "colors = ['blue', 'orange']\n",
    "categories = ['Robert Kraft', 'Kraft Foods']\n",
    "for i in range(count_clusters):\n",
    "    plt.scatter(model_res[kmeans.labels_ == i, 0], \n",
    "                model_res[kmeans.labels_ == i, 1], s=100, color=colors[i])\n",
    "plt.legend(categories)\n",
    "plt.title(\"Clustering between Robert Kraft and Kraft Foods\")\n",
    "plt.show()\n"
   ]
  },
  {
   "cell_type": "code",
   "execution_count": 32,
   "id": "790ed668b5cdd0c7",
   "metadata": {
    "collapsed": false,
    "ExecuteTime": {
     "end_time": "2024-08-20T17:18:18.836808Z",
     "start_time": "2024-08-20T17:18:18.792835200Z"
    }
   },
   "outputs": [],
   "source": []
  },
  {
   "cell_type": "code",
   "execution_count": 32,
   "id": "22644bf40784f2e",
   "metadata": {
    "collapsed": false,
    "ExecuteTime": {
     "end_time": "2024-08-20T17:18:19.028279Z",
     "start_time": "2024-08-20T17:18:18.805826Z"
    }
   },
   "outputs": [],
   "source": []
  },
  {
   "cell_type": "markdown",
   "source": [
    "Now, I will try a text clustering model where there are three (3) clusters of text, the new cluster being listed as <b>other</b>. \n",
    "This will also use the TfidfVectorizer package of the Scikit-Learn library. \n"
   ],
   "metadata": {
    "collapsed": false
   },
   "id": "81edbe78c56a19ee"
  },
  {
   "cell_type": "code",
   "execution_count": 33,
   "id": "8e160d4cbc467e53",
   "metadata": {
    "collapsed": false,
    "ExecuteTime": {
     "end_time": "2024-08-20T17:18:23.421775900Z",
     "start_time": "2024-08-20T17:18:18.821817300Z"
    }
   },
   "outputs": [
    {
     "data": {
      "text/plain": "KMeans(max_iter=100, n_clusters=3, n_init=5, random_state=42)",
      "text/html": "<style>#sk-container-id-2 {color: black;}#sk-container-id-2 pre{padding: 0;}#sk-container-id-2 div.sk-toggleable {background-color: white;}#sk-container-id-2 label.sk-toggleable__label {cursor: pointer;display: block;width: 100%;margin-bottom: 0;padding: 0.3em;box-sizing: border-box;text-align: center;}#sk-container-id-2 label.sk-toggleable__label-arrow:before {content: \"▸\";float: left;margin-right: 0.25em;color: #696969;}#sk-container-id-2 label.sk-toggleable__label-arrow:hover:before {color: black;}#sk-container-id-2 div.sk-estimator:hover label.sk-toggleable__label-arrow:before {color: black;}#sk-container-id-2 div.sk-toggleable__content {max-height: 0;max-width: 0;overflow: hidden;text-align: left;background-color: #f0f8ff;}#sk-container-id-2 div.sk-toggleable__content pre {margin: 0.2em;color: black;border-radius: 0.25em;background-color: #f0f8ff;}#sk-container-id-2 input.sk-toggleable__control:checked~div.sk-toggleable__content {max-height: 200px;max-width: 100%;overflow: auto;}#sk-container-id-2 input.sk-toggleable__control:checked~label.sk-toggleable__label-arrow:before {content: \"▾\";}#sk-container-id-2 div.sk-estimator input.sk-toggleable__control:checked~label.sk-toggleable__label {background-color: #d4ebff;}#sk-container-id-2 div.sk-label input.sk-toggleable__control:checked~label.sk-toggleable__label {background-color: #d4ebff;}#sk-container-id-2 input.sk-hidden--visually {border: 0;clip: rect(1px 1px 1px 1px);clip: rect(1px, 1px, 1px, 1px);height: 1px;margin: -1px;overflow: hidden;padding: 0;position: absolute;width: 1px;}#sk-container-id-2 div.sk-estimator {font-family: monospace;background-color: #f0f8ff;border: 1px dotted black;border-radius: 0.25em;box-sizing: border-box;margin-bottom: 0.5em;}#sk-container-id-2 div.sk-estimator:hover {background-color: #d4ebff;}#sk-container-id-2 div.sk-parallel-item::after {content: \"\";width: 100%;border-bottom: 1px solid gray;flex-grow: 1;}#sk-container-id-2 div.sk-label:hover label.sk-toggleable__label {background-color: #d4ebff;}#sk-container-id-2 div.sk-serial::before {content: \"\";position: absolute;border-left: 1px solid gray;box-sizing: border-box;top: 0;bottom: 0;left: 50%;z-index: 0;}#sk-container-id-2 div.sk-serial {display: flex;flex-direction: column;align-items: center;background-color: white;padding-right: 0.2em;padding-left: 0.2em;position: relative;}#sk-container-id-2 div.sk-item {position: relative;z-index: 1;}#sk-container-id-2 div.sk-parallel {display: flex;align-items: stretch;justify-content: center;background-color: white;position: relative;}#sk-container-id-2 div.sk-item::before, #sk-container-id-2 div.sk-parallel-item::before {content: \"\";position: absolute;border-left: 1px solid gray;box-sizing: border-box;top: 0;bottom: 0;left: 50%;z-index: -1;}#sk-container-id-2 div.sk-parallel-item {display: flex;flex-direction: column;z-index: 1;position: relative;background-color: white;}#sk-container-id-2 div.sk-parallel-item:first-child::after {align-self: flex-end;width: 50%;}#sk-container-id-2 div.sk-parallel-item:last-child::after {align-self: flex-start;width: 50%;}#sk-container-id-2 div.sk-parallel-item:only-child::after {width: 0;}#sk-container-id-2 div.sk-dashed-wrapped {border: 1px dashed gray;margin: 0 0.4em 0.5em 0.4em;box-sizing: border-box;padding-bottom: 0.4em;background-color: white;}#sk-container-id-2 div.sk-label label {font-family: monospace;font-weight: bold;display: inline-block;line-height: 1.2em;}#sk-container-id-2 div.sk-label-container {text-align: center;}#sk-container-id-2 div.sk-container {/* jupyter's `normalize.less` sets `[hidden] { display: none; }` but bootstrap.min.css set `[hidden] { display: none !important; }` so we also need the `!important` here to be able to override the default hidden behavior on the sphinx rendered scikit-learn.org. See: https://github.com/scikit-learn/scikit-learn/issues/21755 */display: inline-block !important;position: relative;}#sk-container-id-2 div.sk-text-repr-fallback {display: none;}</style><div id=\"sk-container-id-2\" class=\"sk-top-container\"><div class=\"sk-text-repr-fallback\"><pre>KMeans(max_iter=100, n_clusters=3, n_init=5, random_state=42)</pre><b>In a Jupyter environment, please rerun this cell to show the HTML representation or trust the notebook. <br />On GitHub, the HTML representation is unable to render, please try loading this page with nbviewer.org.</b></div><div class=\"sk-container\" hidden><div class=\"sk-item\"><div class=\"sk-estimator sk-toggleable\"><input class=\"sk-toggleable__control sk-hidden--visually\" id=\"sk-estimator-id-2\" type=\"checkbox\" checked><label for=\"sk-estimator-id-2\" class=\"sk-toggleable__label sk-toggleable__label-arrow\">KMeans</label><div class=\"sk-toggleable__content\"><pre>KMeans(max_iter=100, n_clusters=3, n_init=5, random_state=42)</pre></div></div></div></div></div>"
     },
     "execution_count": 33,
     "metadata": {},
     "output_type": "execute_result"
    }
   ],
   "source": [
    "count_clusters = 3\n",
    "\n",
    "vector = TfidfVectorizer(stop_words='english')\n",
    "\n",
    "tweets_vector = vector.fit_transform(arr_text)\n",
    "\n",
    "pca_model = PCA(n_components=count_clusters)\n",
    "model_res = pca_model.fit_transform(tweets_vector.toarray())\n",
    "\n",
    "kmeans = KMeans(n_clusters=count_clusters, n_init=5, max_iter=100, random_state=42)\n",
    "kmeans.fit(tweets_vector)\n"
   ]
  },
  {
   "cell_type": "code",
   "outputs": [
    {
     "data": {
      "text/plain": "<Figure size 640x480 with 1 Axes>",
      "image/png": "[encoded data removed]"
     },
     "metadata": {},
     "output_type": "display_data"
    }
   ],
   "source": [
    "colors = ['blue', 'orange', 'green']\n",
    "categories = ['Robert Kraft', 'Kraft Foods', 'other']\n",
    "for i in range(count_clusters):\n",
    "    plt.scatter(model_res[kmeans.labels_ == i, 0], \n",
    "                model_res[kmeans.labels_ == i, 1], s=100, color=colors[i])\n",
    "plt.legend(categories)\n",
    "plt.title(\"Clustering between Robert Kraft and Kraft Foods\")\n",
    "plt.show()"
   ],
   "metadata": {
    "collapsed": false,
    "ExecuteTime": {
     "end_time": "2024-08-20T17:18:23.921270900Z",
     "start_time": "2024-08-20T17:18:23.409183600Z"
    }
   },
   "id": "f40abe31642a9dbf",
   "execution_count": 34
  },
  {
   "cell_type": "code",
   "outputs": [
    {
     "data": {
      "text/plain": "<Figure size 640x480 with 1 Axes>",
      "image/png": "[encoded data removed]"
     },
     "metadata": {},
     "output_type": "display_data"
    }
   ],
   "source": [
    "# Make a histogram of the words in the tweets that appear the most often. \n",
    "\n",
    "plt.hist(kmeans.labels_)\n",
    "plt.show()\n"
   ],
   "metadata": {
    "collapsed": false,
    "ExecuteTime": {
     "end_time": "2024-08-20T17:18:24.220824800Z",
     "start_time": "2024-08-20T17:18:23.916462400Z"
    }
   },
   "id": "d11f2e287b798d0b",
   "execution_count": 35
  },
  {
   "cell_type": "code",
   "outputs": [
    {
     "data": {
      "text/plain": "'lloyd'"
     },
     "execution_count": 36,
     "metadata": {},
     "output_type": "execute_result"
    }
   ],
   "source": [
    "# The algorithm type being used for this version of KMeans with 3 clusters is \"Lloyd\"\n",
    "kmeans.algorithm"
   ],
   "metadata": {
    "collapsed": false,
    "ExecuteTime": {
     "end_time": "2024-08-20T17:18:24.350237700Z",
     "start_time": "2024-08-20T17:18:24.212993Z"
    }
   },
   "id": "76420dd057fa8b60",
   "execution_count": 36
  },
  {
   "cell_type": "code",
   "outputs": [
    {
     "data": {
      "text/plain": "KMeans(algorithm='elkan', max_iter=100, n_clusters=3, n_init=10,\n       random_state=42)",
      "text/html": "<style>#sk-container-id-3 {color: black;}#sk-container-id-3 pre{padding: 0;}#sk-container-id-3 div.sk-toggleable {background-color: white;}#sk-container-id-3 label.sk-toggleable__label {cursor: pointer;display: block;width: 100%;margin-bottom: 0;padding: 0.3em;box-sizing: border-box;text-align: center;}#sk-container-id-3 label.sk-toggleable__label-arrow:before {content: \"▸\";float: left;margin-right: 0.25em;color: #696969;}#sk-container-id-3 label.sk-toggleable__label-arrow:hover:before {color: black;}#sk-container-id-3 div.sk-estimator:hover label.sk-toggleable__label-arrow:before {color: black;}#sk-container-id-3 div.sk-toggleable__content {max-height: 0;max-width: 0;overflow: hidden;text-align: left;background-color: #f0f8ff;}#sk-container-id-3 div.sk-toggleable__content pre {margin: 0.2em;color: black;border-radius: 0.25em;background-color: #f0f8ff;}#sk-container-id-3 input.sk-toggleable__control:checked~div.sk-toggleable__content {max-height: 200px;max-width: 100%;overflow: auto;}#sk-container-id-3 input.sk-toggleable__control:checked~label.sk-toggleable__label-arrow:before {content: \"▾\";}#sk-container-id-3 div.sk-estimator input.sk-toggleable__control:checked~label.sk-toggleable__label {background-color: #d4ebff;}#sk-container-id-3 div.sk-label input.sk-toggleable__control:checked~label.sk-toggleable__label {background-color: #d4ebff;}#sk-container-id-3 input.sk-hidden--visually {border: 0;clip: rect(1px 1px 1px 1px);clip: rect(1px, 1px, 1px, 1px);height: 1px;margin: -1px;overflow: hidden;padding: 0;position: absolute;width: 1px;}#sk-container-id-3 div.sk-estimator {font-family: monospace;background-color: #f0f8ff;border: 1px dotted black;border-radius: 0.25em;box-sizing: border-box;margin-bottom: 0.5em;}#sk-container-id-3 div.sk-estimator:hover {background-color: #d4ebff;}#sk-container-id-3 div.sk-parallel-item::after {content: \"\";width: 100%;border-bottom: 1px solid gray;flex-grow: 1;}#sk-container-id-3 div.sk-label:hover label.sk-toggleable__label {background-color: #d4ebff;}#sk-container-id-3 div.sk-serial::before {content: \"\";position: absolute;border-left: 1px solid gray;box-sizing: border-box;top: 0;bottom: 0;left: 50%;z-index: 0;}#sk-container-id-3 div.sk-serial {display: flex;flex-direction: column;align-items: center;background-color: white;padding-right: 0.2em;padding-left: 0.2em;position: relative;}#sk-container-id-3 div.sk-item {position: relative;z-index: 1;}#sk-container-id-3 div.sk-parallel {display: flex;align-items: stretch;justify-content: center;background-color: white;position: relative;}#sk-container-id-3 div.sk-item::before, #sk-container-id-3 div.sk-parallel-item::before {content: \"\";position: absolute;border-left: 1px solid gray;box-sizing: border-box;top: 0;bottom: 0;left: 50%;z-index: -1;}#sk-container-id-3 div.sk-parallel-item {display: flex;flex-direction: column;z-index: 1;position: relative;background-color: white;}#sk-container-id-3 div.sk-parallel-item:first-child::after {align-self: flex-end;width: 50%;}#sk-container-id-3 div.sk-parallel-item:last-child::after {align-self: flex-start;width: 50%;}#sk-container-id-3 div.sk-parallel-item:only-child::after {width: 0;}#sk-container-id-3 div.sk-dashed-wrapped {border: 1px dashed gray;margin: 0 0.4em 0.5em 0.4em;box-sizing: border-box;padding-bottom: 0.4em;background-color: white;}#sk-container-id-3 div.sk-label label {font-family: monospace;font-weight: bold;display: inline-block;line-height: 1.2em;}#sk-container-id-3 div.sk-label-container {text-align: center;}#sk-container-id-3 div.sk-container {/* jupyter's `normalize.less` sets `[hidden] { display: none; }` but bootstrap.min.css set `[hidden] { display: none !important; }` so we also need the `!important` here to be able to override the default hidden behavior on the sphinx rendered scikit-learn.org. See: https://github.com/scikit-learn/scikit-learn/issues/21755 */display: inline-block !important;position: relative;}#sk-container-id-3 div.sk-text-repr-fallback {display: none;}</style><div id=\"sk-container-id-3\" class=\"sk-top-container\"><div class=\"sk-text-repr-fallback\"><pre>KMeans(algorithm=&#x27;elkan&#x27;, max_iter=100, n_clusters=3, n_init=10,\n       random_state=42)</pre><b>In a Jupyter environment, please rerun this cell to show the HTML representation or trust the notebook. <br />On GitHub, the HTML representation is unable to render, please try loading this page with nbviewer.org.</b></div><div class=\"sk-container\" hidden><div class=\"sk-item\"><div class=\"sk-estimator sk-toggleable\"><input class=\"sk-toggleable__control sk-hidden--visually\" id=\"sk-estimator-id-3\" type=\"checkbox\" checked><label for=\"sk-estimator-id-3\" class=\"sk-toggleable__label sk-toggleable__label-arrow\">KMeans</label><div class=\"sk-toggleable__content\"><pre>KMeans(algorithm=&#x27;elkan&#x27;, max_iter=100, n_clusters=3, n_init=10,\n       random_state=42)</pre></div></div></div></div></div>"
     },
     "execution_count": 37,
     "metadata": {},
     "output_type": "execute_result"
    }
   ],
   "source": [
    "# Try to now use Elkan, the other kind of algorithm\n",
    "count_clusters = 3\n",
    "\n",
    "vector = TfidfVectorizer(stop_words='english')\n",
    "\n",
    "tweets_vector = vector.fit_transform(arr_text)\n",
    "\n",
    "pca_model = PCA(n_components=count_clusters, random_state=24)\n",
    "model_res = pca_model.fit_transform(tweets_vector.toarray())\n",
    "\n",
    "kmeans = KMeans(n_clusters=count_clusters, n_init=10, max_iter=100, random_state=42, algorithm='elkan')\n",
    "kmeans.fit(tweets_vector)"
   ],
   "metadata": {
    "collapsed": false,
    "ExecuteTime": {
     "end_time": "2024-08-20T17:18:28.806092900Z",
     "start_time": "2024-08-20T17:18:24.242836500Z"
    }
   },
   "id": "c9b84d6611a63370",
   "execution_count": 37
  },
  {
   "cell_type": "code",
   "outputs": [
    {
     "name": "stderr",
     "output_type": "stream",
     "text": [
      "C:\\Users\\mjchin\\Anaconda3\\envs\\matt_py310\\lib\\site-packages\\matplotlib\\collections.py:963: RuntimeWarning: invalid value encountered in sqrt\n",
      "  scale = np.sqrt(self._sizes) * dpi / 72.0 * self._factor\n"
     ]
    },
    {
     "data": {
      "text/plain": "<Figure size 640x480 with 1 Axes>",
      "image/png": "[encoded data removed]"
     },
     "metadata": {},
     "output_type": "display_data"
    }
   ],
   "source": [
    "# Visualize results using Elkan algorithm\n",
    "colors = ['blue', 'orange', 'green']\n",
    "categories = ['Robert Kraft', 'Kraft Foods', 'other']\n",
    "for i in range(count_clusters):\n",
    "    plt.scatter(model_res[kmeans.labels_ == i, 0], \n",
    "                model_res[kmeans.labels_ == i, 1], \n",
    "                model_res[kmeans.labels_ == i, 2], color=colors[i])\n",
    "plt.legend(categories)\n",
    "plt.title(\"Clustering between Robert Kraft and Kraft Foods\")\n",
    "plt.show()"
   ],
   "metadata": {
    "collapsed": false,
    "ExecuteTime": {
     "end_time": "2024-08-20T17:18:29.384890600Z",
     "start_time": "2024-08-20T17:18:28.796373Z"
    }
   },
   "id": "1b13ad64e08523d2",
   "execution_count": 38
  },
  {
   "cell_type": "code",
   "outputs": [
    {
     "data": {
      "text/plain": "'elkan'"
     },
     "execution_count": 39,
     "metadata": {},
     "output_type": "execute_result"
    }
   ],
   "source": [
    "kmeans.algorithm"
   ],
   "metadata": {
    "collapsed": false,
    "ExecuteTime": {
     "end_time": "2024-08-20T17:18:29.523280500Z",
     "start_time": "2024-08-20T17:18:29.378609400Z"
    }
   },
   "id": "7a98e3650568d53f",
   "execution_count": 39
  },
  {
   "cell_type": "code",
   "outputs": [
    {
     "data": {
      "text/plain": "array([7.23253218e-04, 4.50593170e-04, 5.24726750e-04, ...,\n       6.06340382e-05, 1.30458294e-04, 6.85895290e-05])"
     },
     "execution_count": 40,
     "metadata": {},
     "output_type": "execute_result"
    }
   ],
   "source": [
    "# Mean of the training set\n",
    "pca_model.mean_"
   ],
   "metadata": {
    "collapsed": false,
    "ExecuteTime": {
     "end_time": "2024-08-20T17:18:29.526453400Z",
     "start_time": "2024-08-20T17:18:29.404086700Z"
    }
   },
   "id": "5cc20cf8259c5bd8",
   "execution_count": 40
  },
  {
   "cell_type": "code",
   "outputs": [
    {
     "data": {
      "text/plain": "13481"
     },
     "execution_count": 84,
     "metadata": {},
     "output_type": "execute_result"
    }
   ],
   "source": [
    "pca_model.n_features_"
   ],
   "metadata": {
    "collapsed": false,
    "ExecuteTime": {
     "end_time": "2024-08-20T20:24:40.105612100Z",
     "start_time": "2024-08-20T20:24:39.948704800Z"
    }
   },
   "id": "23b8bfe8a759f75a",
   "execution_count": 84
  },
  {
   "cell_type": "code",
   "outputs": [
    {
     "data": {
      "text/plain": "(6936,)"
     },
     "execution_count": 100,
     "metadata": {},
     "output_type": "execute_result"
    }
   ],
   "source": [
    "kmeans.labels_.shape"
   ],
   "metadata": {
    "collapsed": false,
    "ExecuteTime": {
     "end_time": "2024-08-20T20:40:33.295542900Z",
     "start_time": "2024-08-20T20:40:33.214594600Z"
    }
   },
   "id": "d2e19c84ab3dc8fd",
   "execution_count": 100
  },
  {
   "cell_type": "code",
   "outputs": [
    {
     "data": {
      "text/plain": "array([15.67716992, 13.81147809, 11.79622621])"
     },
     "execution_count": 112,
     "metadata": {},
     "output_type": "execute_result"
    }
   ],
   "source": [
    "pca_model.singular_values_"
   ],
   "metadata": {
    "collapsed": false,
    "ExecuteTime": {
     "end_time": "2024-08-20T20:44:10.027624800Z",
     "start_time": "2024-08-20T20:44:09.922686100Z"
    }
   },
   "id": "60e47d90bbbaa98a",
   "execution_count": 112
  },
  {
   "cell_type": "code",
   "outputs": [
    {
     "data": {
      "text/plain": "<Figure size 640x480 with 1 Axes>",
      "image/png": "[encoded data removed]"
     },
     "metadata": {},
     "output_type": "display_data"
    }
   ],
   "source": [
    "# plt.plot(pca_model.mean_, [0] * pca_model.mean_.shape[0], 'x', **kwargs)\n",
    "\n",
    "plt.plot(pca_model.mean_, np.zeros_like(pca_model.mean_) + 0., 'x')\n",
    "plt.ylim([-0.001, 0.001])\n",
    "plt.show()"
   ],
   "metadata": {
    "collapsed": false,
    "ExecuteTime": {
     "end_time": "2024-08-20T23:54:46.966828800Z",
     "start_time": "2024-08-20T23:54:46.694894600Z"
    }
   },
   "id": "fae4b0f314dc0919",
   "execution_count": 146
  },
  {
   "cell_type": "code",
   "outputs": [
    {
     "data": {
      "text/plain": "array([0.03606748, 0.02799373, 0.02042052])"
     },
     "execution_count": 41,
     "metadata": {},
     "output_type": "execute_result"
    }
   ],
   "source": [
    "# Get the explained variance ratio of the PCA model with the data used\n",
    "pca_model.explained_variance_ratio_"
   ],
   "metadata": {
    "collapsed": false,
    "ExecuteTime": {
     "end_time": "2024-08-20T17:18:29.557405600Z",
     "start_time": "2024-08-20T17:18:29.424976400Z"
    }
   },
   "id": "3603ea1939ab8a24",
   "execution_count": 41
  },
  {
   "cell_type": "code",
   "outputs": [
    {
     "data": {
      "text/plain": "array([0.0354396 , 0.02750641, 0.02006503])"
     },
     "execution_count": 57,
     "metadata": {},
     "output_type": "execute_result"
    }
   ],
   "source": [
    "pca_model.explained_variance_"
   ],
   "metadata": {
    "collapsed": false,
    "ExecuteTime": {
     "end_time": "2024-08-20T20:20:19.116594400Z",
     "start_time": "2024-08-20T20:20:18.980673900Z"
    }
   },
   "id": "40df98e9e0761ce3",
   "execution_count": 57
  },
  {
   "cell_type": "code",
   "outputs": [
    {
     "data": {
      "text/plain": "<Figure size 640x480 with 1 Axes>",
      "image/png": "[encoded data removed]"
     },
     "metadata": {},
     "output_type": "display_data"
    }
   ],
   "source": [
    "plt.scatter(pca_model.explained_variance_ratio_, pca_model.explained_variance_)\n",
    "plt.title(\"PCA Model Explained Variance to Explained Variance Ratio\")\n",
    "plt.xlabel(\"Model Explained Variance Ratio\")\n",
    "plt.ylabel(\"Model Explained Variance\")\n",
    "plt.show()"
   ],
   "metadata": {
    "collapsed": false,
    "ExecuteTime": {
     "end_time": "2024-08-20T20:45:11.148581300Z",
     "start_time": "2024-08-20T20:45:09.846666700Z"
    }
   },
   "id": "abecc056ad01a982",
   "execution_count": 113
  },
  {
   "cell_type": "code",
   "outputs": [
    {
     "data": {
      "text/plain": "6422.700043098024"
     },
     "execution_count": 42,
     "metadata": {},
     "output_type": "execute_result"
    }
   ],
   "source": [
    "kmeans.inertia_"
   ],
   "metadata": {
    "collapsed": false,
    "ExecuteTime": {
     "end_time": "2024-08-20T17:18:29.601953900Z",
     "start_time": "2024-08-20T17:18:29.450380900Z"
    }
   },
   "id": "da14777a83b634e9",
   "execution_count": 42
  },
  {
   "cell_type": "code",
   "outputs": [
    {
     "data": {
      "text/plain": "13481"
     },
     "execution_count": 43,
     "metadata": {},
     "output_type": "execute_result"
    }
   ],
   "source": [
    "pca_model.n_features_in_"
   ],
   "metadata": {
    "collapsed": false,
    "ExecuteTime": {
     "end_time": "2024-08-20T17:18:29.622033400Z",
     "start_time": "2024-08-20T17:18:29.463014600Z"
    }
   },
   "id": "8f4e2035daa66bdd",
   "execution_count": 43
  },
  {
   "cell_type": "code",
   "outputs": [
    {
     "data": {
      "text/plain": "array([0, 0, 0, ..., 1, 1, 0])"
     },
     "execution_count": 118,
     "metadata": {},
     "output_type": "execute_result"
    }
   ],
   "source": [
    "kmeans.labels_"
   ],
   "metadata": {
    "collapsed": false,
    "ExecuteTime": {
     "end_time": "2024-08-20T20:53:44.613049700Z",
     "start_time": "2024-08-20T20:53:44.529100200Z"
    }
   },
   "id": "b9242a5800c43ffa",
   "execution_count": 118
  },
  {
   "cell_type": "code",
   "outputs": [
    {
     "data": {
      "text/plain": "0"
     },
     "execution_count": 147,
     "metadata": {},
     "output_type": "execute_result"
    }
   ],
   "source": [
    "kmeans.verbose"
   ],
   "metadata": {
    "collapsed": false,
    "ExecuteTime": {
     "end_time": "2024-08-21T00:41:31.806534300Z",
     "start_time": "2024-08-21T00:41:31.713590500Z"
    }
   },
   "id": "e3697d4a87524fdf",
   "execution_count": 147
  },
  {
   "cell_type": "code",
   "outputs": [
    {
     "data": {
      "text/plain": "(6936, 3)"
     },
     "execution_count": 152,
     "metadata": {},
     "output_type": "execute_result"
    }
   ],
   "source": [
    "model_res.shape"
   ],
   "metadata": {
    "collapsed": false,
    "ExecuteTime": {
     "end_time": "2024-08-21T03:28:29.599732300Z",
     "start_time": "2024-08-21T03:28:29.523201400Z"
    }
   },
   "id": "b66189686fb0c2a9",
   "execution_count": 152
  },
  {
   "cell_type": "code",
   "outputs": [
    {
     "data": {
      "text/plain": "array([[-0.02646549, -0.06445492, -0.01559326],\n       [-0.02924226, -0.09721412, -0.02585357],\n       [-0.02924226, -0.09721412, -0.02585357],\n       ...,\n       [-0.39003903,  0.72776517,  0.07123537],\n       [-0.35921241,  0.64341851,  0.05684802],\n       [-0.05347809,  0.00770589, -0.00789759]])"
     },
     "execution_count": 157,
     "metadata": {},
     "output_type": "execute_result"
    }
   ],
   "source": [
    "model_res\n"
   ],
   "metadata": {
    "collapsed": false,
    "ExecuteTime": {
     "end_time": "2024-08-21T03:29:13.001692800Z",
     "start_time": "2024-08-21T03:29:12.919586100Z"
    }
   },
   "id": "781c9fb3fd39595b",
   "execution_count": 157
  },
  {
   "cell_type": "markdown",
   "source": [],
   "metadata": {
    "collapsed": false
   },
   "id": "9a75c0de8aff2a88"
  },
  {
   "cell_type": "markdown",
   "source": [],
   "metadata": {
    "collapsed": false
   },
   "id": "646c2330919fa895"
  },
  {
   "cell_type": "code",
   "outputs": [
    {
     "data": {
      "text/plain": "<Figure size 640x480 with 1 Axes>",
      "image/png": "[encoded data removed]"
     },
     "metadata": {},
     "output_type": "display_data"
    }
   ],
   "source": [
    "# Plots of the cluster centers\n",
    "plt.scatter(kmeans.cluster_centers_[:, 0], kmeans.cluster_centers_[:, 1], \n",
    "            s=100, c='black', marker='X')\n",
    "plt.scatter(kmeans.cluster_centers_[:, 1], kmeans.cluster_centers_[:, 2], \n",
    "            s=100, c='black', marker='X')\n",
    "plt.scatter(kmeans.cluster_centers_[:, 0], kmeans.cluster_centers_[:, 2], \n",
    "            s=100, c='black', marker='X')\n",
    "plt.show()"
   ],
   "metadata": {
    "collapsed": false,
    "ExecuteTime": {
     "end_time": "2024-08-21T03:48:44.889891700Z",
     "start_time": "2024-08-21T03:48:44.471854900Z"
    }
   },
   "id": "726fd2dc5ed78d0e",
   "execution_count": 183
  },
  {
   "cell_type": "code",
   "outputs": [
    {
     "data": {
      "text/plain": "<Figure size 640x480 with 1 Axes>",
      "image/png": "[encoded data removed]"
     },
     "metadata": {},
     "output_type": "display_data"
    }
   ],
   "source": [
    "plt.scatter(model_res[:, 0], model_res[:, 1])\n",
    "plt.show()"
   ],
   "metadata": {
    "collapsed": false,
    "ExecuteTime": {
     "end_time": "2024-08-21T03:48:51.414514200Z",
     "start_time": "2024-08-21T03:48:51.146033700Z"
    }
   },
   "id": "3a07d84629c6d30b",
   "execution_count": 184
  },
  {
   "cell_type": "code",
   "outputs": [],
   "source": [],
   "metadata": {
    "collapsed": false,
    "ExecuteTime": {
     "end_time": "2024-08-20T18:03:09.884901900Z",
     "start_time": "2024-08-20T18:03:09.730991Z"
    }
   },
   "id": "617c14880f2b3995",
   "execution_count": 46
  },
  {
   "cell_type": "code",
   "outputs": [],
   "source": [],
   "metadata": {
    "collapsed": false,
    "ExecuteTime": {
     "end_time": "2024-08-20T18:03:10.011498700Z",
     "start_time": "2024-08-20T18:03:09.871910800Z"
    }
   },
   "id": "9adfcdce0c72826b",
   "execution_count": 46
  },
  {
   "cell_type": "code",
   "outputs": [],
   "source": [],
   "metadata": {
    "collapsed": false,
    "ExecuteTime": {
     "end_time": "2024-08-20T18:03:10.178469Z",
     "start_time": "2024-08-20T18:03:09.970522400Z"
    }
   },
   "id": "75cf6bb4b7ff087e",
   "execution_count": 46
  },
  {
   "cell_type": "code",
   "outputs": [],
   "source": [],
   "metadata": {
    "collapsed": false,
    "ExecuteTime": {
     "end_time": "2024-08-20T18:03:10.268415800Z",
     "start_time": "2024-08-20T18:03:10.154480900Z"
    }
   },
   "id": "304995832bae2614",
   "execution_count": 46
  },
  {
   "cell_type": "code",
   "outputs": [],
   "source": [],
   "metadata": {
    "collapsed": false
   },
   "id": "986eed2ec24235dd"
  },
  {
   "cell_type": "code",
   "outputs": [],
   "source": [],
   "metadata": {
    "collapsed": false
   },
   "id": "d4b0e348ef5f4067"
  }
 ],
 "metadata": {
  "kernelspec": {
   "display_name": "Python 3 (ipykernel)",
   "language": "python",
   "name": "python3"
  },
  "language_info": {
   "codemirror_mode": {
    "name": "ipython",
    "version": 3
   },
   "file_extension": ".py",
   "mimetype": "text/x-python",
   "name": "python",
   "nbconvert_exporter": "python",
   "pygments_lexer": "ipython3",
   "version": "3.10.13"
  }
 },
 "nbformat": 4,
 "nbformat_minor": 5
}
